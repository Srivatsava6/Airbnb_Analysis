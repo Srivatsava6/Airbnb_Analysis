{
 "cells": [
  {
   "cell_type": "markdown",
   "metadata": {},
   "source": [
    "# Airbnb Listings Analysis – New York 2024\n",
    "\n",
    "## **Introduction**\n",
    "\n",
    "This project aims to analyze Airbnb listings in New York for 2024, focusing on trends, pricing, availability, and neighborhood dynamics. By examining over 20,000 listings, we seek to derive insights that can aid hosts, travelers, and policymakers in understanding the short-term rental market.\n",
    "\n",
    "## **Dataset Overview**\n",
    "\n",
    "The dataset contains 20,758 Airbnb listings in New York City with 22 columns, including:\n",
    "\n",
    "- *Listing details:* ID, name, room type, price, and availability.\n",
    "\n",
    "- *Host details:* Host ID, name, and number of listings.\n",
    "\n",
    "- *Location details:* Neighborhood, latitude, and longitude.\n",
    "\n",
    "- *Review metrics:* Number of reviews, last review date, and review frequency.\n",
    "\n",
    "- *Property details:* Bedrooms, beds, baths, and licensing information.\n",
    "\n",
    "## **Dateset link**\n",
    "https://www.kaggle.com/datasets/vrindakallu/new-york-dataset\n",
    "\n",
    "## **Methodology used**\n",
    "\n",
    "### **1. Initial Data Inspection**  \n",
    "- The dataset contained 20,758 records with 22 columns, and none of the columns had null values.\n",
    "\n",
    "### **2. Filtering the Data**  \n",
    "- Only records from the year 2023 were retained, reducing the dataset to 15,733 records.\n",
    "\n",
    "### **3. Handling Missing and Outlier Values**  \n",
    "- The minimum_nights column was capped at a maximum of 90 days. Any values exceeding 90 were set to NA and replaced with the median.  \n",
    "- The price column showed a high skewness (85.65), so extreme values were replaced with the median.  \n",
    "- Missing bath values were filled with the mode.  \n",
    "- Missing ratings were marked as NA, and their percentage was calculated (14.2%).  \n",
    "\n",
    "### **4. Date Column Transformation**  \n",
    "- The last_review column was converted into a datetime format.  \n",
    "- Extracted last_review_year and last_review_month from the last_review column.  \n",
    "\n",
    "### **5. Feature Engineering**  \n",
    "- Created a new price_per_day variable by dividing price by minimum_nights.  \n",
    "- Categorized `price` into the following groups:  \n",
    "  - **Economy** (<3)  \n",
    "  - **Budget** (3-8)  \n",
    "  - **Mid-range** (8-30)  \n",
    "  - **Premium** (30-100)  \n",
    "  - **Luxury** (>100)  \n",
    "- Converted `rating` from object type to numerical for analysis.  \n",
    "\n",
    "### **6. Type Conversion**  \n",
    "- Converted last_review to a datetime format.  \n",
    "- Converted rating from object to float.  \n",
    "- Converted price, minimum_nights, and baths to integer where necessary.  \n",
    "- Changed bedrooms column to numeric format using to_numeric().  \n",
    "\n",
    "### **7. Cleaning and Transforming Text Data**  \n",
    "- In the name column, removed extra descriptions after the first occurrence of \"·\".  \n",
    "- In the bedrooms column, replaced \"Studio\" with the actual number of beds found in the name column using regex.  \n",
    "- Converted \"Not specified\" values in the `baths` column to NA.  \n",
    "\n",
    "### **8. Dropping Unnecessary Columns**  \n",
    "- The `id` column was removed as it served no analytical purpose.  \n",
    "\n",
    "This structured data preparation ensured that the dataset was clean, consistent, and ready for further analysis.\n"
   ]
  },
  {
   "cell_type": "code",
   "execution_count": 312,
   "metadata": {
    "id": "H9jHZsENxKtV"
   },
   "outputs": [],
   "source": [
    "import pandas as pd\n",
    "import numpy as np\n",
    "import matplotlib.pyplot as plt\n",
    "import seaborn as sns\n",
    "from scipy.stats import skew"
   ]
  },
  {
   "cell_type": "code",
   "execution_count": 313,
   "metadata": {
    "colab": {
     "base_uri": "https://localhost:8080/"
    },
    "id": "gIcWqkWmmyQ2",
    "outputId": "a26585fb-234a-4fb3-df63-784757c34966"
   },
   "outputs": [
    {
     "name": "stdout",
     "output_type": "stream",
     "text": [
      "Manhattan: $950000 - Expensive\n",
      "Brooklyn: $750000 - Moderate\n",
      "Queens: $600000 - Moderate\n",
      "Bronx: $450000 - Affordable\n",
      "Staten Island: $400000 - Affordable\n"
     ]
    }
   ],
   "source": [
    "\n",
    "city = \"New York\"\n",
    "\n",
    "neighborhoods = [\"Manhattan\", \"Brooklyn\", \"Queens\", \"Bronx\", \"Staten Island\"]\n",
    "\n",
    "property_prices = {\n",
    "    \"Manhattan\": 950000,\n",
    "    \"Brooklyn\": 750000,\n",
    "    \"Queens\": 600000,\n",
    "    \"Bronx\": 450000,\n",
    "    \"Staten Island\": 400000\n",
    "}\n",
    "\n",
    "for neighborhood in neighborhoods:\n",
    "    price = property_prices[neighborhood]\n",
    "\n",
    "    if price > 800000:\n",
    "        category = \"Expensive\"\n",
    "    elif price > 500000:\n",
    "        category = \"Moderate\"\n",
    "    else:\n",
    "        category = \"Affordable\"\n",
    "\n",
    "    print(f\"{neighborhood}: ${price} - {category}\")\n"
   ]
  },
  {
   "cell_type": "markdown",
   "metadata": {},
   "source": [
    "Reading the new_york_listings_2024.csv"
   ]
  },
  {
   "cell_type": "code",
   "execution_count": 315,
   "metadata": {
    "colab": {
     "base_uri": "https://localhost:8080/"
    },
    "id": "48EpCDj7zXDU",
    "outputId": "377272ae-c440-4ad4-a246-424952d926d9"
   },
   "outputs": [],
   "source": [
    "data = pd.read_csv(r'C:\\Users\\Srivatsava CK\\OneDrive\\data\\new_york_listings_2024.csv')"
   ]
  },
  {
   "cell_type": "code",
   "execution_count": 316,
   "metadata": {
    "id": "FCUcHAF6zGBA"
   },
   "outputs": [],
   "source": [
    "pd.set_option('display.max_columns',None)"
   ]
  },
  {
   "cell_type": "markdown",
   "metadata": {},
   "source": [
    "Display the first 5 rows of the dataset."
   ]
  },
  {
   "cell_type": "code",
   "execution_count": 318,
   "metadata": {
    "colab": {
     "base_uri": "https://localhost:8080/",
     "height": 677
    },
    "id": "EE7gob-zyI_F",
    "outputId": "e58947c4-f64b-4522-ef21-77195d042dff"
   },
   "outputs": [
    {
     "data": {
      "text/html": [
       "<div>\n",
       "<style scoped>\n",
       "    .dataframe tbody tr th:only-of-type {\n",
       "        vertical-align: middle;\n",
       "    }\n",
       "\n",
       "    .dataframe tbody tr th {\n",
       "        vertical-align: top;\n",
       "    }\n",
       "\n",
       "    .dataframe thead th {\n",
       "        text-align: right;\n",
       "    }\n",
       "</style>\n",
       "<table border=\"1\" class=\"dataframe\">\n",
       "  <thead>\n",
       "    <tr style=\"text-align: right;\">\n",
       "      <th></th>\n",
       "      <th>id</th>\n",
       "      <th>name</th>\n",
       "      <th>host_id</th>\n",
       "      <th>host_name</th>\n",
       "      <th>neighbourhood_group</th>\n",
       "      <th>neighbourhood</th>\n",
       "      <th>latitude</th>\n",
       "      <th>longitude</th>\n",
       "      <th>room_type</th>\n",
       "      <th>price</th>\n",
       "      <th>minimum_nights</th>\n",
       "      <th>number_of_reviews</th>\n",
       "      <th>last_review</th>\n",
       "      <th>reviews_per_month</th>\n",
       "      <th>calculated_host_listings_count</th>\n",
       "      <th>availability_365</th>\n",
       "      <th>number_of_reviews_ltm</th>\n",
       "      <th>license</th>\n",
       "      <th>rating</th>\n",
       "      <th>bedrooms</th>\n",
       "      <th>beds</th>\n",
       "      <th>baths</th>\n",
       "    </tr>\n",
       "  </thead>\n",
       "  <tbody>\n",
       "    <tr>\n",
       "      <th>0</th>\n",
       "      <td>1312228</td>\n",
       "      <td>Rental unit in Brooklyn · ★5.0 · 1 bedroom</td>\n",
       "      <td>7130382</td>\n",
       "      <td>Walter</td>\n",
       "      <td>Brooklyn</td>\n",
       "      <td>Clinton Hill</td>\n",
       "      <td>40.683710</td>\n",
       "      <td>-73.964610</td>\n",
       "      <td>Private room</td>\n",
       "      <td>55.0</td>\n",
       "      <td>30</td>\n",
       "      <td>3</td>\n",
       "      <td>2015-12-20</td>\n",
       "      <td>0.03</td>\n",
       "      <td>1</td>\n",
       "      <td>0</td>\n",
       "      <td>0</td>\n",
       "      <td>No License</td>\n",
       "      <td>5.0</td>\n",
       "      <td>1</td>\n",
       "      <td>1</td>\n",
       "      <td>Not specified</td>\n",
       "    </tr>\n",
       "    <tr>\n",
       "      <th>1</th>\n",
       "      <td>45277537</td>\n",
       "      <td>Rental unit in New York · ★4.67 · 2 bedrooms ·...</td>\n",
       "      <td>51501835</td>\n",
       "      <td>Jeniffer</td>\n",
       "      <td>Manhattan</td>\n",
       "      <td>Hell's Kitchen</td>\n",
       "      <td>40.766610</td>\n",
       "      <td>-73.988100</td>\n",
       "      <td>Entire home/apt</td>\n",
       "      <td>144.0</td>\n",
       "      <td>30</td>\n",
       "      <td>9</td>\n",
       "      <td>2023-05-01</td>\n",
       "      <td>0.24</td>\n",
       "      <td>139</td>\n",
       "      <td>364</td>\n",
       "      <td>2</td>\n",
       "      <td>No License</td>\n",
       "      <td>4.67</td>\n",
       "      <td>2</td>\n",
       "      <td>1</td>\n",
       "      <td>1</td>\n",
       "    </tr>\n",
       "    <tr>\n",
       "      <th>2</th>\n",
       "      <td>971353993633883038</td>\n",
       "      <td>Rental unit in New York · ★4.17 · 1 bedroom · ...</td>\n",
       "      <td>528871354</td>\n",
       "      <td>Joshua</td>\n",
       "      <td>Manhattan</td>\n",
       "      <td>Chelsea</td>\n",
       "      <td>40.750764</td>\n",
       "      <td>-73.994605</td>\n",
       "      <td>Entire home/apt</td>\n",
       "      <td>187.0</td>\n",
       "      <td>2</td>\n",
       "      <td>6</td>\n",
       "      <td>2023-12-18</td>\n",
       "      <td>1.67</td>\n",
       "      <td>1</td>\n",
       "      <td>343</td>\n",
       "      <td>6</td>\n",
       "      <td>Exempt</td>\n",
       "      <td>4.17</td>\n",
       "      <td>1</td>\n",
       "      <td>2</td>\n",
       "      <td>1</td>\n",
       "    </tr>\n",
       "    <tr>\n",
       "      <th>3</th>\n",
       "      <td>3857863</td>\n",
       "      <td>Rental unit in New York · ★4.64 · 1 bedroom · ...</td>\n",
       "      <td>19902271</td>\n",
       "      <td>John And Catherine</td>\n",
       "      <td>Manhattan</td>\n",
       "      <td>Washington Heights</td>\n",
       "      <td>40.835600</td>\n",
       "      <td>-73.942500</td>\n",
       "      <td>Private room</td>\n",
       "      <td>120.0</td>\n",
       "      <td>30</td>\n",
       "      <td>156</td>\n",
       "      <td>2023-09-17</td>\n",
       "      <td>1.38</td>\n",
       "      <td>2</td>\n",
       "      <td>363</td>\n",
       "      <td>12</td>\n",
       "      <td>No License</td>\n",
       "      <td>4.64</td>\n",
       "      <td>1</td>\n",
       "      <td>1</td>\n",
       "      <td>1</td>\n",
       "    </tr>\n",
       "    <tr>\n",
       "      <th>4</th>\n",
       "      <td>40896611</td>\n",
       "      <td>Condo in New York · ★4.91 · Studio · 1 bed · 1...</td>\n",
       "      <td>61391963</td>\n",
       "      <td>Stay With Vibe</td>\n",
       "      <td>Manhattan</td>\n",
       "      <td>Murray Hill</td>\n",
       "      <td>40.751120</td>\n",
       "      <td>-73.978600</td>\n",
       "      <td>Entire home/apt</td>\n",
       "      <td>85.0</td>\n",
       "      <td>30</td>\n",
       "      <td>11</td>\n",
       "      <td>2023-12-03</td>\n",
       "      <td>0.24</td>\n",
       "      <td>133</td>\n",
       "      <td>335</td>\n",
       "      <td>3</td>\n",
       "      <td>No License</td>\n",
       "      <td>4.91</td>\n",
       "      <td>Studio</td>\n",
       "      <td>1</td>\n",
       "      <td>1</td>\n",
       "    </tr>\n",
       "  </tbody>\n",
       "</table>\n",
       "</div>"
      ],
      "text/plain": [
       "                   id                                               name  \\\n",
       "0             1312228         Rental unit in Brooklyn · ★5.0 · 1 bedroom   \n",
       "1            45277537  Rental unit in New York · ★4.67 · 2 bedrooms ·...   \n",
       "2  971353993633883038  Rental unit in New York · ★4.17 · 1 bedroom · ...   \n",
       "3             3857863  Rental unit in New York · ★4.64 · 1 bedroom · ...   \n",
       "4            40896611  Condo in New York · ★4.91 · Studio · 1 bed · 1...   \n",
       "\n",
       "     host_id           host_name neighbourhood_group       neighbourhood  \\\n",
       "0    7130382              Walter            Brooklyn        Clinton Hill   \n",
       "1   51501835            Jeniffer           Manhattan      Hell's Kitchen   \n",
       "2  528871354              Joshua           Manhattan             Chelsea   \n",
       "3   19902271  John And Catherine           Manhattan  Washington Heights   \n",
       "4   61391963      Stay With Vibe           Manhattan         Murray Hill   \n",
       "\n",
       "    latitude  longitude        room_type  price  minimum_nights  \\\n",
       "0  40.683710 -73.964610     Private room   55.0              30   \n",
       "1  40.766610 -73.988100  Entire home/apt  144.0              30   \n",
       "2  40.750764 -73.994605  Entire home/apt  187.0               2   \n",
       "3  40.835600 -73.942500     Private room  120.0              30   \n",
       "4  40.751120 -73.978600  Entire home/apt   85.0              30   \n",
       "\n",
       "   number_of_reviews last_review  reviews_per_month  \\\n",
       "0                  3  2015-12-20               0.03   \n",
       "1                  9  2023-05-01               0.24   \n",
       "2                  6  2023-12-18               1.67   \n",
       "3                156  2023-09-17               1.38   \n",
       "4                 11  2023-12-03               0.24   \n",
       "\n",
       "   calculated_host_listings_count  availability_365  number_of_reviews_ltm  \\\n",
       "0                               1                 0                      0   \n",
       "1                             139               364                      2   \n",
       "2                               1               343                      6   \n",
       "3                               2               363                     12   \n",
       "4                             133               335                      3   \n",
       "\n",
       "      license rating bedrooms  beds          baths  \n",
       "0  No License   5.0         1     1  Not specified  \n",
       "1  No License  4.67         2     1              1  \n",
       "2      Exempt  4.17         1     2              1  \n",
       "3  No License  4.64         1     1              1  \n",
       "4  No License  4.91    Studio     1              1  "
      ]
     },
     "execution_count": 318,
     "metadata": {},
     "output_type": "execute_result"
    }
   ],
   "source": [
    "data.head()"
   ]
  },
  {
   "cell_type": "markdown",
   "metadata": {
    "colab": {
     "base_uri": "https://localhost:8080/",
     "height": 677
    },
    "id": "EE7gob-zyI_F",
    "outputId": "e58947c4-f64b-4522-ef21-77195d042dff"
   },
   "source": [
    "Understanding the Dataset Structure"
   ]
  },
  {
   "cell_type": "code",
   "execution_count": 320,
   "metadata": {
    "colab": {
     "base_uri": "https://localhost:8080/"
    },
    "id": "U46U9VEAznrO",
    "outputId": "0fdc91ee-7ac0-428a-e7fd-fff3f42f6612"
   },
   "outputs": [
    {
     "data": {
      "text/plain": [
       "(20758, 22)"
      ]
     },
     "execution_count": 320,
     "metadata": {},
     "output_type": "execute_result"
    }
   ],
   "source": [
    "data.shape"
   ]
  },
  {
   "cell_type": "code",
   "execution_count": 321,
   "metadata": {
    "colab": {
     "base_uri": "https://localhost:8080/"
    },
    "id": "GBf4t2zbzprB",
    "outputId": "238861b2-13e4-40be-f0b0-8b9d21f869a7"
   },
   "outputs": [
    {
     "data": {
      "text/plain": [
       "Index(['id', 'name', 'host_id', 'host_name', 'neighbourhood_group',\n",
       "       'neighbourhood', 'latitude', 'longitude', 'room_type', 'price',\n",
       "       'minimum_nights', 'number_of_reviews', 'last_review',\n",
       "       'reviews_per_month', 'calculated_host_listings_count',\n",
       "       'availability_365', 'number_of_reviews_ltm', 'license', 'rating',\n",
       "       'bedrooms', 'beds', 'baths'],\n",
       "      dtype='object')"
      ]
     },
     "execution_count": 321,
     "metadata": {},
     "output_type": "execute_result"
    }
   ],
   "source": [
    "data.columns"
   ]
  },
  {
   "cell_type": "code",
   "execution_count": 322,
   "metadata": {
    "colab": {
     "base_uri": "https://localhost:8080/"
    },
    "id": "by4ZFvI0ztI-",
    "outputId": "240f0818-1d69-4893-dce3-29a894fcf913"
   },
   "outputs": [
    {
     "name": "stdout",
     "output_type": "stream",
     "text": [
      "<class 'pandas.core.frame.DataFrame'>\n",
      "RangeIndex: 20758 entries, 0 to 20757\n",
      "Data columns (total 22 columns):\n",
      " #   Column                          Non-Null Count  Dtype  \n",
      "---  ------                          --------------  -----  \n",
      " 0   id                              20758 non-null  int64  \n",
      " 1   name                            20758 non-null  object \n",
      " 2   host_id                         20758 non-null  int64  \n",
      " 3   host_name                       20758 non-null  object \n",
      " 4   neighbourhood_group             20758 non-null  object \n",
      " 5   neighbourhood                   20758 non-null  object \n",
      " 6   latitude                        20758 non-null  float64\n",
      " 7   longitude                       20758 non-null  float64\n",
      " 8   room_type                       20758 non-null  object \n",
      " 9   price                           20758 non-null  float64\n",
      " 10  minimum_nights                  20758 non-null  int64  \n",
      " 11  number_of_reviews               20758 non-null  int64  \n",
      " 12  last_review                     20758 non-null  object \n",
      " 13  reviews_per_month               20758 non-null  float64\n",
      " 14  calculated_host_listings_count  20758 non-null  int64  \n",
      " 15  availability_365                20758 non-null  int64  \n",
      " 16  number_of_reviews_ltm           20758 non-null  int64  \n",
      " 17  license                         20758 non-null  object \n",
      " 18  rating                          20758 non-null  object \n",
      " 19  bedrooms                        20758 non-null  object \n",
      " 20  beds                            20758 non-null  int64  \n",
      " 21  baths                           20758 non-null  object \n",
      "dtypes: float64(4), int64(8), object(10)\n",
      "memory usage: 3.5+ MB\n"
     ]
    }
   ],
   "source": [
    "data.info()"
   ]
  },
  {
   "cell_type": "markdown",
   "metadata": {
    "id": "Tp6VK6-Ez1FT"
   },
   "source": [
    "From the above data we can see that there are 20758 records 22 columns and none of the columns have null values"
   ]
  },
  {
   "cell_type": "markdown",
   "metadata": {},
   "source": [
    "### Data Preparation"
   ]
  },
  {
   "cell_type": "code",
   "execution_count": 325,
   "metadata": {
    "colab": {
     "base_uri": "https://localhost:8080/",
     "height": 489
    },
    "id": "bP17WIQa82jr",
    "outputId": "a80de8b2-1f9d-456b-d08f-8fd34ebf9ef5"
   },
   "outputs": [
    {
     "data": {
      "text/plain": [
       "id\n",
       "1312228               1\n",
       "780793386308713533    1\n",
       "21275075              1\n",
       "33113990              1\n",
       "32244865              1\n",
       "                     ..\n",
       "30441377              1\n",
       "38486378              1\n",
       "53709151              1\n",
       "34673353              1\n",
       "566029911248687183    1\n",
       "Name: count, Length: 20758, dtype: int64"
      ]
     },
     "execution_count": 325,
     "metadata": {},
     "output_type": "execute_result"
    }
   ],
   "source": [
    "data['id'].value_counts()"
   ]
  },
  {
   "cell_type": "markdown",
   "metadata": {},
   "source": [
    "Each row has a unique ID, but the ID column is not useful.\n",
    "\n",
    "Since each row has a unique ID, we are dropping the ID column as it serves no purpose for the analysis."
   ]
  },
  {
   "cell_type": "code",
   "execution_count": 327,
   "metadata": {
    "id": "S-RFKhcp0Vqr"
   },
   "outputs": [],
   "source": [
    "data.drop('id',axis=1,inplace=True)"
   ]
  },
  {
   "cell_type": "markdown",
   "metadata": {},
   "source": [
    "Converting the last_review column into a datetime format.\n",
    "\n",
    "Extracting the year from last_review and store it in the last_review_year column.\n",
    "\n",
    "Extracting the month from last_review and store it in the last_review_month column."
   ]
  },
  {
   "cell_type": "code",
   "execution_count": 329,
   "metadata": {
    "id": "71yHGOd4mLmv"
   },
   "outputs": [],
   "source": [
    "data['last_review'] = pd.to_datetime(data['last_review'])\n",
    "data['last_review_year'] = data['last_review'].dt.year\n",
    "data['last_review_month']= data['last_review'].dt.month"
   ]
  },
  {
   "cell_type": "markdown",
   "metadata": {},
   "source": [
    "In summary, the code is replacing each numeric month (e.g., 1 for January) in the last_review_month column with the corresponding month abbreviation (e.g., 'Jan')."
   ]
  },
  {
   "cell_type": "code",
   "execution_count": 331,
   "metadata": {
    "id": "-hZhdLnQOktX"
   },
   "outputs": [],
   "source": [
    "import calendar\n",
    "data['last_review_month'] = data['last_review_month'].apply(lambda x: calendar.month_abbr[x])"
   ]
  },
  {
   "cell_type": "markdown",
   "metadata": {},
   "source": [
    "Counting the occurrences of each unique year in the last_review_year column"
   ]
  },
  {
   "cell_type": "code",
   "execution_count": 333,
   "metadata": {
    "colab": {
     "base_uri": "https://localhost:8080/",
     "height": 554
    },
    "id": "ByN7sQC8nNL2",
    "outputId": "18ec653b-2fd7-4ca2-a0bb-2f8679936aa0"
   },
   "outputs": [
    {
     "data": {
      "text/plain": [
       "last_review_year\n",
       "2023    15733\n",
       "2022     1697\n",
       "2020      830\n",
       "2019      701\n",
       "2021      675\n",
       "2024      596\n",
       "2018      230\n",
       "2016      105\n",
       "2017      103\n",
       "2015       49\n",
       "2014       19\n",
       "2013       13\n",
       "2012        6\n",
       "2011        1\n",
       "Name: count, dtype: int64"
      ]
     },
     "execution_count": 333,
     "metadata": {},
     "output_type": "execute_result"
    }
   ],
   "source": [
    "data['last_review_year'].value_counts()"
   ]
  },
  {
   "cell_type": "markdown",
   "metadata": {},
   "source": [
    "We will be analyzing 15,733 records of data.\n",
    "\n",
    "Filtering the data to retain only rows where the 'last_review_year' is 2023, as we can consider reviews not from 2023 as outdated.\n",
    "\n",
    "We will only analyze data with 15,733 records in a last review year of 2023."
   ]
  },
  {
   "cell_type": "code",
   "execution_count": 335,
   "metadata": {
    "id": "dIINuKQol2hg"
   },
   "outputs": [],
   "source": [
    "data = data[data['last_review_year'] == 2023]"
   ]
  },
  {
   "cell_type": "code",
   "execution_count": 336,
   "metadata": {
    "colab": {
     "base_uri": "https://localhost:8080/"
    },
    "id": "ZZpvU8hU4H2_",
    "outputId": "2afdcdd0-86b4-44fd-baa1-12208cdb3f4a"
   },
   "outputs": [
    {
     "data": {
      "text/plain": [
       "Index(['name', 'host_id', 'host_name', 'neighbourhood_group', 'neighbourhood',\n",
       "       'latitude', 'longitude', 'room_type', 'price', 'minimum_nights',\n",
       "       'number_of_reviews', 'last_review', 'reviews_per_month',\n",
       "       'calculated_host_listings_count', 'availability_365',\n",
       "       'number_of_reviews_ltm', 'license', 'rating', 'bedrooms', 'beds',\n",
       "       'baths', 'last_review_year', 'last_review_month'],\n",
       "      dtype='object')"
      ]
     },
     "execution_count": 336,
     "metadata": {},
     "output_type": "execute_result"
    }
   ],
   "source": [
    "data.columns"
   ]
  },
  {
   "cell_type": "code",
   "execution_count": 337,
   "metadata": {
    "colab": {
     "base_uri": "https://localhost:8080/",
     "height": 489
    },
    "id": "VTbyeMIW9Vf4",
    "outputId": "548ba298-e097-4f32-b956-09f4832a3932"
   },
   "outputs": [
    {
     "data": {
      "text/plain": [
       "host_id\n",
       "162280872    127\n",
       "51501835     104\n",
       "61391963      91\n",
       "219517861     79\n",
       "137358866     77\n",
       "            ... \n",
       "36907706       1\n",
       "415120         1\n",
       "10337114       1\n",
       "33188          1\n",
       "93827372       1\n",
       "Name: count, Length: 9553, dtype: int64"
      ]
     },
     "execution_count": 337,
     "metadata": {},
     "output_type": "execute_result"
    }
   ],
   "source": [
    "data['host_id'].value_counts()"
   ]
  },
  {
   "cell_type": "markdown",
   "metadata": {
    "id": "MBfsM0cH9zH4"
   },
   "source": [
    "we can see there are 9553 unique host_id, we might need this column for analyis purpose later"
   ]
  },
  {
   "cell_type": "code",
   "execution_count": 339,
   "metadata": {
    "colab": {
     "base_uri": "https://localhost:8080/"
    },
    "id": "CcbQ8fNgArIh",
    "outputId": "bca01b35-006d-425e-c1f0-e0b430a7197f"
   },
   "outputs": [
    {
     "data": {
      "text/plain": [
       "4763"
      ]
     },
     "execution_count": 339,
     "metadata": {},
     "output_type": "execute_result"
    }
   ],
   "source": [
    "data['host_name'].nunique()"
   ]
  },
  {
   "cell_type": "markdown",
   "metadata": {},
   "source": [
    "we have 4763 unique host names"
   ]
  },
  {
   "cell_type": "code",
   "execution_count": 341,
   "metadata": {
    "colab": {
     "base_uri": "https://localhost:8080/"
    },
    "id": "PE_o1uNj440T",
    "outputId": "47c3b93d-798b-4bb5-c74a-90f689d3f6a9"
   },
   "outputs": [
    {
     "data": {
      "text/plain": [
       "array(['Manhattan', 'Brooklyn', 'Queens', 'Staten Island', 'Bronx'],\n",
       "      dtype=object)"
      ]
     },
     "execution_count": 341,
     "metadata": {},
     "output_type": "execute_result"
    }
   ],
   "source": [
    "data[\"neighbourhood_group\"].unique()"
   ]
  },
  {
   "cell_type": "markdown",
   "metadata": {
    "id": "5JtIDn6vBCB4"
   },
   "source": [
    "we have 5 types of neighbourhood_group"
   ]
  },
  {
   "cell_type": "code",
   "execution_count": 343,
   "metadata": {
    "colab": {
     "base_uri": "https://localhost:8080/"
    },
    "id": "KLMidDe55NMq",
    "outputId": "02470dc2-e2b0-4cb3-e89b-a6f82382e70f"
   },
   "outputs": [
    {
     "data": {
      "text/plain": [
       "array([\"Hell's Kitchen\", 'Chelsea', 'Washington Heights', 'Murray Hill',\n",
       "       'Williamsburg', 'Sunset Park', 'Astoria', 'Financial District',\n",
       "       'Harlem', 'Flushing', 'Midtown', 'Greenpoint', 'Cypress Hills',\n",
       "       'Kensington', 'Port Richmond', 'East Village',\n",
       "       'Bedford-Stuyvesant', 'Gravesend', 'Gramercy', 'East Flatbush',\n",
       "       'St. George', 'South Ozone Park', 'Crown Heights', 'Wakefield',\n",
       "       'Forest Hills', 'Springfield Gardens', 'Belmont', 'Corona',\n",
       "       'Tremont', 'West Village', 'Elmhurst', 'Queens Village',\n",
       "       'Prospect-Lefferts Gardens', 'Fort Greene', 'Allerton', 'Bushwick',\n",
       "       'Boerum Hill', 'Upper West Side', 'Upper East Side',\n",
       "       'Richmond Hill', 'East Harlem', 'Morningside Heights', 'Flatlands',\n",
       "       'St. Albans', 'Flatbush', 'Bay Ridge', 'SoHo', 'Lower East Side',\n",
       "       'West Brighton', 'Parkchester', 'Brownsville', 'Woodside',\n",
       "       'Clinton Hill', 'Jackson Heights', 'Kew Gardens', 'Park Slope',\n",
       "       'Prospect Heights', 'Jamaica', 'Arrochar', 'Kew Gardens Hills',\n",
       "       'Laurelton', 'Morris Park', 'Rosedale', 'Arverne', 'Woodhaven',\n",
       "       'Norwood', 'East Elmhurst', 'Rosebank', 'Tompkinsville',\n",
       "       'East New York', 'Edenwald', 'Baychester', 'Far Rockaway',\n",
       "       'Ridgewood', 'Kingsbridge', 'Sheepshead Bay', 'Ditmars Steinway',\n",
       "       'Melrose', 'Theater District', 'Kips Bay', 'Nolita',\n",
       "       'Fresh Meadows', 'Glendale', 'Carroll Gardens', 'Mount Hope',\n",
       "       'Concourse Village', 'Windsor Terrace', 'Downtown Brooklyn',\n",
       "       'Maspeth', 'South Slope', 'University Heights', 'Chinatown',\n",
       "       \"Bull's Head\", 'Navy Yard', 'Stuyvesant Town', 'Midwood',\n",
       "       'Long Island City', 'Tribeca', 'Rockaway Beach', 'Oakwood',\n",
       "       'Sunnyside', 'Rego Park', 'Cobble Hill', 'Inwood',\n",
       "       'Jamaica Estates', 'Brooklyn Heights', 'DUMBO', 'Bath Beach',\n",
       "       'Mott Haven', 'Little Italy', 'College Point', 'Coney Island',\n",
       "       'Canarsie', 'Arden Heights', 'Bensonhurst', 'Howard Beach',\n",
       "       'Battery Park City', 'Cambria Heights', 'Vinegar Hill',\n",
       "       'Briarwood', 'Williamsbridge', 'Morris Heights', 'Gowanus',\n",
       "       'Shore Acres', 'Ozone Park', 'Whitestone', 'Unionport',\n",
       "       'Borough Park', 'Castle Hill', 'Flatiron District', 'Bayside',\n",
       "       'Bayswater', 'Port Morris', 'Bellerose', 'Greenwich Village',\n",
       "       'Mount Eden', 'Red Hook', 'Roosevelt Island', 'Civic Center',\n",
       "       'Mill Basin', 'North Riverdale', 'Clason Point', 'Eltingville',\n",
       "       'Woodrow', 'Clifton', 'Fort Hamilton', 'New Dorp Beach',\n",
       "       'Grant City', 'Edgemere', 'Lighthouse Hill', 'South Beach',\n",
       "       'Rossville', 'Randall Manor', 'New Brighton', 'Dyker Heights',\n",
       "       'Jamaica Hills', 'Emerson Hill', 'Pelham Bay', 'Bergen Beach',\n",
       "       'Van Nest', 'Longwood', 'Middle Village', 'Westchester Square',\n",
       "       'Spuyten Duyvil', 'Mariners Harbor', 'Fordham', 'Midland Beach',\n",
       "       'Concourse', 'Tottenville', 'Hunts Point', \"Prince's Bay\",\n",
       "       'Schuylerville', 'Hollis', 'Marble Hill', 'Brighton Beach',\n",
       "       'Co-op City', 'Stapleton', 'Claremont Village', 'Two Bridges',\n",
       "       'Concord', 'Holliswood', 'City Island', 'Eastchester',\n",
       "       'Columbia St', 'Douglaston', 'Pelham Gardens', 'Bronxdale',\n",
       "       'Fieldston', 'Morrisania', 'East Morrisania', 'Highbridge',\n",
       "       'Richmondtown', 'NoHo', 'Woodlawn', 'Bay Terrace', 'Huguenot',\n",
       "       'Throgs Neck', 'Silver Lake', 'Howland Hook', 'Gerritsen Beach',\n",
       "       'Graniteville', 'Riverdale', 'Dongan Hills', 'Great Kills',\n",
       "       'Sea Gate', 'New Springville', 'Grymes Hill', 'Castleton Corners',\n",
       "       'Soundview', 'Breezy Point', 'Olinville', 'Westerleigh',\n",
       "       'Bay Terrace, Staten Island', 'Manhattan Beach', 'Todt Hill',\n",
       "       'Neponsit', 'Belle Harbor', 'Willowbrook', 'Little Neck'],\n",
       "      dtype=object)"
      ]
     },
     "execution_count": 343,
     "metadata": {},
     "output_type": "execute_result"
    }
   ],
   "source": [
    "data[\"neighbourhood\"].unique()"
   ]
  },
  {
   "cell_type": "code",
   "execution_count": 344,
   "metadata": {},
   "outputs": [
    {
     "data": {
      "text/plain": [
       "219"
      ]
     },
     "execution_count": 344,
     "metadata": {},
     "output_type": "execute_result"
    }
   ],
   "source": [
    "data[\"neighbourhood\"].nunique()"
   ]
  },
  {
   "cell_type": "markdown",
   "metadata": {},
   "source": [
    "We have 219 unique neighbourhood names.\n",
    "\n",
    "Standardizing Neighborhood Names\n",
    "\n",
    "Converting neighborhood names to lowercase and sort them to check for inconsistencies."
   ]
  },
  {
   "cell_type": "code",
   "execution_count": 346,
   "metadata": {
    "id": "A1Ls7QgnDA8u"
   },
   "outputs": [],
   "source": [
    "data[\"neighbourhood\"] = data[\"neighbourhood\"].str.lower()"
   ]
  },
  {
   "cell_type": "code",
   "execution_count": 347,
   "metadata": {
    "colab": {
     "base_uri": "https://localhost:8080/"
    },
    "id": "lTAdEwSBBRkF",
    "outputId": "1216979c-2b8f-457d-e8b4-8502856324c9"
   },
   "outputs": [
    {
     "data": {
      "text/plain": [
       "array(['allerton', 'arden heights', 'arrochar', 'arverne', 'astoria',\n",
       "       'bath beach', 'battery park city', 'bay ridge', 'bay terrace',\n",
       "       'bay terrace, staten island', 'baychester', 'bayside', 'bayswater',\n",
       "       'bedford-stuyvesant', 'belle harbor', 'bellerose', 'belmont',\n",
       "       'bensonhurst', 'bergen beach', 'boerum hill', 'borough park',\n",
       "       'breezy point', 'briarwood', 'brighton beach', 'bronxdale',\n",
       "       'brooklyn heights', 'brownsville', \"bull's head\", 'bushwick',\n",
       "       'cambria heights', 'canarsie', 'carroll gardens', 'castle hill',\n",
       "       'castleton corners', 'chelsea', 'chinatown', 'city island',\n",
       "       'civic center', 'claremont village', 'clason point', 'clifton',\n",
       "       'clinton hill', 'co-op city', 'cobble hill', 'college point',\n",
       "       'columbia st', 'concord', 'concourse', 'concourse village',\n",
       "       'coney island', 'corona', 'crown heights', 'cypress hills',\n",
       "       'ditmars steinway', 'dongan hills', 'douglaston',\n",
       "       'downtown brooklyn', 'dumbo', 'dyker heights', 'east elmhurst',\n",
       "       'east flatbush', 'east harlem', 'east morrisania', 'east new york',\n",
       "       'east village', 'eastchester', 'edenwald', 'edgemere', 'elmhurst',\n",
       "       'eltingville', 'emerson hill', 'far rockaway', 'fieldston',\n",
       "       'financial district', 'flatbush', 'flatiron district', 'flatlands',\n",
       "       'flushing', 'fordham', 'forest hills', 'fort greene',\n",
       "       'fort hamilton', 'fresh meadows', 'gerritsen beach', 'glendale',\n",
       "       'gowanus', 'gramercy', 'graniteville', 'grant city', 'gravesend',\n",
       "       'great kills', 'greenpoint', 'greenwich village', 'grymes hill',\n",
       "       'harlem', \"hell's kitchen\", 'highbridge', 'hollis', 'holliswood',\n",
       "       'howard beach', 'howland hook', 'huguenot', 'hunts point',\n",
       "       'inwood', 'jackson heights', 'jamaica', 'jamaica estates',\n",
       "       'jamaica hills', 'kensington', 'kew gardens', 'kew gardens hills',\n",
       "       'kingsbridge', 'kips bay', 'laurelton', 'lighthouse hill',\n",
       "       'little italy', 'little neck', 'long island city', 'longwood',\n",
       "       'lower east side', 'manhattan beach', 'marble hill',\n",
       "       'mariners harbor', 'maspeth', 'melrose', 'middle village',\n",
       "       'midland beach', 'midtown', 'midwood', 'mill basin',\n",
       "       'morningside heights', 'morris heights', 'morris park',\n",
       "       'morrisania', 'mott haven', 'mount eden', 'mount hope',\n",
       "       'murray hill', 'navy yard', 'neponsit', 'new brighton',\n",
       "       'new dorp beach', 'new springville', 'noho', 'nolita',\n",
       "       'north riverdale', 'norwood', 'oakwood', 'olinville', 'ozone park',\n",
       "       'park slope', 'parkchester', 'pelham bay', 'pelham gardens',\n",
       "       'port morris', 'port richmond', \"prince's bay\", 'prospect heights',\n",
       "       'prospect-lefferts gardens', 'queens village', 'randall manor',\n",
       "       'red hook', 'rego park', 'richmond hill', 'richmondtown',\n",
       "       'ridgewood', 'riverdale', 'rockaway beach', 'roosevelt island',\n",
       "       'rosebank', 'rosedale', 'rossville', 'schuylerville', 'sea gate',\n",
       "       'sheepshead bay', 'shore acres', 'silver lake', 'soho',\n",
       "       'soundview', 'south beach', 'south ozone park', 'south slope',\n",
       "       'springfield gardens', 'spuyten duyvil', 'st. albans',\n",
       "       'st. george', 'stapleton', 'stuyvesant town', 'sunnyside',\n",
       "       'sunset park', 'theater district', 'throgs neck', 'todt hill',\n",
       "       'tompkinsville', 'tottenville', 'tremont', 'tribeca',\n",
       "       'two bridges', 'unionport', 'university heights',\n",
       "       'upper east side', 'upper west side', 'van nest', 'vinegar hill',\n",
       "       'wakefield', 'washington heights', 'west brighton', 'west village',\n",
       "       'westchester square', 'westerleigh', 'whitestone',\n",
       "       'williamsbridge', 'williamsburg', 'willowbrook', 'windsor terrace',\n",
       "       'woodhaven', 'woodlawn', 'woodrow', 'woodside'], dtype=object)"
      ]
     },
     "execution_count": 347,
     "metadata": {},
     "output_type": "execute_result"
    }
   ],
   "source": [
    "#sorting them in alphabetical order to check errors\n",
    "data[\"neighbourhood\"].sort_values().unique()"
   ]
  },
  {
   "cell_type": "code",
   "execution_count": 348,
   "metadata": {
    "colab": {
     "base_uri": "https://localhost:8080/"
    },
    "id": "KytP2FAJ5U2X",
    "outputId": "d4dd3085-840c-4aa2-ae50-51279d721408"
   },
   "outputs": [
    {
     "data": {
      "text/plain": [
       "219"
      ]
     },
     "execution_count": 348,
     "metadata": {},
     "output_type": "execute_result"
    }
   ],
   "source": [
    "data[\"neighbourhood\"].nunique()"
   ]
  },
  {
   "cell_type": "markdown",
   "metadata": {
    "id": "XltD0yIeCVuS"
   },
   "source": [
    "There are no inconsistencies in neighbourwood columns"
   ]
  },
  {
   "cell_type": "code",
   "execution_count": 350,
   "metadata": {
    "colab": {
     "base_uri": "https://localhost:8080/"
    },
    "id": "xgGO-Ctn5zUK",
    "outputId": "96a22629-5e6e-454a-e08c-fa53e2076d98"
   },
   "outputs": [
    {
     "data": {
      "text/plain": [
       "array(['Entire home/apt', 'Private room', 'Hotel room', 'Shared room'],\n",
       "      dtype=object)"
      ]
     },
     "execution_count": 350,
     "metadata": {},
     "output_type": "execute_result"
    }
   ],
   "source": [
    "data[\"room_type\"].unique()"
   ]
  },
  {
   "cell_type": "markdown",
   "metadata": {},
   "source": [
    "There are 4 types of room_type"
   ]
  },
  {
   "cell_type": "markdown",
   "metadata": {},
   "source": [
    "Investigating rating column"
   ]
  },
  {
   "cell_type": "code",
   "execution_count": 353,
   "metadata": {
    "colab": {
     "base_uri": "https://localhost:8080/"
    },
    "id": "JOF1m41FZD9e",
    "outputId": "ab71d25f-2c2a-46c0-cb41-be864923db50"
   },
   "outputs": [
    {
     "data": {
      "text/plain": [
       "array(['4.67 ', '4.17 ', '4.64 ', '4.91 ', '5.0 ', '4.50 ', '4.79 ',\n",
       "       'No rating', '4.71 ', '4.33 ', '4.82 ', '4.69 ', '4.74 ', '4.87 ',\n",
       "       '4.66 ', '4.58 ', '4.95 ', '4.78 ', '4.83 ', '4.73 ', '4.15 ',\n",
       "       '4.45 ', '4.86 ', '4.42 ', '4.81 ', '3.84 ', '4.27 ', '4.21 ',\n",
       "       '4.93 ', '4.61 ', '4.77 ', '4.40 ', '4.53 ', '4.94 ', '4.76 ',\n",
       "       '4.70 ', '4.60 ', '4.96 ', '4.43 ', '4.56 ', '3.60 ', '3.0 ',\n",
       "       '3.82 ', '4.90 ', '4.80 ', '4.92 ', '4.85 ', '4.0 ', '4.97 ',\n",
       "       '4.89 ', '4.63 ', '4.38 ', '4.72 ', '4.25 ', '4.99 ', '4.20 ',\n",
       "       '4.54 ', '4.88 ', '4.59 ', '4.75 ', '4.18 ', '4.62 ', 'New ',\n",
       "       '4.68 ', '4.29 ', '3.40 ', '4.44 ', '4.36 ', '4.98 ', '4.55 ',\n",
       "       '4.26 ', '4.46 ', '4.30 ', '4.12 ', '4.06 ', '4.51 ', '2.33 ',\n",
       "       '4.47 ', '4.84 ', '4.57 ', '4.65 ', '4.39 ', '4.41 ', '4.35 ',\n",
       "       '3.88 ', '3.92 ', '3.67 ', '3.75 ', '3.86 ', '4.07 ', '4.52 ',\n",
       "       '4.49 ', '4.23 ', '4.31 ', '4.13 ', '3.33 ', '3.50 ', '3.80 ',\n",
       "       '3.79 ', '4.19 ', '4.16 ', '2.83 ', '4.48 ', '3.71 ', '3.36 ',\n",
       "       '4.14 ', '4.22 ', '4.32 ', '3.25 ', '3.89 ', '4.09 ', '4.04 ',\n",
       "       '3.38 ', '3.93 ', '4.24 ', '3.96 ', '3.57 ', '4.03 ', '3.17 ',\n",
       "       '3.63 ', '4.05 ', '3.78 ', '4.08 ', '3.94 ', '4.28 ', '4.37 ',\n",
       "       '4.11 ', '4.10 ', '3.64 ', '3.83 ', '3.90 ', '3.73 ', '3.42 ',\n",
       "       '3.81 ', '4.34 ', '3.20 ', '2.0 ', '2.67 ', '3.97 ', '3.27 ',\n",
       "       '2.88 ', '3.13 ', '2.80 ', '2.25 ', '3.95 ', '3.29 ', '3.85 ',\n",
       "       '3.58 ', '3.77 ', '3.65 ', '3.87 ', '2.75 ', '3.22 ', '3.43 '],\n",
       "      dtype=object)"
      ]
     },
     "execution_count": 353,
     "metadata": {},
     "output_type": "execute_result"
    }
   ],
   "source": [
    "data[\"rating\"].unique()"
   ]
  },
  {
   "cell_type": "markdown",
   "metadata": {
    "id": "-6zu65DidgeP"
   },
   "source": [
    "we can see the the data type of rating is object type  as we have New and No rating values. let's filter them and investigate the rows"
   ]
  },
  {
   "cell_type": "code",
   "execution_count": 355,
   "metadata": {
    "colab": {
     "base_uri": "https://localhost:8080/",
     "height": 423
    },
    "id": "nSUVeWOlZeZh",
    "outputId": "e93a0d00-dc1c-4fa6-8aad-3482dd3e3ffd"
   },
   "outputs": [
    {
     "name": "stdout",
     "output_type": "stream",
     "text": [
      "                                                                        name rating\n",
      "275              Rental unit in Queens · ★New · 2 bedrooms · 2 beds · 1 bath   New \n",
      "376            Hotel in New York · ★New · 1 bedroom · 1 bed · 1 private bath   New \n",
      "575                    Hotel in New York · ★New · 1 bedroom · 1 bed · 1 bath   New \n",
      "693                Home in Brooklyn · ★New · 3 bedrooms · 4 beds · 2.5 baths   New \n",
      "1062           Rental unit in Brooklyn · ★New · 3 bedrooms · 4 beds · 1 bath   New \n",
      "1318          Rental unit in Brooklyn · ★New · 1 bedroom · 1 bed · 1.5 baths   New \n",
      "1432             Rental unit in Brooklyn · ★New · 1 bedroom · 1 bed · 1 bath   New \n",
      "1539            Rental unit in New York · ★New · 1 bedroom · 4 beds · 1 bath   New \n",
      "1682           Rental unit in New York · ★New · 2 bedrooms · 2 beds · 1 bath   New \n",
      "1779     Serviced apartment in The Bronx · ★New · 1 bedroom · 1 bed · 1 bath   New \n",
      "1860                      Condo in New York · ★New · Studio · 1 bed · 1 bath   New \n",
      "1933            Rental unit in New York · ★New · 1 bedroom · 1 bed · 2 baths   New \n",
      "2003          Rental unit in New York · ★New · 2 bedrooms · 2 beds · 2 baths   New \n",
      "2114                Hotel in New York · ★New · 2 bedrooms · 4 beds · 2 baths   New \n",
      "2165               Rental unit in New York · ★New · Studio · 3 beds · 1 bath   New \n",
      "2173                  Condo in New York · ★New · 1 bedroom · 2 beds · 1 bath   New \n",
      "2202           Rental unit in New York · ★New · 2 bedrooms · 2 beds · 1 bath   New \n",
      "2242             Rental unit in New York · ★New · 1 bedroom · 1 bed · 1 bath   New \n",
      "2376          Rental unit in New York · ★New · 1 bedroom · 1 bed · 1.5 baths   New \n",
      "2468          Rental unit in New York · ★New · 2 bedrooms · 5 beds · 2 baths   New \n",
      "2477           Rental unit in New York · ★New · 3 bedrooms · 2 beds · 1 bath   New \n",
      "2485            Rental unit in New York · ★New · 1 bedroom · 2 beds · 1 bath   New \n",
      "2526             Rental unit in Brooklyn · ★New · 1 bedroom · 1 bed · 1 bath   New \n",
      "2532             Rental unit in New York · ★New · 1 bedroom · 1 bed · 1 bath   New \n",
      "2555          Rental unit in New York · ★New · 3 bedrooms · 4 beds · 2 baths   New \n",
      "2565          Rental unit in New York · ★New · 1 bedroom · 1 bed · 1.5 baths   New \n",
      "2704             Rental unit in New York · ★New · 1 bedroom · 1 bed · 1 bath   New \n",
      "2775                     Rental unit in New York · ★New · 1 bedroom · 1 bath   New \n",
      "2777                 Hotel in New York · ★New · 2 bedrooms · 2 beds · 1 bath   New \n",
      "2809           Rental unit in New York · ★New · 3 bedrooms · 4 beds · 1 bath   New \n",
      "2827            Rental unit in New York · ★New · 1 bedroom · 1 bed · 2 baths   New \n",
      "3020                        Rental unit in New York · ★New · Studio · 1 bath   New \n",
      "3036            Rental unit in New York · ★New · 1 bedroom · 2 beds · 1 bath   New \n",
      "3073               Rental unit in New York · ★New · Studio · 3 beds · 1 bath   New \n",
      "3680             Rental unit in Brooklyn · ★New · 1 bedroom · 1 bed · 1 bath   New \n",
      "3797             Rental unit in Queens · ★New · 3 bedrooms · 4 beds · 1 bath   New \n",
      "3983            Rental unit in The Bronx · ★New · 1 bedroom · 1 bed · 1 bath   New \n",
      "4157   Rental unit in Brooklyn · ★New · 1 bedroom · 1 bed · 1.5 shared baths   New \n",
      "4162                      Hotel in Brooklyn · ★New · Studio · 1 private bath   New \n",
      "4493             Rental unit in New York · ★New · 1 bedroom · 1 bed · 1 bath   New \n",
      "5113             Rental unit in Brooklyn · ★New · 1 bedroom · 1 bed · 1 bath   New \n",
      "5248                            Home in Brooklyn · ★New · 1 bedroom · 1 bath   New \n",
      "5281        Rental unit in Brooklyn · ★New · 3 bedrooms · 5 beds · 2.5 baths   New \n",
      "5297          Rental unit in New York · ★New · 3 bedrooms · 4 beds · 2 baths   New \n",
      "5394           Rental unit in New York · ★New · 3 bedrooms · 4 beds · 1 bath   New \n",
      "5808                Rental unit in New York · ★New · Studio · 1 bed · 1 bath   New \n",
      "5857             Rental unit in New York · ★New · 1 bedroom · 1 bed · 1 bath   New \n",
      "5867             Rental unit in New York · ★New · 1 bedroom · 1 bed · 1 bath   New \n",
      "6322           Rental unit in New York · ★New · 3 bedrooms · 5 beds · 1 bath   New \n",
      "6403           Rental unit in Brooklyn · ★New · 2 bedrooms · 2 beds · 1 bath   New \n",
      "6580             Rental unit in New York · ★New · 1 bedroom · 1 bed · 1 bath   New \n",
      "6867          Rental unit in New York · ★New · 3 bedrooms · 3 beds · 2 baths   New \n",
      "6896             Rental unit in New York · ★New · 1 bedroom · 1 bed · 1 bath   New \n",
      "6945                   Hotel in New York · ★New · 1 bedroom · 1 bed · 1 bath   New \n",
      "7511          Rental unit in Brooklyn · ★New · 2 bedrooms · 3 beds · 2 baths   New \n",
      "7917          Rental unit in Brooklyn · ★New · 2 bedrooms · 2 beds · 2 baths   New \n",
      "8097           Hotel in Brooklyn · ★New · 1 bedroom · 1 bed · 1 private bath   New \n",
      "8099           Hotel in Brooklyn · ★New · 1 bedroom · 1 bed · 1 private bath   New \n",
      "9079           Rental unit in New York · ★New · 2 bedrooms · 5 beds · 1 bath   New \n",
      "9514             Rental unit in New York · ★New · 1 bedroom · 1 bed · 1 bath   New \n",
      "9973             Rental unit in Queens · ★New · 2 bedrooms · 3 beds · 1 bath   New \n",
      "9998          Rental unit in New York · ★New · 3 bedrooms · 3 beds · 2 baths   New \n",
      "10653          Rental unit in New York · ★New · 3 bedrooms · 3 beds · 1 bath   New \n",
      "10805     Rental unit in Brooklyn · ★New · 1 bedroom · 1 bed · 1 shared bath   New \n",
      "10835          Rental unit in New York · ★New · 3 bedrooms · 4 beds · 1 bath   New \n",
      "10844          Rental unit in New York · ★New · 2 bedrooms · 5 beds · 1 bath   New \n",
      "11781             Rental unit in Queens · ★New · 1 bedroom · 2 beds · 1 bath   New \n",
      "12933            Rental unit in New York · ★New · 1 bedroom · 1 bed · 1 bath   New \n",
      "13029           Rental unit in Brooklyn · ★New · 1 bedroom · 2 beds · 1 bath   New \n",
      "13188         Rental unit in New York · ★New · 2 bedrooms · 2 beds · 2 baths   New \n",
      "13437                  Hotel in New York · ★New · 1 bedroom · 1 bed · 1 bath   New \n",
      "13438                  Hotel in New York · ★New · 1 bedroom · 1 bed · 1 bath   New \n",
      "13490                  Hotel in New York · ★New · 1 bedroom · 1 bed · 1 bath   New \n",
      "13507                  Rental unit in New York · ★New · 4 bedrooms · 2 baths   New \n",
      "13525                  Hotel in New York · ★New · 1 bedroom · 1 bed · 1 bath   New \n",
      "14302                 Home in Brooklyn · ★New · 2 bedrooms · 6 beds · 1 bath   New \n",
      "14316            Rental unit in Brooklyn · ★New · 1 bedroom · 1 bed · 1 bath   New \n",
      "14375         Rental unit in New York · ★New · 3 bedrooms · 5 beds · 2 baths   New \n",
      "14388            Rental unit in New York · ★New · 1 bedroom · 1 bed · 1 bath   New \n",
      "14476          Rental unit in New York · ★New · 2 bedrooms · 2 beds · 1 bath   New \n",
      "14550                  Hotel in New York · ★New · 1 bedroom · 1 bed · 1 bath   New \n",
      "14588         Rental unit in New York · ★New · 2 bedrooms · 3 beds · 2 baths   New \n",
      "14639                Condo in New York · ★New · 2 bedrooms · 2 beds · 1 bath   New \n",
      "14818           Rental unit in New York · ★New · 1 bedroom · 2 beds · 1 bath   New \n",
      "14912            Rental unit in New York · ★New · 1 bedroom · 1 bed · 1 bath   New \n",
      "15299                    Rental unit in New York · ★New · 1 bedroom · 1 bath   New \n",
      "15321     Serviced apartment in New York · ★New · 1 bedroom · 1 bed · 1 bath   New \n",
      "15371     Rental unit in New York · ★New · 1 bedroom · 1 bed · 1 shared bath   New \n",
      "15505            Rental unit in New York · ★New · 1 bedroom · 1 bed · 1 bath   New \n",
      "15516         Rental unit in New York · ★New · 5 bedrooms · 6 beds · 2 baths   New \n",
      "15544                  Hotel in New York · ★New · 1 bedroom · 1 bed · 1 bath   New \n",
      "15549                  Hotel in New York · ★New · 1 bedroom · 1 bed · 1 bath   New \n",
      "15592                  Hotel in New York · ★New · 1 bedroom · 1 bed · 1 bath   New \n",
      "15612                  Hotel in New York · ★New · 1 bedroom · 1 bed · 1 bath   New \n",
      "15622          Rental unit in New York · ★New · 3 bedrooms · 4 beds · 1 bath   New \n",
      "15658     Rental unit in Brooklyn · ★New · 1 bedroom · 1 bed · 1 shared bath   New \n",
      "15922          Rental unit in New York · ★New · 2 bedrooms · 7 beds · 1 bath   New \n",
      "15935          Rental unit in New York · ★New · 2 bedrooms · 6 beds · 1 bath   New \n",
      "16106             Hotel in Brooklyn · ★New · 3 bedrooms · 3 beds · 1.5 baths   New \n",
      "16234          Rental unit in Brooklyn · ★New · 3 bedrooms · 5 beds · 1 bath   New \n",
      "16253         Rental unit in New York · ★New · 4 bedrooms · 4 beds · 2 baths   New \n",
      "16496                Home in Brooklyn · ★New · 4 bedrooms · 5 beds · 2 baths   New \n",
      "16976         Rental unit in New York · ★New · 2 bedrooms · 2 beds · 2 baths   New \n",
      "17032     Rental unit in New York · ★New · 1 bedroom · 1 bed · 1 shared bath   New \n",
      "17160               Rental unit in New York · ★New · Studio · 1 bed · 1 bath   New \n",
      "17186           Rental unit in Brooklyn · ★New · 1 bedroom · 2 beds · 1 bath   New \n",
      "17295            Rental unit in New York · ★New · 1 bedroom · 1 bed · 1 bath   New \n",
      "17420                Loft in New York · ★New · 3 bedrooms · 3 beds · 2 baths   New \n",
      "18434                   Home in Brooklyn · ★New · 1 bedroom · 1 bed · 1 bath   New \n",
      "18528          Rental unit in Brooklyn · ★New · 1 bedroom · 2 beds · 2 baths   New \n",
      "18602           Rental unit in New York · ★New · 1 bedroom · 2 beds · 1 bath   New \n",
      "18629               Rental unit in New York · ★New · Studio · 1 bed · 1 bath   New \n",
      "18641           Rental unit in New York · ★New · 1 bedroom · 2 beds · 1 bath   New \n",
      "18813    Rental unit in New York · ★New · 1 bedroom · 1 bed · 1 private bath   New \n",
      "18837     Rental unit in New York · ★New · 1 bedroom · 1 bed · 1 shared bath   New \n",
      "18842          Rental unit in New York · ★New · 2 bedrooms · 2 beds · 1 bath   New \n",
      "19007           Rental unit in New York · ★New · 1 bedroom · 3 beds · 1 bath   New \n",
      "19105                     Home in Elmont · ★New · 1 bedroom · 1 bed · 1 bath   New \n",
      "19195              Rental unit in Queens · ★New · 1 bedroom · 1 bed · 1 bath   New \n",
      "19290                 Home in Great Neck · ★New · 1 bedroom · 1 bed · 1 bath   New \n",
      "19991             Rental unit in Queens · ★New · 1 bedroom · 2 beds · 1 bath   New \n",
      "20094             Rental unit in Queens · ★New · 1 bedroom · 2 beds · 1 bath   New \n",
      "20362                      Home in Queens · ★New · 1 bedroom · 1 shared bath   New \n",
      "20369         Rental unit in NEW YORK  · ★New · 3 bedrooms · 3 beds · 1 bath   New \n",
      "20536            Rental unit in Queens · ★New · 3 bedrooms · 4 beds · 1 bath   New \n",
      "20593           Rental unit in New York · ★New · 1 bedroom · 1 bed · 2 baths   New \n"
     ]
    }
   ],
   "source": [
    "print(data.loc[data[\"rating\"] == \"New \", [\"name\", \"rating\"]].to_string())"
   ]
  },
  {
   "cell_type": "markdown",
   "metadata": {
    "id": "YhRj6QrGdMXY"
   },
   "source": [
    "We can clearly observe that 126 records have \"New\" listed as the rating. The name column is maintained to validate the correctness of data across columns like rating, bedrooms, beds, and baths, ensuring consistency and accuracy in these critical fields."
   ]
  },
  {
   "cell_type": "code",
   "execution_count": 357,
   "metadata": {
    "colab": {
     "base_uri": "https://localhost:8080/",
     "height": 423
    },
    "id": "oeIf9UVxcRAs",
    "outputId": "94dc51e3-d753-43a0-e351-60f5a2f4733c"
   },
   "outputs": [
    {
     "data": {
      "text/html": [
       "<div>\n",
       "<style scoped>\n",
       "    .dataframe tbody tr th:only-of-type {\n",
       "        vertical-align: middle;\n",
       "    }\n",
       "\n",
       "    .dataframe tbody tr th {\n",
       "        vertical-align: top;\n",
       "    }\n",
       "\n",
       "    .dataframe thead th {\n",
       "        text-align: right;\n",
       "    }\n",
       "</style>\n",
       "<table border=\"1\" class=\"dataframe\">\n",
       "  <thead>\n",
       "    <tr style=\"text-align: right;\">\n",
       "      <th></th>\n",
       "      <th>name</th>\n",
       "      <th>rating</th>\n",
       "    </tr>\n",
       "  </thead>\n",
       "  <tbody>\n",
       "    <tr>\n",
       "      <th>10</th>\n",
       "      <td>Rental unit in Queens · 1 bedroom · 2 beds · 1...</td>\n",
       "      <td>No rating</td>\n",
       "    </tr>\n",
       "    <tr>\n",
       "      <th>12</th>\n",
       "      <td>Rental unit in New York · 1 bedroom · 1 bed · ...</td>\n",
       "      <td>No rating</td>\n",
       "    </tr>\n",
       "    <tr>\n",
       "      <th>24</th>\n",
       "      <td>Hotel in New York · 1 bedroom · 1 bed · 1 bath</td>\n",
       "      <td>No rating</td>\n",
       "    </tr>\n",
       "    <tr>\n",
       "      <th>29</th>\n",
       "      <td>Rental unit in New York · 1 bedroom · 1 bed · ...</td>\n",
       "      <td>No rating</td>\n",
       "    </tr>\n",
       "    <tr>\n",
       "      <th>67</th>\n",
       "      <td>Rental unit in Brooklyn · 1 bedroom · 3 beds ·...</td>\n",
       "      <td>No rating</td>\n",
       "    </tr>\n",
       "    <tr>\n",
       "      <th>...</th>\n",
       "      <td>...</td>\n",
       "      <td>...</td>\n",
       "    </tr>\n",
       "    <tr>\n",
       "      <th>20728</th>\n",
       "      <td>Rental unit in New York · Studio · 1 bed · 1 bath</td>\n",
       "      <td>No rating</td>\n",
       "    </tr>\n",
       "    <tr>\n",
       "      <th>20744</th>\n",
       "      <td>Rental unit in New York · 2 bedrooms · 2 beds ...</td>\n",
       "      <td>No rating</td>\n",
       "    </tr>\n",
       "    <tr>\n",
       "      <th>20746</th>\n",
       "      <td>Rental unit in New York · 1 bedroom · 2 beds ·...</td>\n",
       "      <td>No rating</td>\n",
       "    </tr>\n",
       "    <tr>\n",
       "      <th>20747</th>\n",
       "      <td>Rental unit in New York · 1 bedroom · 1 bed · ...</td>\n",
       "      <td>No rating</td>\n",
       "    </tr>\n",
       "    <tr>\n",
       "      <th>20752</th>\n",
       "      <td>Rental unit in New York · 1 bedroom · 1 bed · ...</td>\n",
       "      <td>No rating</td>\n",
       "    </tr>\n",
       "  </tbody>\n",
       "</table>\n",
       "<p>2111 rows × 2 columns</p>\n",
       "</div>"
      ],
      "text/plain": [
       "                                                    name     rating\n",
       "10     Rental unit in Queens · 1 bedroom · 2 beds · 1...  No rating\n",
       "12     Rental unit in New York · 1 bedroom · 1 bed · ...  No rating\n",
       "24        Hotel in New York · 1 bedroom · 1 bed · 1 bath  No rating\n",
       "29     Rental unit in New York · 1 bedroom · 1 bed · ...  No rating\n",
       "67     Rental unit in Brooklyn · 1 bedroom · 3 beds ·...  No rating\n",
       "...                                                  ...        ...\n",
       "20728  Rental unit in New York · Studio · 1 bed · 1 bath  No rating\n",
       "20744  Rental unit in New York · 2 bedrooms · 2 beds ...  No rating\n",
       "20746  Rental unit in New York · 1 bedroom · 2 beds ·...  No rating\n",
       "20747  Rental unit in New York · 1 bedroom · 1 bed · ...  No rating\n",
       "20752  Rental unit in New York · 1 bedroom · 1 bed · ...  No rating\n",
       "\n",
       "[2111 rows x 2 columns]"
      ]
     },
     "execution_count": 357,
     "metadata": {},
     "output_type": "execute_result"
    }
   ],
   "source": [
    "data.loc[data[\"rating\"] == \"No rating\", [\"name\", \"rating\"]]"
   ]
  },
  {
   "cell_type": "markdown",
   "metadata": {
    "id": "eLC_n835d9Ya"
   },
   "source": [
    "2111 values are with no ratings.\n",
    "\n",
    "From name column we can see that rating values are missing"
   ]
  },
  {
   "cell_type": "markdown",
   "metadata": {},
   "source": [
    "We will add NA to rating column where the rating values is both \"New \"and \"No rating\""
   ]
  },
  {
   "cell_type": "code",
   "execution_count": 360,
   "metadata": {
    "id": "UibdPSfEePn2"
   },
   "outputs": [],
   "source": [
    "data['rating'] = data['rating'].replace(['New ', 'No rating'], pd.NA)"
   ]
  },
  {
   "cell_type": "code",
   "execution_count": 361,
   "metadata": {
    "colab": {
     "base_uri": "https://localhost:8080/"
    },
    "id": "T5Pcyo0FexKL",
    "outputId": "4b053ec1-0520-4f09-99ca-943003e25c18"
   },
   "outputs": [
    {
     "data": {
      "text/plain": [
       "array(['4.67 ', '4.17 ', '4.64 ', '4.91 ', '5.0 ', '4.50 ', '4.79 ', <NA>,\n",
       "       '4.71 ', '4.33 ', '4.82 ', '4.69 ', '4.74 ', '4.87 ', '4.66 ',\n",
       "       '4.58 ', '4.95 ', '4.78 ', '4.83 ', '4.73 ', '4.15 ', '4.45 ',\n",
       "       '4.86 ', '4.42 ', '4.81 ', '3.84 ', '4.27 ', '4.21 ', '4.93 ',\n",
       "       '4.61 ', '4.77 ', '4.40 ', '4.53 ', '4.94 ', '4.76 ', '4.70 ',\n",
       "       '4.60 ', '4.96 ', '4.43 ', '4.56 ', '3.60 ', '3.0 ', '3.82 ',\n",
       "       '4.90 ', '4.80 ', '4.92 ', '4.85 ', '4.0 ', '4.97 ', '4.89 ',\n",
       "       '4.63 ', '4.38 ', '4.72 ', '4.25 ', '4.99 ', '4.20 ', '4.54 ',\n",
       "       '4.88 ', '4.59 ', '4.75 ', '4.18 ', '4.62 ', '4.68 ', '4.29 ',\n",
       "       '3.40 ', '4.44 ', '4.36 ', '4.98 ', '4.55 ', '4.26 ', '4.46 ',\n",
       "       '4.30 ', '4.12 ', '4.06 ', '4.51 ', '2.33 ', '4.47 ', '4.84 ',\n",
       "       '4.57 ', '4.65 ', '4.39 ', '4.41 ', '4.35 ', '3.88 ', '3.92 ',\n",
       "       '3.67 ', '3.75 ', '3.86 ', '4.07 ', '4.52 ', '4.49 ', '4.23 ',\n",
       "       '4.31 ', '4.13 ', '3.33 ', '3.50 ', '3.80 ', '3.79 ', '4.19 ',\n",
       "       '4.16 ', '2.83 ', '4.48 ', '3.71 ', '3.36 ', '4.14 ', '4.22 ',\n",
       "       '4.32 ', '3.25 ', '3.89 ', '4.09 ', '4.04 ', '3.38 ', '3.93 ',\n",
       "       '4.24 ', '3.96 ', '3.57 ', '4.03 ', '3.17 ', '3.63 ', '4.05 ',\n",
       "       '3.78 ', '4.08 ', '3.94 ', '4.28 ', '4.37 ', '4.11 ', '4.10 ',\n",
       "       '3.64 ', '3.83 ', '3.90 ', '3.73 ', '3.42 ', '3.81 ', '4.34 ',\n",
       "       '3.20 ', '2.0 ', '2.67 ', '3.97 ', '3.27 ', '2.88 ', '3.13 ',\n",
       "       '2.80 ', '2.25 ', '3.95 ', '3.29 ', '3.85 ', '3.58 ', '3.77 ',\n",
       "       '3.65 ', '3.87 ', '2.75 ', '3.22 ', '3.43 '], dtype=object)"
      ]
     },
     "execution_count": 361,
     "metadata": {},
     "output_type": "execute_result"
    }
   ],
   "source": [
    "data[\"rating\"].unique()"
   ]
  },
  {
   "cell_type": "code",
   "execution_count": 362,
   "metadata": {},
   "outputs": [
    {
     "name": "stdout",
     "output_type": "stream",
     "text": [
      "14.21852157884701\n"
     ]
    }
   ],
   "source": [
    "null_percentage_ratings = (data['rating'].isnull().sum() / len(data)) * 100\n",
    "print(null_percentage_ratings)\n"
   ]
  },
  {
   "cell_type": "markdown",
   "metadata": {},
   "source": [
    "14.2% of rating data are NA now\n",
    "\n",
    "Converts rating column to numeric (float)."
   ]
  },
  {
   "cell_type": "code",
   "execution_count": 364,
   "metadata": {
    "id": "tVAyPmWne3Du"
   },
   "outputs": [],
   "source": [
    "data['rating'] = pd.to_numeric(data['rating'], errors='coerce')"
   ]
  },
  {
   "cell_type": "code",
   "execution_count": 365,
   "metadata": {
    "colab": {
     "base_uri": "https://localhost:8080/"
    },
    "id": "7pI3vGrkfpwj",
    "outputId": "01bfbe01-4a65-42b9-8431-9f21a502c361"
   },
   "outputs": [
    {
     "data": {
      "text/plain": [
       "dtype('float64')"
      ]
     },
     "execution_count": 365,
     "metadata": {},
     "output_type": "execute_result"
    }
   ],
   "source": [
    "data['rating'].dtype"
   ]
  },
  {
   "cell_type": "code",
   "execution_count": 366,
   "metadata": {
    "colab": {
     "base_uri": "https://localhost:8080/"
    },
    "id": "yzmj68l3gC_U",
    "outputId": "f3c71a98-ff07-437a-abee-5afc81fe1392"
   },
   "outputs": [
    {
     "data": {
      "text/plain": [
       "array([4.67, 4.17, 4.64, 4.91, 5.  , 4.5 , 4.79,  nan, 4.71, 4.33, 4.82,\n",
       "       4.69, 4.74, 4.87, 4.66, 4.58, 4.95, 4.78, 4.83, 4.73, 4.15, 4.45,\n",
       "       4.86, 4.42, 4.81, 3.84, 4.27, 4.21, 4.93, 4.61, 4.77, 4.4 , 4.53,\n",
       "       4.94, 4.76, 4.7 , 4.6 , 4.96, 4.43, 4.56, 3.6 , 3.  , 3.82, 4.9 ,\n",
       "       4.8 , 4.92, 4.85, 4.  , 4.97, 4.89, 4.63, 4.38, 4.72, 4.25, 4.99,\n",
       "       4.2 , 4.54, 4.88, 4.59, 4.75, 4.18, 4.62, 4.68, 4.29, 3.4 , 4.44,\n",
       "       4.36, 4.98, 4.55, 4.26, 4.46, 4.3 , 4.12, 4.06, 4.51, 2.33, 4.47,\n",
       "       4.84, 4.57, 4.65, 4.39, 4.41, 4.35, 3.88, 3.92, 3.67, 3.75, 3.86,\n",
       "       4.07, 4.52, 4.49, 4.23, 4.31, 4.13, 3.33, 3.5 , 3.8 , 3.79, 4.19,\n",
       "       4.16, 2.83, 4.48, 3.71, 3.36, 4.14, 4.22, 4.32, 3.25, 3.89, 4.09,\n",
       "       4.04, 3.38, 3.93, 4.24, 3.96, 3.57, 4.03, 3.17, 3.63, 4.05, 3.78,\n",
       "       4.08, 3.94, 4.28, 4.37, 4.11, 4.1 , 3.64, 3.83, 3.9 , 3.73, 3.42,\n",
       "       3.81, 4.34, 3.2 , 2.  , 2.67, 3.97, 3.27, 2.88, 3.13, 2.8 , 2.25,\n",
       "       3.95, 3.29, 3.85, 3.58, 3.77, 3.65, 3.87, 2.75, 3.22, 3.43])"
      ]
     },
     "execution_count": 366,
     "metadata": {},
     "output_type": "execute_result"
    }
   ],
   "source": [
    "data[\"rating\"].unique()"
   ]
  },
  {
   "cell_type": "markdown",
   "metadata": {},
   "source": [
    "Checking the skewness of the rating data to determine whether to replace values with the mean or median."
   ]
  },
  {
   "cell_type": "code",
   "execution_count": 368,
   "metadata": {
    "colab": {
     "base_uri": "https://localhost:8080/"
    },
    "id": "1xJgiUYRonqa",
    "outputId": "647d6058-ea0b-4e05-e7f9-520c68b17bfb"
   },
   "outputs": [
    {
     "name": "stdout",
     "output_type": "stream",
     "text": [
      "Skewness: -2.649768208373159\n"
     ]
    }
   ],
   "source": [
    "skew_value = skew(data['rating'].dropna())\n",
    "print(f'Skewness: {skew_value}')"
   ]
  },
  {
   "cell_type": "markdown",
   "metadata": {},
   "source": [
    "Based on skewness the data is left skewed\n",
    "\n",
    "Lets plot histogram to reconfirm the skewness"
   ]
  },
  {
   "cell_type": "code",
   "execution_count": 370,
   "metadata": {
    "colab": {
     "base_uri": "https://localhost:8080/",
     "height": 449
    },
    "id": "7PgNVBn2uER3",
    "outputId": "b13681df-cbff-467e-a00d-9b1ba06fd759"
   },
   "outputs": [
    {
     "data": {
      "image/png": "[encoded data removed]",
      "text/plain": [
       "<Figure size 640x480 with 1 Axes>"
      ]
     },
     "metadata": {},
     "output_type": "display_data"
    }
   ],
   "source": [
    "sns.histplot(data['rating'], kde=True)\n",
    "plt.show()"
   ]
  },
  {
   "cell_type": "code",
   "execution_count": 371,
   "metadata": {
    "colab": {
     "base_uri": "https://localhost:8080/"
    },
    "id": "gR0MxE91wx3u",
    "outputId": "13cd208d-23c9-4ee7-bc29-02aa6a887938"
   },
   "outputs": [
    {
     "name": "stderr",
     "output_type": "stream",
     "text": [
      "C:\\Users\\Srivatsava CK\\AppData\\Local\\Temp\\ipykernel_46572\\2664373811.py:1: FutureWarning:\n",
      "\n",
      "A value is trying to be set on a copy of a DataFrame or Series through chained assignment using an inplace method.\n",
      "The behavior will change in pandas 3.0. This inplace method will never work because the intermediate object on which we are setting values always behaves as a copy.\n",
      "\n",
      "For example, when doing 'df[col].method(value, inplace=True)', try using 'df.method({col: value}, inplace=True)' or df[col] = df[col].method(value) instead, to perform the operation inplace on the original object.\n",
      "\n",
      "\n",
      "\n"
     ]
    }
   ],
   "source": [
    "data['rating'].fillna(data['rating'].median(), inplace=True)"
   ]
  },
  {
   "cell_type": "code",
   "execution_count": 372,
   "metadata": {
    "colab": {
     "base_uri": "https://localhost:8080/"
    },
    "id": "wYl-CU_JxEed",
    "outputId": "53cf7fb1-2a87-484c-ef3f-ab67adf4c0bb"
   },
   "outputs": [
    {
     "data": {
      "text/plain": [
       "array([4.67, 4.17, 4.64, 4.91, 5.  , 4.5 , 4.79, 4.81, 4.71, 4.33, 4.82,\n",
       "       4.69, 4.74, 4.87, 4.66, 4.58, 4.95, 4.78, 4.83, 4.73, 4.15, 4.45,\n",
       "       4.86, 4.42, 3.84, 4.27, 4.21, 4.93, 4.61, 4.77, 4.4 , 4.53, 4.94,\n",
       "       4.76, 4.7 , 4.6 , 4.96, 4.43, 4.56, 3.6 , 3.  , 3.82, 4.9 , 4.8 ,\n",
       "       4.92, 4.85, 4.  , 4.97, 4.89, 4.63, 4.38, 4.72, 4.25, 4.99, 4.2 ,\n",
       "       4.54, 4.88, 4.59, 4.75, 4.18, 4.62, 4.68, 4.29, 3.4 , 4.44, 4.36,\n",
       "       4.98, 4.55, 4.26, 4.46, 4.3 , 4.12, 4.06, 4.51, 2.33, 4.47, 4.84,\n",
       "       4.57, 4.65, 4.39, 4.41, 4.35, 3.88, 3.92, 3.67, 3.75, 3.86, 4.07,\n",
       "       4.52, 4.49, 4.23, 4.31, 4.13, 3.33, 3.5 , 3.8 , 3.79, 4.19, 4.16,\n",
       "       2.83, 4.48, 3.71, 3.36, 4.14, 4.22, 4.32, 3.25, 3.89, 4.09, 4.04,\n",
       "       3.38, 3.93, 4.24, 3.96, 3.57, 4.03, 3.17, 3.63, 4.05, 3.78, 4.08,\n",
       "       3.94, 4.28, 4.37, 4.11, 4.1 , 3.64, 3.83, 3.9 , 3.73, 3.42, 3.81,\n",
       "       4.34, 3.2 , 2.  , 2.67, 3.97, 3.27, 2.88, 3.13, 2.8 , 2.25, 3.95,\n",
       "       3.29, 3.85, 3.58, 3.77, 3.65, 3.87, 2.75, 3.22, 3.43])"
      ]
     },
     "execution_count": 372,
     "metadata": {},
     "output_type": "execute_result"
    }
   ],
   "source": [
    "data[\"rating\"].unique()"
   ]
  },
  {
   "cell_type": "code",
   "execution_count": 373,
   "metadata": {
    "colab": {
     "base_uri": "https://localhost:8080/"
    },
    "id": "v8fZB1a1gLge",
    "outputId": "7287a227-f563-420a-e60b-c850685ffd67"
   },
   "outputs": [
    {
     "data": {
      "text/plain": [
       "array(['2', '1', 'Studio', '3', '6', '4', '5', '7', '15', '9', '8', '14'],\n",
       "      dtype=object)"
      ]
     },
     "execution_count": 373,
     "metadata": {},
     "output_type": "execute_result"
    }
   ],
   "source": [
    "data[\"bedrooms\"].unique()"
   ]
  },
  {
   "cell_type": "markdown",
   "metadata": {},
   "source": [
    "There are many beds, so we want to verify if the information is accurate.\n",
    "\n",
    "Additionally, \"Studio\" is listed under bedrooms.\n",
    "\n",
    "lets filter rows where bedrooms = '7','15','9','8','14'"
   ]
  },
  {
   "cell_type": "code",
   "execution_count": 375,
   "metadata": {
    "colab": {
     "base_uri": "https://localhost:8080/"
    },
    "id": "fogmUggxgX9C",
    "outputId": "dc5c980f-9933-43d8-fe55-cc6a39b93772"
   },
   "outputs": [
    {
     "name": "stdout",
     "output_type": "stream",
     "text": [
      "                                                                    name bedrooms\n",
      "1827            Home in Brooklyn · ★5.0 · 7 bedrooms · 12 beds · 4 baths        7\n",
      "2171       Loft in New York · ★3.17 · 7 bedrooms · 1 bed · 1 shared bath        7\n",
      "3545           Rental unit in New York · 15 bedrooms · 21 beds · 6 baths       15\n",
      "4733            Home in Brooklyn · ★5.0 · 9 bedrooms · 11 beds · 4 baths        9\n",
      "6682   Home in NEW YORK  · ★4.43 · 8 bedrooms · 11 beds · 4 shared baths        8\n",
      "7287       Townhouse in New York · ★4.57 · 7 bedrooms · 8 beds · 5 baths        7\n",
      "8177     Rental unit in New York · ★5.0 · 9 bedrooms · 12 beds · 3 baths        9\n",
      "8256    Rental unit in Brooklyn · ★4.65 · 7 bedrooms · 10 beds · 2 baths        7\n",
      "10547            Home in Queens · ★4.95 · 7 bedrooms · 14 beds · 4 baths        7\n",
      "11241          Home in Brooklyn · ★4.87 · 9 bedrooms · 11 beds · 4 baths        9\n",
      "11256          Home in Brooklyn · ★4.56 · 8 bedrooms · 10 beds · 4 baths        8\n",
      "18156     Condo in New York · ★4.71 · 7 bedrooms · 1 bed · 1 shared bath        7\n",
      "18496          Home in Brooklyn · ★4.87 · 8 bedrooms · 18 beds · 4 baths        8\n",
      "19154      Home in Brooklyn · ★4.77 · 14 bedrooms · 42 beds · 15.5 baths       14\n",
      "19321           Home in Brooklyn · ★4.72 · 7 bedrooms · 7 beds · 4 baths        7\n",
      "20520        Home in Brooklyn · ★4.96 · 8 bedrooms · 12 beds · 3.5 baths        8\n"
     ]
    }
   ],
   "source": [
    "print(data[data[\"bedrooms\"].isin(['7','8','9','14','15'])][[\"name\",\"bedrooms\"]].to_string())"
   ]
  },
  {
   "cell_type": "markdown",
   "metadata": {},
   "source": [
    "filter rows with bedrooms as studio"
   ]
  },
  {
   "cell_type": "code",
   "execution_count": 377,
   "metadata": {
    "colab": {
     "base_uri": "https://localhost:8080/",
     "height": 423
    },
    "id": "ancP7mp4HEmP",
    "outputId": "22a6ffda-54b2-4f14-aaa7-d2bcaa993dca"
   },
   "outputs": [
    {
     "data": {
      "text/html": [
       "<div>\n",
       "<style scoped>\n",
       "    .dataframe tbody tr th:only-of-type {\n",
       "        vertical-align: middle;\n",
       "    }\n",
       "\n",
       "    .dataframe tbody tr th {\n",
       "        vertical-align: top;\n",
       "    }\n",
       "\n",
       "    .dataframe thead th {\n",
       "        text-align: right;\n",
       "    }\n",
       "</style>\n",
       "<table border=\"1\" class=\"dataframe\">\n",
       "  <thead>\n",
       "    <tr style=\"text-align: right;\">\n",
       "      <th></th>\n",
       "      <th>name</th>\n",
       "      <th>bedrooms</th>\n",
       "      <th>room_type</th>\n",
       "    </tr>\n",
       "  </thead>\n",
       "  <tbody>\n",
       "    <tr>\n",
       "      <th>4</th>\n",
       "      <td>Condo in New York · ★4.91 · Studio · 1 bed · 1...</td>\n",
       "      <td>Studio</td>\n",
       "      <td>Entire home/apt</td>\n",
       "    </tr>\n",
       "    <tr>\n",
       "      <th>11</th>\n",
       "      <td>Rental unit in Brooklyn · ★4.71 · Studio · 1 b...</td>\n",
       "      <td>Studio</td>\n",
       "      <td>Entire home/apt</td>\n",
       "    </tr>\n",
       "    <tr>\n",
       "      <th>43</th>\n",
       "      <td>Home in Queens · ★4.67 · Studio · 3 beds · 1 s...</td>\n",
       "      <td>Studio</td>\n",
       "      <td>Private room</td>\n",
       "    </tr>\n",
       "    <tr>\n",
       "      <th>56</th>\n",
       "      <td>Rental unit in New York · ★5.0 · Studio · 1 be...</td>\n",
       "      <td>Studio</td>\n",
       "      <td>Entire home/apt</td>\n",
       "    </tr>\n",
       "    <tr>\n",
       "      <th>57</th>\n",
       "      <td>Serviced apartment in Brooklyn · ★4.95 · Studi...</td>\n",
       "      <td>Studio</td>\n",
       "      <td>Hotel room</td>\n",
       "    </tr>\n",
       "    <tr>\n",
       "      <th>...</th>\n",
       "      <td>...</td>\n",
       "      <td>...</td>\n",
       "      <td>...</td>\n",
       "    </tr>\n",
       "    <tr>\n",
       "      <th>20728</th>\n",
       "      <td>Rental unit in New York · Studio · 1 bed · 1 bath</td>\n",
       "      <td>Studio</td>\n",
       "      <td>Entire home/apt</td>\n",
       "    </tr>\n",
       "    <tr>\n",
       "      <th>20732</th>\n",
       "      <td>Rental unit in New York · ★5.0 · Studio · 1 be...</td>\n",
       "      <td>Studio</td>\n",
       "      <td>Entire home/apt</td>\n",
       "    </tr>\n",
       "    <tr>\n",
       "      <th>20736</th>\n",
       "      <td>Rental unit in New York · ★4.67 · Studio · 1 b...</td>\n",
       "      <td>Studio</td>\n",
       "      <td>Entire home/apt</td>\n",
       "    </tr>\n",
       "    <tr>\n",
       "      <th>20738</th>\n",
       "      <td>Rental unit in New York · ★4.86 · Studio · 2 b...</td>\n",
       "      <td>Studio</td>\n",
       "      <td>Entire home/apt</td>\n",
       "    </tr>\n",
       "    <tr>\n",
       "      <th>20748</th>\n",
       "      <td>Rental unit in New York · ★4.94 · Studio · 1 b...</td>\n",
       "      <td>Studio</td>\n",
       "      <td>Entire home/apt</td>\n",
       "    </tr>\n",
       "  </tbody>\n",
       "</table>\n",
       "<p>1407 rows × 3 columns</p>\n",
       "</div>"
      ],
      "text/plain": [
       "                                                    name bedrooms  \\\n",
       "4      Condo in New York · ★4.91 · Studio · 1 bed · 1...   Studio   \n",
       "11     Rental unit in Brooklyn · ★4.71 · Studio · 1 b...   Studio   \n",
       "43     Home in Queens · ★4.67 · Studio · 3 beds · 1 s...   Studio   \n",
       "56     Rental unit in New York · ★5.0 · Studio · 1 be...   Studio   \n",
       "57     Serviced apartment in Brooklyn · ★4.95 · Studi...   Studio   \n",
       "...                                                  ...      ...   \n",
       "20728  Rental unit in New York · Studio · 1 bed · 1 bath   Studio   \n",
       "20732  Rental unit in New York · ★5.0 · Studio · 1 be...   Studio   \n",
       "20736  Rental unit in New York · ★4.67 · Studio · 1 b...   Studio   \n",
       "20738  Rental unit in New York · ★4.86 · Studio · 2 b...   Studio   \n",
       "20748  Rental unit in New York · ★4.94 · Studio · 1 b...   Studio   \n",
       "\n",
       "             room_type  \n",
       "4      Entire home/apt  \n",
       "11     Entire home/apt  \n",
       "43        Private room  \n",
       "56     Entire home/apt  \n",
       "57          Hotel room  \n",
       "...                ...  \n",
       "20728  Entire home/apt  \n",
       "20732  Entire home/apt  \n",
       "20736  Entire home/apt  \n",
       "20738  Entire home/apt  \n",
       "20748  Entire home/apt  \n",
       "\n",
       "[1407 rows x 3 columns]"
      ]
     },
     "execution_count": 377,
     "metadata": {},
     "output_type": "execute_result"
    }
   ],
   "source": [
    "data[data[\"bedrooms\"] == \"Studio\"][[\"name\",\"bedrooms\",\"room_type\"]]"
   ]
  },
  {
   "cell_type": "markdown",
   "metadata": {},
   "source": [
    "We will have to replace studio with number following it in name column which is actually bedroom value\n",
    "\n",
    "We will replace \"Studio\" in the bedrooms column with the number of beds found in the name column, if available; otherwise, it should keep the original value.\n",
    "\n",
    "We will use regular expression to achieve this. Although not thought, regular expression was thought in R."
   ]
  },
  {
   "cell_type": "code",
   "execution_count": 379,
   "metadata": {
    "id": "l4FElq49LSRE"
   },
   "outputs": [],
   "source": [
    "import re\n",
    "def replace_studio(row):\n",
    "    if row['bedrooms'] == 'Studio':\n",
    "        match = re.search(r'(\\d+)\\s*Bed', str(row['name']), re.IGNORECASE)\n",
    "        if match:\n",
    "            return match.group(1) \n",
    "    return row['bedrooms']\n",
    "\n",
    "data['bedrooms'] = data.apply(replace_studio, axis=1)\n"
   ]
  },
  {
   "cell_type": "code",
   "execution_count": 380,
   "metadata": {
    "colab": {
     "base_uri": "https://localhost:8080/",
     "height": 1000
    },
    "id": "wiX6frw4QIdb",
    "outputId": "0b0ecf98-3e44-4674-a480-ba51a36329b2"
   },
   "outputs": [
    {
     "data": {
      "text/html": [
       "<div>\n",
       "<style scoped>\n",
       "    .dataframe tbody tr th:only-of-type {\n",
       "        vertical-align: middle;\n",
       "    }\n",
       "\n",
       "    .dataframe tbody tr th {\n",
       "        vertical-align: top;\n",
       "    }\n",
       "\n",
       "    .dataframe thead th {\n",
       "        text-align: right;\n",
       "    }\n",
       "</style>\n",
       "<table border=\"1\" class=\"dataframe\">\n",
       "  <thead>\n",
       "    <tr style=\"text-align: right;\">\n",
       "      <th></th>\n",
       "      <th>name</th>\n",
       "      <th>bedrooms</th>\n",
       "      <th>room_type</th>\n",
       "    </tr>\n",
       "  </thead>\n",
       "  <tbody>\n",
       "    <tr>\n",
       "      <th>1636</th>\n",
       "      <td>Rental unit in New York · ★4.84 · Studio · 1 bath</td>\n",
       "      <td>Studio</td>\n",
       "      <td>Entire home/apt</td>\n",
       "    </tr>\n",
       "    <tr>\n",
       "      <th>1692</th>\n",
       "      <td>Loft in New York · Studio · 1.5 baths</td>\n",
       "      <td>Studio</td>\n",
       "      <td>Entire home/apt</td>\n",
       "    </tr>\n",
       "    <tr>\n",
       "      <th>2531</th>\n",
       "      <td>Home in New York · ★4.82 · Studio · 1.5 baths</td>\n",
       "      <td>Studio</td>\n",
       "      <td>Entire home/apt</td>\n",
       "    </tr>\n",
       "    <tr>\n",
       "      <th>3020</th>\n",
       "      <td>Rental unit in New York · ★New · Studio · 1 bath</td>\n",
       "      <td>Studio</td>\n",
       "      <td>Entire home/apt</td>\n",
       "    </tr>\n",
       "    <tr>\n",
       "      <th>3389</th>\n",
       "      <td>Rental unit in New York · ★5.0 · Studio · 1 bath</td>\n",
       "      <td>Studio</td>\n",
       "      <td>Entire home/apt</td>\n",
       "    </tr>\n",
       "    <tr>\n",
       "      <th>4162</th>\n",
       "      <td>Hotel in Brooklyn · ★New · Studio · 1 private ...</td>\n",
       "      <td>Studio</td>\n",
       "      <td>Private room</td>\n",
       "    </tr>\n",
       "    <tr>\n",
       "      <th>4360</th>\n",
       "      <td>Rental unit in New York · ★4.81 · Studio · 1 bath</td>\n",
       "      <td>Studio</td>\n",
       "      <td>Entire home/apt</td>\n",
       "    </tr>\n",
       "    <tr>\n",
       "      <th>4636</th>\n",
       "      <td>Rental unit in Brooklyn · Studio · 1 bath</td>\n",
       "      <td>Studio</td>\n",
       "      <td>Entire home/apt</td>\n",
       "    </tr>\n",
       "    <tr>\n",
       "      <th>4690</th>\n",
       "      <td>Rental unit in New York · ★4.60 · Studio · 1 bath</td>\n",
       "      <td>Studio</td>\n",
       "      <td>Entire home/apt</td>\n",
       "    </tr>\n",
       "    <tr>\n",
       "      <th>5321</th>\n",
       "      <td>Rental unit in Brooklyn · ★4.85 · Studio · 1 p...</td>\n",
       "      <td>Studio</td>\n",
       "      <td>Private room</td>\n",
       "    </tr>\n",
       "    <tr>\n",
       "      <th>5408</th>\n",
       "      <td>Townhouse in Brooklyn · ★4.87 · Studio</td>\n",
       "      <td>Studio</td>\n",
       "      <td>Private room</td>\n",
       "    </tr>\n",
       "    <tr>\n",
       "      <th>6590</th>\n",
       "      <td>Condo in New York · ★4.89 · Studio · 1 bath</td>\n",
       "      <td>Studio</td>\n",
       "      <td>Entire home/apt</td>\n",
       "    </tr>\n",
       "    <tr>\n",
       "      <th>6913</th>\n",
       "      <td>Hostel in New York · Studio · 1 shared bath</td>\n",
       "      <td>Studio</td>\n",
       "      <td>Private room</td>\n",
       "    </tr>\n",
       "    <tr>\n",
       "      <th>7485</th>\n",
       "      <td>Rental unit in Brooklyn · ★4.84 · Studio · 1 bath</td>\n",
       "      <td>Studio</td>\n",
       "      <td>Entire home/apt</td>\n",
       "    </tr>\n",
       "    <tr>\n",
       "      <th>9172</th>\n",
       "      <td>Rental unit in Brooklyn · Studio · 1 shared bath</td>\n",
       "      <td>Studio</td>\n",
       "      <td>Private room</td>\n",
       "    </tr>\n",
       "    <tr>\n",
       "      <th>9707</th>\n",
       "      <td>Rental unit in New York · ★4.65 · Studio · 1 bath</td>\n",
       "      <td>Studio</td>\n",
       "      <td>Entire home/apt</td>\n",
       "    </tr>\n",
       "    <tr>\n",
       "      <th>9860</th>\n",
       "      <td>Aparthotel in New York · ★4.79 · Studio · 1 bath</td>\n",
       "      <td>Studio</td>\n",
       "      <td>Entire home/apt</td>\n",
       "    </tr>\n",
       "    <tr>\n",
       "      <th>10110</th>\n",
       "      <td>Condo in New York · ★4.53 · Studio · 1 bath</td>\n",
       "      <td>Studio</td>\n",
       "      <td>Entire home/apt</td>\n",
       "    </tr>\n",
       "    <tr>\n",
       "      <th>10298</th>\n",
       "      <td>Rental unit in New York · Studio · 1 bath</td>\n",
       "      <td>Studio</td>\n",
       "      <td>Entire home/apt</td>\n",
       "    </tr>\n",
       "    <tr>\n",
       "      <th>10727</th>\n",
       "      <td>Rental unit in New York · Studio · 1 bath</td>\n",
       "      <td>Studio</td>\n",
       "      <td>Entire home/apt</td>\n",
       "    </tr>\n",
       "    <tr>\n",
       "      <th>10810</th>\n",
       "      <td>Rental unit in The Bronx · ★4.70 · Studio · 1 ...</td>\n",
       "      <td>Studio</td>\n",
       "      <td>Private room</td>\n",
       "    </tr>\n",
       "    <tr>\n",
       "      <th>11335</th>\n",
       "      <td>Rental unit in Brooklyn · ★4.64 · Studio · 1 bath</td>\n",
       "      <td>Studio</td>\n",
       "      <td>Entire home/apt</td>\n",
       "    </tr>\n",
       "    <tr>\n",
       "      <th>11526</th>\n",
       "      <td>Home in The Bronx · ★4.66 · Studio · 1 private...</td>\n",
       "      <td>Studio</td>\n",
       "      <td>Private room</td>\n",
       "    </tr>\n",
       "    <tr>\n",
       "      <th>11955</th>\n",
       "      <td>Rental unit in Brooklyn · ★4.83 · Studio · 1 bath</td>\n",
       "      <td>Studio</td>\n",
       "      <td>Entire home/apt</td>\n",
       "    </tr>\n",
       "    <tr>\n",
       "      <th>12244</th>\n",
       "      <td>Rental unit in New York · ★4.90 · Studio · 1 bath</td>\n",
       "      <td>Studio</td>\n",
       "      <td>Entire home/apt</td>\n",
       "    </tr>\n",
       "    <tr>\n",
       "      <th>12460</th>\n",
       "      <td>Loft in Brooklyn · ★4.78 · Studio · 2 baths</td>\n",
       "      <td>Studio</td>\n",
       "      <td>Entire home/apt</td>\n",
       "    </tr>\n",
       "    <tr>\n",
       "      <th>13281</th>\n",
       "      <td>Rental unit in Brooklyn · ★5.0 · Studio · 1 bath</td>\n",
       "      <td>Studio</td>\n",
       "      <td>Entire home/apt</td>\n",
       "    </tr>\n",
       "    <tr>\n",
       "      <th>13392</th>\n",
       "      <td>Hotel in New York · ★4.61 · Studio · 1 shared ...</td>\n",
       "      <td>Studio</td>\n",
       "      <td>Private room</td>\n",
       "    </tr>\n",
       "    <tr>\n",
       "      <th>13679</th>\n",
       "      <td>Rental unit in New York · ★4.71 · Studio · 1 bath</td>\n",
       "      <td>Studio</td>\n",
       "      <td>Entire home/apt</td>\n",
       "    </tr>\n",
       "    <tr>\n",
       "      <th>13899</th>\n",
       "      <td>Rental unit in New York · Studio · 1 bath</td>\n",
       "      <td>Studio</td>\n",
       "      <td>Entire home/apt</td>\n",
       "    </tr>\n",
       "    <tr>\n",
       "      <th>13970</th>\n",
       "      <td>Rental unit in New York · ★4.93 · Studio · 1 bath</td>\n",
       "      <td>Studio</td>\n",
       "      <td>Entire home/apt</td>\n",
       "    </tr>\n",
       "    <tr>\n",
       "      <th>14043</th>\n",
       "      <td>Loft in New York · ★5.0 · Studio · 1 bath</td>\n",
       "      <td>Studio</td>\n",
       "      <td>Entire home/apt</td>\n",
       "    </tr>\n",
       "    <tr>\n",
       "      <th>14064</th>\n",
       "      <td>Condo in New York · Studio · 1 bath</td>\n",
       "      <td>Studio</td>\n",
       "      <td>Entire home/apt</td>\n",
       "    </tr>\n",
       "    <tr>\n",
       "      <th>15196</th>\n",
       "      <td>Condo in New York · Studio · 1 bath</td>\n",
       "      <td>Studio</td>\n",
       "      <td>Entire home/apt</td>\n",
       "    </tr>\n",
       "    <tr>\n",
       "      <th>15229</th>\n",
       "      <td>Rental unit in New York · ★4.80 · Studio · 1 bath</td>\n",
       "      <td>Studio</td>\n",
       "      <td>Entire home/apt</td>\n",
       "    </tr>\n",
       "    <tr>\n",
       "      <th>15897</th>\n",
       "      <td>Guest suite in Brooklyn · ★4.67 · Studio · 1 p...</td>\n",
       "      <td>Studio</td>\n",
       "      <td>Private room</td>\n",
       "    </tr>\n",
       "    <tr>\n",
       "      <th>16352</th>\n",
       "      <td>Rental unit in New York · Studio · 1 bath</td>\n",
       "      <td>Studio</td>\n",
       "      <td>Entire home/apt</td>\n",
       "    </tr>\n",
       "    <tr>\n",
       "      <th>16933</th>\n",
       "      <td>Rental unit in Astoria · ★5.0 · Studio · 1 bath</td>\n",
       "      <td>Studio</td>\n",
       "      <td>Entire home/apt</td>\n",
       "    </tr>\n",
       "    <tr>\n",
       "      <th>16971</th>\n",
       "      <td>Rental unit in New York · Studio · 1 bath</td>\n",
       "      <td>Studio</td>\n",
       "      <td>Entire home/apt</td>\n",
       "    </tr>\n",
       "    <tr>\n",
       "      <th>17052</th>\n",
       "      <td>Condo in New York · ★4.73 · Studio · 1 bath</td>\n",
       "      <td>Studio</td>\n",
       "      <td>Entire home/apt</td>\n",
       "    </tr>\n",
       "    <tr>\n",
       "      <th>17634</th>\n",
       "      <td>Rental unit in Brooklyn · Studio · 1 bath</td>\n",
       "      <td>Studio</td>\n",
       "      <td>Entire home/apt</td>\n",
       "    </tr>\n",
       "    <tr>\n",
       "      <th>18308</th>\n",
       "      <td>Rental unit in Brooklyn · ★4.69 · Studio · 1.5...</td>\n",
       "      <td>Studio</td>\n",
       "      <td>Shared room</td>\n",
       "    </tr>\n",
       "    <tr>\n",
       "      <th>18655</th>\n",
       "      <td>Rental unit in Brooklyn · Studio · 1 shared bath</td>\n",
       "      <td>Studio</td>\n",
       "      <td>Private room</td>\n",
       "    </tr>\n",
       "    <tr>\n",
       "      <th>19008</th>\n",
       "      <td>Rental unit in New York · ★4.63 · Studio · 1 bath</td>\n",
       "      <td>Studio</td>\n",
       "      <td>Entire home/apt</td>\n",
       "    </tr>\n",
       "    <tr>\n",
       "      <th>19340</th>\n",
       "      <td>Rental unit in New York · ★4.76 · Studio · 1 bath</td>\n",
       "      <td>Studio</td>\n",
       "      <td>Entire home/apt</td>\n",
       "    </tr>\n",
       "  </tbody>\n",
       "</table>\n",
       "</div>"
      ],
      "text/plain": [
       "                                                    name bedrooms  \\\n",
       "1636   Rental unit in New York · ★4.84 · Studio · 1 bath   Studio   \n",
       "1692               Loft in New York · Studio · 1.5 baths   Studio   \n",
       "2531       Home in New York · ★4.82 · Studio · 1.5 baths   Studio   \n",
       "3020    Rental unit in New York · ★New · Studio · 1 bath   Studio   \n",
       "3389    Rental unit in New York · ★5.0 · Studio · 1 bath   Studio   \n",
       "4162   Hotel in Brooklyn · ★New · Studio · 1 private ...   Studio   \n",
       "4360   Rental unit in New York · ★4.81 · Studio · 1 bath   Studio   \n",
       "4636           Rental unit in Brooklyn · Studio · 1 bath   Studio   \n",
       "4690   Rental unit in New York · ★4.60 · Studio · 1 bath   Studio   \n",
       "5321   Rental unit in Brooklyn · ★4.85 · Studio · 1 p...   Studio   \n",
       "5408              Townhouse in Brooklyn · ★4.87 · Studio   Studio   \n",
       "6590         Condo in New York · ★4.89 · Studio · 1 bath   Studio   \n",
       "6913         Hostel in New York · Studio · 1 shared bath   Studio   \n",
       "7485   Rental unit in Brooklyn · ★4.84 · Studio · 1 bath   Studio   \n",
       "9172    Rental unit in Brooklyn · Studio · 1 shared bath   Studio   \n",
       "9707   Rental unit in New York · ★4.65 · Studio · 1 bath   Studio   \n",
       "9860    Aparthotel in New York · ★4.79 · Studio · 1 bath   Studio   \n",
       "10110        Condo in New York · ★4.53 · Studio · 1 bath   Studio   \n",
       "10298          Rental unit in New York · Studio · 1 bath   Studio   \n",
       "10727          Rental unit in New York · Studio · 1 bath   Studio   \n",
       "10810  Rental unit in The Bronx · ★4.70 · Studio · 1 ...   Studio   \n",
       "11335  Rental unit in Brooklyn · ★4.64 · Studio · 1 bath   Studio   \n",
       "11526  Home in The Bronx · ★4.66 · Studio · 1 private...   Studio   \n",
       "11955  Rental unit in Brooklyn · ★4.83 · Studio · 1 bath   Studio   \n",
       "12244  Rental unit in New York · ★4.90 · Studio · 1 bath   Studio   \n",
       "12460        Loft in Brooklyn · ★4.78 · Studio · 2 baths   Studio   \n",
       "13281   Rental unit in Brooklyn · ★5.0 · Studio · 1 bath   Studio   \n",
       "13392  Hotel in New York · ★4.61 · Studio · 1 shared ...   Studio   \n",
       "13679  Rental unit in New York · ★4.71 · Studio · 1 bath   Studio   \n",
       "13899          Rental unit in New York · Studio · 1 bath   Studio   \n",
       "13970  Rental unit in New York · ★4.93 · Studio · 1 bath   Studio   \n",
       "14043          Loft in New York · ★5.0 · Studio · 1 bath   Studio   \n",
       "14064                Condo in New York · Studio · 1 bath   Studio   \n",
       "15196                Condo in New York · Studio · 1 bath   Studio   \n",
       "15229  Rental unit in New York · ★4.80 · Studio · 1 bath   Studio   \n",
       "15897  Guest suite in Brooklyn · ★4.67 · Studio · 1 p...   Studio   \n",
       "16352          Rental unit in New York · Studio · 1 bath   Studio   \n",
       "16933    Rental unit in Astoria · ★5.0 · Studio · 1 bath   Studio   \n",
       "16971          Rental unit in New York · Studio · 1 bath   Studio   \n",
       "17052        Condo in New York · ★4.73 · Studio · 1 bath   Studio   \n",
       "17634          Rental unit in Brooklyn · Studio · 1 bath   Studio   \n",
       "18308  Rental unit in Brooklyn · ★4.69 · Studio · 1.5...   Studio   \n",
       "18655   Rental unit in Brooklyn · Studio · 1 shared bath   Studio   \n",
       "19008  Rental unit in New York · ★4.63 · Studio · 1 bath   Studio   \n",
       "19340  Rental unit in New York · ★4.76 · Studio · 1 bath   Studio   \n",
       "\n",
       "             room_type  \n",
       "1636   Entire home/apt  \n",
       "1692   Entire home/apt  \n",
       "2531   Entire home/apt  \n",
       "3020   Entire home/apt  \n",
       "3389   Entire home/apt  \n",
       "4162      Private room  \n",
       "4360   Entire home/apt  \n",
       "4636   Entire home/apt  \n",
       "4690   Entire home/apt  \n",
       "5321      Private room  \n",
       "5408      Private room  \n",
       "6590   Entire home/apt  \n",
       "6913      Private room  \n",
       "7485   Entire home/apt  \n",
       "9172      Private room  \n",
       "9707   Entire home/apt  \n",
       "9860   Entire home/apt  \n",
       "10110  Entire home/apt  \n",
       "10298  Entire home/apt  \n",
       "10727  Entire home/apt  \n",
       "10810     Private room  \n",
       "11335  Entire home/apt  \n",
       "11526     Private room  \n",
       "11955  Entire home/apt  \n",
       "12244  Entire home/apt  \n",
       "12460  Entire home/apt  \n",
       "13281  Entire home/apt  \n",
       "13392     Private room  \n",
       "13679  Entire home/apt  \n",
       "13899  Entire home/apt  \n",
       "13970  Entire home/apt  \n",
       "14043  Entire home/apt  \n",
       "14064  Entire home/apt  \n",
       "15196  Entire home/apt  \n",
       "15229  Entire home/apt  \n",
       "15897     Private room  \n",
       "16352  Entire home/apt  \n",
       "16933  Entire home/apt  \n",
       "16971  Entire home/apt  \n",
       "17052  Entire home/apt  \n",
       "17634  Entire home/apt  \n",
       "18308      Shared room  \n",
       "18655     Private room  \n",
       "19008  Entire home/apt  \n",
       "19340  Entire home/apt  "
      ]
     },
     "execution_count": 380,
     "metadata": {},
     "output_type": "execute_result"
    }
   ],
   "source": [
    "data[data[\"bedrooms\"] == \"Studio\"][[\"name\",\"bedrooms\",\"room_type\"]]"
   ]
  },
  {
   "cell_type": "markdown",
   "metadata": {},
   "source": [
    "We still have Studio value in bedrooms column\n",
    "\n",
    "Need to replace Studio value in bedrooms column with NA"
   ]
  },
  {
   "cell_type": "code",
   "execution_count": 382,
   "metadata": {
    "id": "LrSKRXpORnrq"
   },
   "outputs": [],
   "source": [
    "data['bedrooms'] = data['bedrooms'].replace('Studio', pd.NA)"
   ]
  },
  {
   "cell_type": "code",
   "execution_count": 383,
   "metadata": {
    "colab": {
     "base_uri": "https://localhost:8080/"
    },
    "id": "MTD4EfWwStvE",
    "outputId": "5fece4c1-13de-4a80-e4da-702e729750db"
   },
   "outputs": [
    {
     "data": {
      "text/plain": [
       "array(['2', '1', '3', '6', '4', '5', <NA>, '7', '15', '9', '8', '14'],\n",
       "      dtype=object)"
      ]
     },
     "execution_count": 383,
     "metadata": {},
     "output_type": "execute_result"
    }
   ],
   "source": [
    "data['bedrooms'].unique()"
   ]
  },
  {
   "cell_type": "code",
   "execution_count": 384,
   "metadata": {},
   "outputs": [
    {
     "name": "stdout",
     "output_type": "stream",
     "text": [
      "0.2860230089620543\n"
     ]
    }
   ],
   "source": [
    "null_percentage_bedrooms = (data['bedrooms'].isnull().sum() / len(data)) * 100\n",
    "print(null_percentage_bedrooms)"
   ]
  },
  {
   "cell_type": "markdown",
   "metadata": {},
   "source": [
    "Converting rating column to integer type"
   ]
  },
  {
   "cell_type": "code",
   "execution_count": 386,
   "metadata": {
    "id": "3vvigXSdSzFQ"
   },
   "outputs": [],
   "source": [
    "data['bedrooms'] = pd.to_numeric(data['bedrooms'], errors='coerce').astype('Int64')"
   ]
  },
  {
   "cell_type": "markdown",
   "metadata": {},
   "source": [
    "replace NA value with mode for bedrooms column"
   ]
  },
  {
   "cell_type": "code",
   "execution_count": 388,
   "metadata": {
    "colab": {
     "base_uri": "https://localhost:8080/"
    },
    "id": "6adSoIKVyjJw",
    "outputId": "1871982c-5a98-4564-95b7-4742b9b29700"
   },
   "outputs": [
    {
     "name": "stderr",
     "output_type": "stream",
     "text": [
      "C:\\Users\\Srivatsava CK\\AppData\\Local\\Temp\\ipykernel_46572\\1046839375.py:1: FutureWarning:\n",
      "\n",
      "A value is trying to be set on a copy of a DataFrame or Series through chained assignment using an inplace method.\n",
      "The behavior will change in pandas 3.0. This inplace method will never work because the intermediate object on which we are setting values always behaves as a copy.\n",
      "\n",
      "For example, when doing 'df[col].method(value, inplace=True)', try using 'df.method({col: value}, inplace=True)' or df[col] = df[col].method(value) instead, to perform the operation inplace on the original object.\n",
      "\n",
      "\n",
      "\n"
     ]
    }
   ],
   "source": [
    "data['bedrooms'].fillna(data['bedrooms'].mode()[0], inplace=True)"
   ]
  },
  {
   "cell_type": "code",
   "execution_count": 389,
   "metadata": {
    "colab": {
     "base_uri": "https://localhost:8080/"
    },
    "id": "uZdzZw4qyzfI",
    "outputId": "d975d1c9-6968-4889-a5a9-32dcb32a1345"
   },
   "outputs": [
    {
     "data": {
      "text/plain": [
       "<IntegerArray>\n",
       "[2, 1, 3, 6, 4, 5, 7, 15, 9, 8, 14]\n",
       "Length: 11, dtype: Int64"
      ]
     },
     "execution_count": 389,
     "metadata": {},
     "output_type": "execute_result"
    }
   ],
   "source": [
    "data['bedrooms'].unique()"
   ]
  },
  {
   "cell_type": "code",
   "execution_count": 390,
   "metadata": {
    "colab": {
     "base_uri": "https://localhost:8080/"
    },
    "id": "OTiThfHrTisX",
    "outputId": "ed550d6b-c2d9-475f-8573-03f48805cd88"
   },
   "outputs": [
    {
     "data": {
      "text/plain": [
       "Int64Dtype()"
      ]
     },
     "execution_count": 390,
     "metadata": {},
     "output_type": "execute_result"
    }
   ],
   "source": [
    "data[\"bedrooms\"].dtype"
   ]
  },
  {
   "cell_type": "code",
   "execution_count": 391,
   "metadata": {
    "colab": {
     "base_uri": "https://localhost:8080/"
    },
    "id": "Akm-oQ6qT0rt",
    "outputId": "c3fcf995-c602-4499-dc59-68b983572624"
   },
   "outputs": [
    {
     "data": {
      "text/plain": [
       "array([ 1,  2,  3,  5,  4,  8,  6, 10,  7, 12,  9, 21, 11, 14, 13, 18, 42],\n",
       "      dtype=int64)"
      ]
     },
     "execution_count": 391,
     "metadata": {},
     "output_type": "execute_result"
    }
   ],
   "source": [
    "data['beds'].unique()"
   ]
  },
  {
   "cell_type": "code",
   "execution_count": 392,
   "metadata": {
    "colab": {
     "base_uri": "https://localhost:8080/"
    },
    "id": "vNn1L0FTT53Q",
    "outputId": "2a96631d-928e-457f-fdd2-e3092836e37c"
   },
   "outputs": [
    {
     "data": {
      "text/plain": [
       "dtype('int64')"
      ]
     },
     "execution_count": 392,
     "metadata": {},
     "output_type": "execute_result"
    }
   ],
   "source": [
    "data['beds'].dtype"
   ]
  },
  {
   "cell_type": "code",
   "execution_count": 393,
   "metadata": {
    "colab": {
     "base_uri": "https://localhost:8080/"
    },
    "id": "XPplnELlUBP8",
    "outputId": "e3097e76-4c0c-470d-9538-968c47a4b184"
   },
   "outputs": [
    {
     "data": {
      "text/plain": [
       "array(['1', '3', '2', '4', '1.5', '0', '2.5', '5', '4.5', '6', '3.5',\n",
       "       '5.5', 'Not specified', '6.5', '15.5'], dtype=object)"
      ]
     },
     "execution_count": 393,
     "metadata": {},
     "output_type": "execute_result"
    }
   ],
   "source": [
    "data['baths'].unique()"
   ]
  },
  {
   "cell_type": "markdown",
   "metadata": {
    "id": "2Cqcro-ZVCaQ"
   },
   "source": [
    "Initially thought we can't have bathrooms values to .5, but .5 means just toilet. So that is not a problem. Need to check 0 bathroom from the name column"
   ]
  },
  {
   "cell_type": "markdown",
   "metadata": {},
   "source": [
    "Select name and baths column where bath is equal to 0"
   ]
  },
  {
   "cell_type": "code",
   "execution_count": 396,
   "metadata": {
    "colab": {
     "base_uri": "https://localhost:8080/",
     "height": 1000
    },
    "id": "xmKQxWEUUh2t",
    "outputId": "ceda5297-7d54-41dd-c4b4-8bfe5de9fb9f"
   },
   "outputs": [
    {
     "data": {
      "text/html": [
       "<div>\n",
       "<style scoped>\n",
       "    .dataframe tbody tr th:only-of-type {\n",
       "        vertical-align: middle;\n",
       "    }\n",
       "\n",
       "    .dataframe tbody tr th {\n",
       "        vertical-align: top;\n",
       "    }\n",
       "\n",
       "    .dataframe thead th {\n",
       "        text-align: right;\n",
       "    }\n",
       "</style>\n",
       "<table border=\"1\" class=\"dataframe\">\n",
       "  <thead>\n",
       "    <tr style=\"text-align: right;\">\n",
       "      <th></th>\n",
       "      <th>name</th>\n",
       "      <th>baths</th>\n",
       "    </tr>\n",
       "  </thead>\n",
       "  <tbody>\n",
       "    <tr>\n",
       "      <th>165</th>\n",
       "      <td>Rental unit in New York · 1 bedroom · 1 bed · ...</td>\n",
       "      <td>0</td>\n",
       "    </tr>\n",
       "    <tr>\n",
       "      <th>1123</th>\n",
       "      <td>Rental unit in New York · ★4.19 · 1 bedroom · ...</td>\n",
       "      <td>0</td>\n",
       "    </tr>\n",
       "    <tr>\n",
       "      <th>1756</th>\n",
       "      <td>Rental unit in New York · ★4.09 · 1 bedroom · ...</td>\n",
       "      <td>0</td>\n",
       "    </tr>\n",
       "    <tr>\n",
       "      <th>1832</th>\n",
       "      <td>Rental unit in New York · ★4.31 · 1 bedroom · ...</td>\n",
       "      <td>0</td>\n",
       "    </tr>\n",
       "    <tr>\n",
       "      <th>1891</th>\n",
       "      <td>Rental unit in New York · ★4.38 · 1 bedroom · ...</td>\n",
       "      <td>0</td>\n",
       "    </tr>\n",
       "    <tr>\n",
       "      <th>2103</th>\n",
       "      <td>Rental unit in New York · ★3.96 · 1 bedroom · ...</td>\n",
       "      <td>0</td>\n",
       "    </tr>\n",
       "    <tr>\n",
       "      <th>2122</th>\n",
       "      <td>Rental unit in New York · ★4.03 · 1 bedroom · ...</td>\n",
       "      <td>0</td>\n",
       "    </tr>\n",
       "    <tr>\n",
       "      <th>2491</th>\n",
       "      <td>Rental unit in New York · 1 bedroom · 1 bed · ...</td>\n",
       "      <td>0</td>\n",
       "    </tr>\n",
       "    <tr>\n",
       "      <th>2568</th>\n",
       "      <td>Rental unit in New York · ★4.19 · 1 bedroom · ...</td>\n",
       "      <td>0</td>\n",
       "    </tr>\n",
       "    <tr>\n",
       "      <th>2709</th>\n",
       "      <td>Hotel in New York · ★4.60 · 1 bedroom · 1 bed ...</td>\n",
       "      <td>0</td>\n",
       "    </tr>\n",
       "    <tr>\n",
       "      <th>3056</th>\n",
       "      <td>Rental unit in New York · 1 bedroom · 1 bed · ...</td>\n",
       "      <td>0</td>\n",
       "    </tr>\n",
       "    <tr>\n",
       "      <th>3582</th>\n",
       "      <td>Rental unit in Brooklyn · ★4.65 · 1 bedroom · ...</td>\n",
       "      <td>0</td>\n",
       "    </tr>\n",
       "    <tr>\n",
       "      <th>3656</th>\n",
       "      <td>Townhouse in Queens · ★4.92 · 1 bedroom · 1 be...</td>\n",
       "      <td>0</td>\n",
       "    </tr>\n",
       "    <tr>\n",
       "      <th>4500</th>\n",
       "      <td>Home in Brooklyn · ★4.62 · 1 bedroom · 1 bed ·...</td>\n",
       "      <td>0</td>\n",
       "    </tr>\n",
       "    <tr>\n",
       "      <th>4970</th>\n",
       "      <td>Rental unit in New York · ★4.97 · 1 bedroom · ...</td>\n",
       "      <td>0</td>\n",
       "    </tr>\n",
       "    <tr>\n",
       "      <th>5536</th>\n",
       "      <td>Rental unit in New York · ★4.26 · 1 bedroom · ...</td>\n",
       "      <td>0</td>\n",
       "    </tr>\n",
       "    <tr>\n",
       "      <th>5914</th>\n",
       "      <td>Rental unit in New York · 3 bedrooms · 1 bed ·...</td>\n",
       "      <td>0</td>\n",
       "    </tr>\n",
       "    <tr>\n",
       "      <th>6400</th>\n",
       "      <td>Rental unit in New York · ★4.13 · 1 bedroom · ...</td>\n",
       "      <td>0</td>\n",
       "    </tr>\n",
       "    <tr>\n",
       "      <th>6694</th>\n",
       "      <td>Rental unit in New York · ★4.67 · Studio · 1 b...</td>\n",
       "      <td>0</td>\n",
       "    </tr>\n",
       "    <tr>\n",
       "      <th>7690</th>\n",
       "      <td>Rental unit in Brooklyn  · ★4.68 · 1 bedroom ·...</td>\n",
       "      <td>0</td>\n",
       "    </tr>\n",
       "    <tr>\n",
       "      <th>8581</th>\n",
       "      <td>Rental unit in The Bronx · ★5.0 · 1 bedroom · ...</td>\n",
       "      <td>0</td>\n",
       "    </tr>\n",
       "    <tr>\n",
       "      <th>9626</th>\n",
       "      <td>Rental unit in New York · ★3.97 · 1 bedroom · ...</td>\n",
       "      <td>0</td>\n",
       "    </tr>\n",
       "    <tr>\n",
       "      <th>9854</th>\n",
       "      <td>Rental unit in New York · 1 bedroom · 1 bed · ...</td>\n",
       "      <td>0</td>\n",
       "    </tr>\n",
       "    <tr>\n",
       "      <th>9893</th>\n",
       "      <td>Rental unit in New York · 1 bedroom · 1 bed · ...</td>\n",
       "      <td>0</td>\n",
       "    </tr>\n",
       "    <tr>\n",
       "      <th>9908</th>\n",
       "      <td>Boat in Queens · ★4.84 · 2 beds · 0 baths</td>\n",
       "      <td>0</td>\n",
       "    </tr>\n",
       "    <tr>\n",
       "      <th>10092</th>\n",
       "      <td>Condo in Queens · Studio · 1 bed · 0 shared baths</td>\n",
       "      <td>0</td>\n",
       "    </tr>\n",
       "    <tr>\n",
       "      <th>10234</th>\n",
       "      <td>Rental unit in Astoria · ★4.33 · 1 bedroom · 1...</td>\n",
       "      <td>0</td>\n",
       "    </tr>\n",
       "    <tr>\n",
       "      <th>10417</th>\n",
       "      <td>Rental unit in New York · 1 bedroom · 1 bed · ...</td>\n",
       "      <td>0</td>\n",
       "    </tr>\n",
       "    <tr>\n",
       "      <th>10472</th>\n",
       "      <td>Rental unit in New York · 3 bedrooms · 1 bed ·...</td>\n",
       "      <td>0</td>\n",
       "    </tr>\n",
       "    <tr>\n",
       "      <th>10530</th>\n",
       "      <td>Boutique hotel in New York · ★4.71 · 1 bedroom...</td>\n",
       "      <td>0</td>\n",
       "    </tr>\n",
       "    <tr>\n",
       "      <th>11000</th>\n",
       "      <td>Rental unit in New York · 1 bedroom · 1 bed · ...</td>\n",
       "      <td>0</td>\n",
       "    </tr>\n",
       "    <tr>\n",
       "      <th>12410</th>\n",
       "      <td>Rental unit in Queens · ★4.92 · 1 bedroom · 1 ...</td>\n",
       "      <td>0</td>\n",
       "    </tr>\n",
       "    <tr>\n",
       "      <th>12944</th>\n",
       "      <td>Home in New York · ★4.93 · 1 bedroom · 3 beds ...</td>\n",
       "      <td>0</td>\n",
       "    </tr>\n",
       "    <tr>\n",
       "      <th>14048</th>\n",
       "      <td>Rental unit in Brooklyn · ★4.78 · 1 bedroom · ...</td>\n",
       "      <td>0</td>\n",
       "    </tr>\n",
       "    <tr>\n",
       "      <th>14270</th>\n",
       "      <td>Rental unit in Queens · ★4.20 · 1 bedroom · 1 ...</td>\n",
       "      <td>0</td>\n",
       "    </tr>\n",
       "    <tr>\n",
       "      <th>14412</th>\n",
       "      <td>Rental unit in New York · ★4.95 · 1 bedroom · ...</td>\n",
       "      <td>0</td>\n",
       "    </tr>\n",
       "    <tr>\n",
       "      <th>14648</th>\n",
       "      <td>Home in Queens · ★4.60 · 1 bedroom · 2 beds · ...</td>\n",
       "      <td>0</td>\n",
       "    </tr>\n",
       "    <tr>\n",
       "      <th>15001</th>\n",
       "      <td>Home in Bronx · ★4.87 · 1 bedroom · 1 bed · 0 ...</td>\n",
       "      <td>0</td>\n",
       "    </tr>\n",
       "    <tr>\n",
       "      <th>15346</th>\n",
       "      <td>Rental unit in New York · ★4.70 · 1 bedroom · ...</td>\n",
       "      <td>0</td>\n",
       "    </tr>\n",
       "    <tr>\n",
       "      <th>15468</th>\n",
       "      <td>Rental unit in New York · 6 bedrooms · 6 beds ...</td>\n",
       "      <td>0</td>\n",
       "    </tr>\n",
       "    <tr>\n",
       "      <th>15563</th>\n",
       "      <td>Rental unit in New York · Studio · 1 bed · 0 b...</td>\n",
       "      <td>0</td>\n",
       "    </tr>\n",
       "    <tr>\n",
       "      <th>16635</th>\n",
       "      <td>Home in Queens · ★4.0 · 1 bedroom · 1 bed · 0 ...</td>\n",
       "      <td>0</td>\n",
       "    </tr>\n",
       "    <tr>\n",
       "      <th>17286</th>\n",
       "      <td>Rental unit in New York · ★4.63 · 1 bedroom · ...</td>\n",
       "      <td>0</td>\n",
       "    </tr>\n",
       "    <tr>\n",
       "      <th>17845</th>\n",
       "      <td>Rental unit in New York · ★4.47 · 1 bedroom · ...</td>\n",
       "      <td>0</td>\n",
       "    </tr>\n",
       "    <tr>\n",
       "      <th>19237</th>\n",
       "      <td>Home in Bronx · ★4.88 · 1 bedroom · 1 bed · 0 ...</td>\n",
       "      <td>0</td>\n",
       "    </tr>\n",
       "    <tr>\n",
       "      <th>19390</th>\n",
       "      <td>Rental unit in New York · ★4.0 · 1 bedroom · 4...</td>\n",
       "      <td>0</td>\n",
       "    </tr>\n",
       "    <tr>\n",
       "      <th>19449</th>\n",
       "      <td>Rental unit in New York · ★4.04 · 1 bedroom · ...</td>\n",
       "      <td>0</td>\n",
       "    </tr>\n",
       "    <tr>\n",
       "      <th>19457</th>\n",
       "      <td>Rental unit in New York · ★4.36 · 1 bedroom · ...</td>\n",
       "      <td>0</td>\n",
       "    </tr>\n",
       "    <tr>\n",
       "      <th>19965</th>\n",
       "      <td>Home in Brooklyn · ★4.58 · 1 bedroom · 1 bed ·...</td>\n",
       "      <td>0</td>\n",
       "    </tr>\n",
       "    <tr>\n",
       "      <th>19972</th>\n",
       "      <td>Home in Brooklyn · ★4.72 · 1 bedroom · 1 bed ·...</td>\n",
       "      <td>0</td>\n",
       "    </tr>\n",
       "  </tbody>\n",
       "</table>\n",
       "</div>"
      ],
      "text/plain": [
       "                                                    name baths\n",
       "165    Rental unit in New York · 1 bedroom · 1 bed · ...     0\n",
       "1123   Rental unit in New York · ★4.19 · 1 bedroom · ...     0\n",
       "1756   Rental unit in New York · ★4.09 · 1 bedroom · ...     0\n",
       "1832   Rental unit in New York · ★4.31 · 1 bedroom · ...     0\n",
       "1891   Rental unit in New York · ★4.38 · 1 bedroom · ...     0\n",
       "2103   Rental unit in New York · ★3.96 · 1 bedroom · ...     0\n",
       "2122   Rental unit in New York · ★4.03 · 1 bedroom · ...     0\n",
       "2491   Rental unit in New York · 1 bedroom · 1 bed · ...     0\n",
       "2568   Rental unit in New York · ★4.19 · 1 bedroom · ...     0\n",
       "2709   Hotel in New York · ★4.60 · 1 bedroom · 1 bed ...     0\n",
       "3056   Rental unit in New York · 1 bedroom · 1 bed · ...     0\n",
       "3582   Rental unit in Brooklyn · ★4.65 · 1 bedroom · ...     0\n",
       "3656   Townhouse in Queens · ★4.92 · 1 bedroom · 1 be...     0\n",
       "4500   Home in Brooklyn · ★4.62 · 1 bedroom · 1 bed ·...     0\n",
       "4970   Rental unit in New York · ★4.97 · 1 bedroom · ...     0\n",
       "5536   Rental unit in New York · ★4.26 · 1 bedroom · ...     0\n",
       "5914   Rental unit in New York · 3 bedrooms · 1 bed ·...     0\n",
       "6400   Rental unit in New York · ★4.13 · 1 bedroom · ...     0\n",
       "6694   Rental unit in New York · ★4.67 · Studio · 1 b...     0\n",
       "7690   Rental unit in Brooklyn  · ★4.68 · 1 bedroom ·...     0\n",
       "8581   Rental unit in The Bronx · ★5.0 · 1 bedroom · ...     0\n",
       "9626   Rental unit in New York · ★3.97 · 1 bedroom · ...     0\n",
       "9854   Rental unit in New York · 1 bedroom · 1 bed · ...     0\n",
       "9893   Rental unit in New York · 1 bedroom · 1 bed · ...     0\n",
       "9908           Boat in Queens · ★4.84 · 2 beds · 0 baths     0\n",
       "10092  Condo in Queens · Studio · 1 bed · 0 shared baths     0\n",
       "10234  Rental unit in Astoria · ★4.33 · 1 bedroom · 1...     0\n",
       "10417  Rental unit in New York · 1 bedroom · 1 bed · ...     0\n",
       "10472  Rental unit in New York · 3 bedrooms · 1 bed ·...     0\n",
       "10530  Boutique hotel in New York · ★4.71 · 1 bedroom...     0\n",
       "11000  Rental unit in New York · 1 bedroom · 1 bed · ...     0\n",
       "12410  Rental unit in Queens · ★4.92 · 1 bedroom · 1 ...     0\n",
       "12944  Home in New York · ★4.93 · 1 bedroom · 3 beds ...     0\n",
       "14048  Rental unit in Brooklyn · ★4.78 · 1 bedroom · ...     0\n",
       "14270  Rental unit in Queens · ★4.20 · 1 bedroom · 1 ...     0\n",
       "14412  Rental unit in New York · ★4.95 · 1 bedroom · ...     0\n",
       "14648  Home in Queens · ★4.60 · 1 bedroom · 2 beds · ...     0\n",
       "15001  Home in Bronx · ★4.87 · 1 bedroom · 1 bed · 0 ...     0\n",
       "15346  Rental unit in New York · ★4.70 · 1 bedroom · ...     0\n",
       "15468  Rental unit in New York · 6 bedrooms · 6 beds ...     0\n",
       "15563  Rental unit in New York · Studio · 1 bed · 0 b...     0\n",
       "16635  Home in Queens · ★4.0 · 1 bedroom · 1 bed · 0 ...     0\n",
       "17286  Rental unit in New York · ★4.63 · 1 bedroom · ...     0\n",
       "17845  Rental unit in New York · ★4.47 · 1 bedroom · ...     0\n",
       "19237  Home in Bronx · ★4.88 · 1 bedroom · 1 bed · 0 ...     0\n",
       "19390  Rental unit in New York · ★4.0 · 1 bedroom · 4...     0\n",
       "19449  Rental unit in New York · ★4.04 · 1 bedroom · ...     0\n",
       "19457  Rental unit in New York · ★4.36 · 1 bedroom · ...     0\n",
       "19965  Home in Brooklyn · ★4.58 · 1 bedroom · 1 bed ·...     0\n",
       "19972  Home in Brooklyn · ★4.72 · 1 bedroom · 1 bed ·...     0"
      ]
     },
     "execution_count": 396,
     "metadata": {},
     "output_type": "execute_result"
    }
   ],
   "source": [
    "data.loc[data['baths'] == '0', ['name', 'baths']]"
   ]
  },
  {
   "cell_type": "markdown",
   "metadata": {},
   "source": [
    "We can have 0 bathrooms, so no modification needed\n",
    "\n",
    "Select name and baths column where bath is equal to 'Not specified'"
   ]
  },
  {
   "cell_type": "code",
   "execution_count": 398,
   "metadata": {
    "colab": {
     "base_uri": "https://localhost:8080/",
     "height": 237
    },
    "id": "f7x8ThufWN56",
    "outputId": "9b12a333-b6a5-4fbc-d107-e1dc561d45ea"
   },
   "outputs": [
    {
     "data": {
      "text/html": [
       "<div>\n",
       "<style scoped>\n",
       "    .dataframe tbody tr th:only-of-type {\n",
       "        vertical-align: middle;\n",
       "    }\n",
       "\n",
       "    .dataframe tbody tr th {\n",
       "        vertical-align: top;\n",
       "    }\n",
       "\n",
       "    .dataframe thead th {\n",
       "        text-align: right;\n",
       "    }\n",
       "</style>\n",
       "<table border=\"1\" class=\"dataframe\">\n",
       "  <thead>\n",
       "    <tr style=\"text-align: right;\">\n",
       "      <th></th>\n",
       "      <th>name</th>\n",
       "      <th>baths</th>\n",
       "    </tr>\n",
       "  </thead>\n",
       "  <tbody>\n",
       "    <tr>\n",
       "      <th>5408</th>\n",
       "      <td>Townhouse in Brooklyn · ★4.87 · Studio</td>\n",
       "      <td>Not specified</td>\n",
       "    </tr>\n",
       "    <tr>\n",
       "      <th>12800</th>\n",
       "      <td>Home in Brooklyn · ★4.96 · 1 bedroom · 1 bed</td>\n",
       "      <td>Not specified</td>\n",
       "    </tr>\n",
       "    <tr>\n",
       "      <th>13873</th>\n",
       "      <td>Hotel in New York · Studio · 1 bed</td>\n",
       "      <td>Not specified</td>\n",
       "    </tr>\n",
       "    <tr>\n",
       "      <th>14127</th>\n",
       "      <td>Home in Queens · ★4.74 · 1 bedroom</td>\n",
       "      <td>Not specified</td>\n",
       "    </tr>\n",
       "    <tr>\n",
       "      <th>15088</th>\n",
       "      <td>Rental unit in New York · ★4.59 · Studio · 2 beds</td>\n",
       "      <td>Not specified</td>\n",
       "    </tr>\n",
       "    <tr>\n",
       "      <th>20750</th>\n",
       "      <td>Rental unit in New York · ★5.0 · 1 bedroom</td>\n",
       "      <td>Not specified</td>\n",
       "    </tr>\n",
       "  </tbody>\n",
       "</table>\n",
       "</div>"
      ],
      "text/plain": [
       "                                                    name          baths\n",
       "5408              Townhouse in Brooklyn · ★4.87 · Studio  Not specified\n",
       "12800       Home in Brooklyn · ★4.96 · 1 bedroom · 1 bed  Not specified\n",
       "13873                 Hotel in New York · Studio · 1 bed  Not specified\n",
       "14127                 Home in Queens · ★4.74 · 1 bedroom  Not specified\n",
       "15088  Rental unit in New York · ★4.59 · Studio · 2 beds  Not specified\n",
       "20750         Rental unit in New York · ★5.0 · 1 bedroom  Not specified"
      ]
     },
     "execution_count": 398,
     "metadata": {},
     "output_type": "execute_result"
    }
   ],
   "source": [
    "data.loc[data['baths'] == 'Not specified', ['name', 'baths']]"
   ]
  },
  {
   "cell_type": "markdown",
   "metadata": {},
   "source": [
    "Changing not specified values to NA"
   ]
  },
  {
   "cell_type": "code",
   "execution_count": 400,
   "metadata": {
    "id": "74OFYrWpVl09"
   },
   "outputs": [],
   "source": [
    "data['baths'] = data['baths'].replace('Not specified', pd.NA)"
   ]
  },
  {
   "cell_type": "code",
   "execution_count": 401,
   "metadata": {
    "colab": {
     "base_uri": "https://localhost:8080/"
    },
    "id": "UYwpwqkQZjPk",
    "outputId": "d411cb3e-844c-4ee3-e360-6db14463568f"
   },
   "outputs": [
    {
     "data": {
      "text/plain": [
       "array(['1', '3', '2', '4', '1.5', '0', '2.5', '5', '4.5', '6', '3.5',\n",
       "       '5.5', <NA>, '6.5', '15.5'], dtype=object)"
      ]
     },
     "execution_count": 401,
     "metadata": {},
     "output_type": "execute_result"
    }
   ],
   "source": [
    "data['baths'].unique()"
   ]
  },
  {
   "cell_type": "code",
   "execution_count": 402,
   "metadata": {
    "id": "F-iirYygZd93"
   },
   "outputs": [],
   "source": [
    "data['baths'] = pd.to_numeric(data['baths'], errors='coerce').astype('float')"
   ]
  },
  {
   "cell_type": "markdown",
   "metadata": {},
   "source": [
    "Replacing nan with mode"
   ]
  },
  {
   "cell_type": "code",
   "execution_count": 404,
   "metadata": {
    "colab": {
     "base_uri": "https://localhost:8080/"
    },
    "id": "5V_kc4YqzBkx",
    "outputId": "7b998d2c-5118-4d4b-c149-7d0c06e353aa"
   },
   "outputs": [
    {
     "name": "stderr",
     "output_type": "stream",
     "text": [
      "C:\\Users\\Srivatsava CK\\AppData\\Local\\Temp\\ipykernel_46572\\2112247136.py:1: FutureWarning:\n",
      "\n",
      "A value is trying to be set on a copy of a DataFrame or Series through chained assignment using an inplace method.\n",
      "The behavior will change in pandas 3.0. This inplace method will never work because the intermediate object on which we are setting values always behaves as a copy.\n",
      "\n",
      "For example, when doing 'df[col].method(value, inplace=True)', try using 'df.method({col: value}, inplace=True)' or df[col] = df[col].method(value) instead, to perform the operation inplace on the original object.\n",
      "\n",
      "\n",
      "\n"
     ]
    }
   ],
   "source": [
    "data['baths'].fillna(data['baths'].mode()[0], inplace=True)"
   ]
  },
  {
   "cell_type": "code",
   "execution_count": 405,
   "metadata": {
    "colab": {
     "base_uri": "https://localhost:8080/"
    },
    "id": "rZ3jBi2czGYL",
    "outputId": "dd09af8e-4729-45c4-e988-ef87feaba6ae"
   },
   "outputs": [
    {
     "data": {
      "text/plain": [
       "array([ 1. ,  3. ,  2. ,  4. ,  1.5,  0. ,  2.5,  5. ,  4.5,  6. ,  3.5,\n",
       "        5.5,  6.5, 15.5])"
      ]
     },
     "execution_count": 405,
     "metadata": {},
     "output_type": "execute_result"
    }
   ],
   "source": [
    "data['baths'].unique()"
   ]
  },
  {
   "cell_type": "markdown",
   "metadata": {},
   "source": [
    "Now we don't need extra information in name column so we will remove string in name column after first \".\""
   ]
  },
  {
   "cell_type": "code",
   "execution_count": 407,
   "metadata": {
    "id": "7-jeWINuAklQ"
   },
   "outputs": [],
   "source": [
    "data['name'] = data['name'].str.split('·').str[0].str.strip()"
   ]
  },
  {
   "cell_type": "code",
   "execution_count": 408,
   "metadata": {
    "colab": {
     "base_uri": "https://localhost:8080/",
     "height": 241
    },
    "id": "WFSX8sRpBpgz",
    "outputId": "1fa8bba3-5523-46b4-903e-407453c28416"
   },
   "outputs": [
    {
     "data": {
      "text/plain": [
       "1    Rental unit in New York\n",
       "2    Rental unit in New York\n",
       "3    Rental unit in New York\n",
       "4          Condo in New York\n",
       "5    Rental unit in New York\n",
       "Name: name, dtype: object"
      ]
     },
     "execution_count": 408,
     "metadata": {},
     "output_type": "execute_result"
    }
   ],
   "source": [
    "data['name'].head()"
   ]
  },
  {
   "cell_type": "code",
   "execution_count": 409,
   "metadata": {
    "colab": {
     "base_uri": "https://localhost:8080/"
    },
    "id": "-MLLYc1IdZ4w",
    "outputId": "8fdf5dfb-076d-47a2-f232-93a93bdbe454"
   },
   "outputs": [
    {
     "name": "stdout",
     "output_type": "stream",
     "text": [
      "<class 'pandas.core.frame.DataFrame'>\n",
      "Index: 15733 entries, 1 to 20757\n",
      "Data columns (total 23 columns):\n",
      " #   Column                          Non-Null Count  Dtype         \n",
      "---  ------                          --------------  -----         \n",
      " 0   name                            15733 non-null  object        \n",
      " 1   host_id                         15733 non-null  int64         \n",
      " 2   host_name                       15733 non-null  object        \n",
      " 3   neighbourhood_group             15733 non-null  object        \n",
      " 4   neighbourhood                   15733 non-null  object        \n",
      " 5   latitude                        15733 non-null  float64       \n",
      " 6   longitude                       15733 non-null  float64       \n",
      " 7   room_type                       15733 non-null  object        \n",
      " 8   price                           15733 non-null  float64       \n",
      " 9   minimum_nights                  15733 non-null  int64         \n",
      " 10  number_of_reviews               15733 non-null  int64         \n",
      " 11  last_review                     15733 non-null  datetime64[ns]\n",
      " 12  reviews_per_month               15733 non-null  float64       \n",
      " 13  calculated_host_listings_count  15733 non-null  int64         \n",
      " 14  availability_365                15733 non-null  int64         \n",
      " 15  number_of_reviews_ltm           15733 non-null  int64         \n",
      " 16  license                         15733 non-null  object        \n",
      " 17  rating                          15733 non-null  float64       \n",
      " 18  bedrooms                        15733 non-null  Int64         \n",
      " 19  beds                            15733 non-null  int64         \n",
      " 20  baths                           15733 non-null  float64       \n",
      " 21  last_review_year                15733 non-null  int32         \n",
      " 22  last_review_month               15733 non-null  object        \n",
      "dtypes: Int64(1), datetime64[ns](1), float64(6), int32(1), int64(7), object(7)\n",
      "memory usage: 2.8+ MB\n"
     ]
    }
   ],
   "source": [
    "data.info()"
   ]
  },
  {
   "cell_type": "markdown",
   "metadata": {},
   "source": [
    "Checking null values in each column interms of percentage"
   ]
  },
  {
   "cell_type": "code",
   "execution_count": 411,
   "metadata": {
    "colab": {
     "base_uri": "https://localhost:8080/"
    },
    "id": "xw0LicxEgaBL",
    "outputId": "da78770b-2b2d-4de8-bf05-1b13528fe087"
   },
   "outputs": [
    {
     "name": "stdout",
     "output_type": "stream",
     "text": [
      "name                              0.0\n",
      "host_id                           0.0\n",
      "host_name                         0.0\n",
      "neighbourhood_group               0.0\n",
      "neighbourhood                     0.0\n",
      "latitude                          0.0\n",
      "longitude                         0.0\n",
      "room_type                         0.0\n",
      "price                             0.0\n",
      "minimum_nights                    0.0\n",
      "number_of_reviews                 0.0\n",
      "last_review                       0.0\n",
      "reviews_per_month                 0.0\n",
      "calculated_host_listings_count    0.0\n",
      "availability_365                  0.0\n",
      "number_of_reviews_ltm             0.0\n",
      "license                           0.0\n",
      "rating                            0.0\n",
      "bedrooms                          0.0\n",
      "beds                              0.0\n",
      "baths                             0.0\n",
      "last_review_year                  0.0\n",
      "last_review_month                 0.0\n",
      "dtype: float64\n"
     ]
    }
   ],
   "source": [
    "null_percentages = (data.isnull().sum() / len(data)) * 100\n",
    "print(null_percentages)"
   ]
  },
  {
   "cell_type": "markdown",
   "metadata": {
    "id": "RyDfDxq3ddiF"
   },
   "source": [
    "Now lets work on numeric data\n",
    "\n",
    "Now get statistics information on numeric data"
   ]
  },
  {
   "cell_type": "code",
   "execution_count": 413,
   "metadata": {
    "colab": {
     "base_uri": "https://localhost:8080/",
     "height": 300
    },
    "id": "WHkwUz7Udxva",
    "outputId": "801b710c-856e-4f50-ea95-a97499ac04de"
   },
   "outputs": [
    {
     "data": {
      "text/html": [
       "<div>\n",
       "<style scoped>\n",
       "    .dataframe tbody tr th:only-of-type {\n",
       "        vertical-align: middle;\n",
       "    }\n",
       "\n",
       "    .dataframe tbody tr th {\n",
       "        vertical-align: top;\n",
       "    }\n",
       "\n",
       "    .dataframe thead th {\n",
       "        text-align: right;\n",
       "    }\n",
       "</style>\n",
       "<table border=\"1\" class=\"dataframe\">\n",
       "  <thead>\n",
       "    <tr style=\"text-align: right;\">\n",
       "      <th></th>\n",
       "      <th>price</th>\n",
       "      <th>minimum_nights</th>\n",
       "      <th>number_of_reviews</th>\n",
       "      <th>reviews_per_month</th>\n",
       "      <th>calculated_host_listings_count</th>\n",
       "      <th>availability_365</th>\n",
       "      <th>number_of_reviews_ltm</th>\n",
       "    </tr>\n",
       "  </thead>\n",
       "  <tbody>\n",
       "    <tr>\n",
       "      <th>count</th>\n",
       "      <td>15733.000000</td>\n",
       "      <td>15733.000000</td>\n",
       "      <td>15733.000000</td>\n",
       "      <td>15733.000000</td>\n",
       "      <td>15733.000000</td>\n",
       "      <td>15733.000000</td>\n",
       "      <td>15733.000000</td>\n",
       "    </tr>\n",
       "    <tr>\n",
       "      <th>mean</th>\n",
       "      <td>179.026823</td>\n",
       "      <td>27.264222</td>\n",
       "      <td>47.836204</td>\n",
       "      <td>1.445565</td>\n",
       "      <td>15.957160</td>\n",
       "      <td>215.450772</td>\n",
       "      <td>13.116634</td>\n",
       "    </tr>\n",
       "    <tr>\n",
       "      <th>std</th>\n",
       "      <td>1138.816103</td>\n",
       "      <td>27.374094</td>\n",
       "      <td>75.634019</td>\n",
       "      <td>1.739942</td>\n",
       "      <td>56.767617</td>\n",
       "      <td>128.715162</td>\n",
       "      <td>20.034484</td>\n",
       "    </tr>\n",
       "    <tr>\n",
       "      <th>min</th>\n",
       "      <td>10.000000</td>\n",
       "      <td>1.000000</td>\n",
       "      <td>1.000000</td>\n",
       "      <td>0.020000</td>\n",
       "      <td>1.000000</td>\n",
       "      <td>0.000000</td>\n",
       "      <td>0.000000</td>\n",
       "    </tr>\n",
       "    <tr>\n",
       "      <th>25%</th>\n",
       "      <td>82.000000</td>\n",
       "      <td>30.000000</td>\n",
       "      <td>5.000000</td>\n",
       "      <td>0.330000</td>\n",
       "      <td>1.000000</td>\n",
       "      <td>90.000000</td>\n",
       "      <td>2.000000</td>\n",
       "    </tr>\n",
       "    <tr>\n",
       "      <th>50%</th>\n",
       "      <td>125.000000</td>\n",
       "      <td>30.000000</td>\n",
       "      <td>19.000000</td>\n",
       "      <td>0.940000</td>\n",
       "      <td>2.000000</td>\n",
       "      <td>231.000000</td>\n",
       "      <td>6.000000</td>\n",
       "    </tr>\n",
       "    <tr>\n",
       "      <th>75%</th>\n",
       "      <td>197.000000</td>\n",
       "      <td>30.000000</td>\n",
       "      <td>58.000000</td>\n",
       "      <td>2.090000</td>\n",
       "      <td>5.000000</td>\n",
       "      <td>353.000000</td>\n",
       "      <td>19.000000</td>\n",
       "    </tr>\n",
       "    <tr>\n",
       "      <th>max</th>\n",
       "      <td>100000.000000</td>\n",
       "      <td>1000.000000</td>\n",
       "      <td>1618.000000</td>\n",
       "      <td>68.930000</td>\n",
       "      <td>713.000000</td>\n",
       "      <td>365.000000</td>\n",
       "      <td>1075.000000</td>\n",
       "    </tr>\n",
       "  </tbody>\n",
       "</table>\n",
       "</div>"
      ],
      "text/plain": [
       "               price  minimum_nights  number_of_reviews  reviews_per_month  \\\n",
       "count   15733.000000    15733.000000       15733.000000       15733.000000   \n",
       "mean      179.026823       27.264222          47.836204           1.445565   \n",
       "std      1138.816103       27.374094          75.634019           1.739942   \n",
       "min        10.000000        1.000000           1.000000           0.020000   \n",
       "25%        82.000000       30.000000           5.000000           0.330000   \n",
       "50%       125.000000       30.000000          19.000000           0.940000   \n",
       "75%       197.000000       30.000000          58.000000           2.090000   \n",
       "max    100000.000000     1000.000000        1618.000000          68.930000   \n",
       "\n",
       "       calculated_host_listings_count  availability_365  number_of_reviews_ltm  \n",
       "count                    15733.000000      15733.000000           15733.000000  \n",
       "mean                        15.957160        215.450772              13.116634  \n",
       "std                         56.767617        128.715162              20.034484  \n",
       "min                          1.000000          0.000000               0.000000  \n",
       "25%                          1.000000         90.000000               2.000000  \n",
       "50%                          2.000000        231.000000               6.000000  \n",
       "75%                          5.000000        353.000000              19.000000  \n",
       "max                        713.000000        365.000000            1075.000000  "
      ]
     },
     "execution_count": 413,
     "metadata": {},
     "output_type": "execute_result"
    }
   ],
   "source": [
    "data[['price', 'minimum_nights', 'number_of_reviews', 'reviews_per_month', 'calculated_host_listings_count', 'availability_365', 'number_of_reviews_ltm']].describe()"
   ]
  },
  {
   "cell_type": "markdown",
   "metadata": {},
   "source": [
    "Max value is 100,000 which looks impossible\n",
    "\n",
    "Creating box plot horizontally for price outliers"
   ]
  },
  {
   "cell_type": "code",
   "execution_count": 415,
   "metadata": {
    "colab": {
     "base_uri": "https://localhost:8080/",
     "height": 449
    },
    "id": "shRYgqkHdYNO",
    "outputId": "e919ef28-cd41-4059-c70c-ece86cd7c380"
   },
   "outputs": [
    {
     "data": {
      "image/png": "[encoded data removed]",
      "text/plain": [
       "<Figure size 640x480 with 1 Axes>"
      ]
     },
     "metadata": {},
     "output_type": "display_data"
    }
   ],
   "source": [
    "sns.boxplot(x=data['price'])\n",
    "plt.show()"
   ]
  },
  {
   "cell_type": "markdown",
   "metadata": {},
   "source": [
    "filtering rows where the price column is 100000 which is an outlier"
   ]
  },
  {
   "cell_type": "code",
   "execution_count": 417,
   "metadata": {},
   "outputs": [
    {
     "data": {
      "text/html": [
       "<div>\n",
       "<style scoped>\n",
       "    .dataframe tbody tr th:only-of-type {\n",
       "        vertical-align: middle;\n",
       "    }\n",
       "\n",
       "    .dataframe tbody tr th {\n",
       "        vertical-align: top;\n",
       "    }\n",
       "\n",
       "    .dataframe thead th {\n",
       "        text-align: right;\n",
       "    }\n",
       "</style>\n",
       "<table border=\"1\" class=\"dataframe\">\n",
       "  <thead>\n",
       "    <tr style=\"text-align: right;\">\n",
       "      <th></th>\n",
       "      <th>name</th>\n",
       "      <th>host_id</th>\n",
       "      <th>host_name</th>\n",
       "      <th>neighbourhood_group</th>\n",
       "      <th>neighbourhood</th>\n",
       "      <th>latitude</th>\n",
       "      <th>longitude</th>\n",
       "      <th>room_type</th>\n",
       "      <th>price</th>\n",
       "      <th>minimum_nights</th>\n",
       "      <th>number_of_reviews</th>\n",
       "      <th>last_review</th>\n",
       "      <th>reviews_per_month</th>\n",
       "      <th>calculated_host_listings_count</th>\n",
       "      <th>availability_365</th>\n",
       "      <th>number_of_reviews_ltm</th>\n",
       "      <th>license</th>\n",
       "      <th>rating</th>\n",
       "      <th>bedrooms</th>\n",
       "      <th>beds</th>\n",
       "      <th>baths</th>\n",
       "      <th>last_review_year</th>\n",
       "      <th>last_review_month</th>\n",
       "    </tr>\n",
       "  </thead>\n",
       "  <tbody>\n",
       "    <tr>\n",
       "      <th>3990</th>\n",
       "      <td>Rental unit in Brooklyn</td>\n",
       "      <td>110361431</td>\n",
       "      <td>Bobbi</td>\n",
       "      <td>Brooklyn</td>\n",
       "      <td>bedford-stuyvesant</td>\n",
       "      <td>40.69085</td>\n",
       "      <td>-73.93806</td>\n",
       "      <td>Private room</td>\n",
       "      <td>100000.0</td>\n",
       "      <td>30</td>\n",
       "      <td>29</td>\n",
       "      <td>2023-10-20</td>\n",
       "      <td>0.96</td>\n",
       "      <td>2</td>\n",
       "      <td>346</td>\n",
       "      <td>10</td>\n",
       "      <td>No License</td>\n",
       "      <td>4.48</td>\n",
       "      <td>1</td>\n",
       "      <td>1</td>\n",
       "      <td>1.0</td>\n",
       "      <td>2023</td>\n",
       "      <td>Oct</td>\n",
       "    </tr>\n",
       "    <tr>\n",
       "      <th>5492</th>\n",
       "      <td>Rental unit in Brooklyn</td>\n",
       "      <td>110361431</td>\n",
       "      <td>Bobbi</td>\n",
       "      <td>Brooklyn</td>\n",
       "      <td>bedford-stuyvesant</td>\n",
       "      <td>40.69254</td>\n",
       "      <td>-73.93636</td>\n",
       "      <td>Private room</td>\n",
       "      <td>100000.0</td>\n",
       "      <td>30</td>\n",
       "      <td>9</td>\n",
       "      <td>2023-10-31</td>\n",
       "      <td>0.45</td>\n",
       "      <td>2</td>\n",
       "      <td>365</td>\n",
       "      <td>5</td>\n",
       "      <td>No License</td>\n",
       "      <td>4.33</td>\n",
       "      <td>1</td>\n",
       "      <td>1</td>\n",
       "      <td>1.0</td>\n",
       "      <td>2023</td>\n",
       "      <td>Oct</td>\n",
       "    </tr>\n",
       "  </tbody>\n",
       "</table>\n",
       "</div>"
      ],
      "text/plain": [
       "                         name    host_id host_name neighbourhood_group  \\\n",
       "3990  Rental unit in Brooklyn  110361431     Bobbi            Brooklyn   \n",
       "5492  Rental unit in Brooklyn  110361431     Bobbi            Brooklyn   \n",
       "\n",
       "           neighbourhood  latitude  longitude     room_type     price  \\\n",
       "3990  bedford-stuyvesant  40.69085  -73.93806  Private room  100000.0   \n",
       "5492  bedford-stuyvesant  40.69254  -73.93636  Private room  100000.0   \n",
       "\n",
       "      minimum_nights  number_of_reviews last_review  reviews_per_month  \\\n",
       "3990              30                 29  2023-10-20               0.96   \n",
       "5492              30                  9  2023-10-31               0.45   \n",
       "\n",
       "      calculated_host_listings_count  availability_365  number_of_reviews_ltm  \\\n",
       "3990                               2               346                     10   \n",
       "5492                               2               365                      5   \n",
       "\n",
       "         license  rating  bedrooms  beds  baths  last_review_year  \\\n",
       "3990  No License    4.48         1     1    1.0              2023   \n",
       "5492  No License    4.33         1     1    1.0              2023   \n",
       "\n",
       "     last_review_month  \n",
       "3990               Oct  \n",
       "5492               Oct  "
      ]
     },
     "execution_count": 417,
     "metadata": {},
     "output_type": "execute_result"
    }
   ],
   "source": [
    "data[data['price'] == 100000]"
   ]
  },
  {
   "cell_type": "code",
   "execution_count": 418,
   "metadata": {},
   "outputs": [
    {
     "data": {
      "image/png": "[encoded data removed]",
      "text/plain": [
       "<Figure size 640x480 with 1 Axes>"
      ]
     },
     "metadata": {},
     "output_type": "display_data"
    }
   ],
   "source": [
    "sns.histplot(data['price'], kde=True)\n",
    "plt.show()"
   ]
  },
  {
   "cell_type": "code",
   "execution_count": 419,
   "metadata": {},
   "outputs": [
    {
     "name": "stdout",
     "output_type": "stream",
     "text": [
      "Skewness: 85.65008152620963\n"
     ]
    }
   ],
   "source": [
    "skew_value = skew(data['price'].dropna())\n",
    "print(f'Skewness: {skew_value}')"
   ]
  },
  {
   "cell_type": "markdown",
   "metadata": {},
   "source": [
    "Data is clearly skewed we will replace NA value with median price to it"
   ]
  },
  {
   "cell_type": "code",
   "execution_count": 421,
   "metadata": {},
   "outputs": [],
   "source": [
    "data['price'] = data['price'].replace(100000, np.nan)"
   ]
  },
  {
   "cell_type": "markdown",
   "metadata": {},
   "source": [
    "Price data is right skewed so we can replace NA value with median price to it"
   ]
  },
  {
   "cell_type": "code",
   "execution_count": 423,
   "metadata": {
    "colab": {
     "base_uri": "https://localhost:8080/"
    },
    "id": "dtHPjM9Ycjlh",
    "outputId": "47d8e319-a09b-406d-86fe-50d4c31ee010"
   },
   "outputs": [
    {
     "name": "stderr",
     "output_type": "stream",
     "text": [
      "C:\\Users\\Srivatsava CK\\AppData\\Local\\Temp\\ipykernel_46572\\1742672872.py:1: FutureWarning:\n",
      "\n",
      "A value is trying to be set on a copy of a DataFrame or Series through chained assignment using an inplace method.\n",
      "The behavior will change in pandas 3.0. This inplace method will never work because the intermediate object on which we are setting values always behaves as a copy.\n",
      "\n",
      "For example, when doing 'df[col].method(value, inplace=True)', try using 'df.method({col: value}, inplace=True)' or df[col] = df[col].method(value) instead, to perform the operation inplace on the original object.\n",
      "\n",
      "\n",
      "\n"
     ]
    }
   ],
   "source": [
    "data['price'].fillna(data['price'].median(), inplace=True)"
   ]
  },
  {
   "cell_type": "markdown",
   "metadata": {},
   "source": [
    "Counting the values of price column where price exceeds 1000, just checking"
   ]
  },
  {
   "cell_type": "code",
   "execution_count": 425,
   "metadata": {
    "colab": {
     "base_uri": "https://localhost:8080/"
    },
    "id": "vwZTlE6zdoAU",
    "outputId": "1a8f0e7c-d7da-4534-ff98-2084739dca77"
   },
   "outputs": [
    {
     "data": {
      "text/plain": [
       "85"
      ]
     },
     "execution_count": 425,
     "metadata": {},
     "output_type": "execute_result"
    }
   ],
   "source": [
    "data[data['price'] > 1000]['price'].count()"
   ]
  },
  {
   "cell_type": "markdown",
   "metadata": {
    "id": "eQGDS4LXeS7X"
   },
   "source": [
    "there are 85 records with price value greater than 1000 so not making any changes as mean value will not be affected too much for data analysis"
   ]
  },
  {
   "cell_type": "markdown",
   "metadata": {},
   "source": [
    "Minimum nights of 1000 doesn't make sense so let's look at box plot for mimimum nights column"
   ]
  },
  {
   "cell_type": "code",
   "execution_count": 428,
   "metadata": {
    "colab": {
     "base_uri": "https://localhost:8080/",
     "height": 467
    },
    "id": "kRC5BeXLepq9",
    "outputId": "fd5c1762-b97d-4792-b2e8-c6b6aef5fced"
   },
   "outputs": [
    {
     "data": {
      "text/plain": [
       "<module 'matplotlib.pyplot' from 'C:\\\\Users\\\\Srivatsava CK\\\\anaconda3\\\\Lib\\\\site-packages\\\\matplotlib\\\\pyplot.py'>"
      ]
     },
     "execution_count": 428,
     "metadata": {},
     "output_type": "execute_result"
    },
    {
     "data": {
      "image/png": "[encoded data removed]",
      "text/plain": [
       "<Figure size 640x480 with 1 Axes>"
      ]
     },
     "metadata": {},
     "output_type": "display_data"
    }
   ],
   "source": [
    "sns.boxplot(x=data['minimum_nights'])\n",
    "plt"
   ]
  },
  {
   "cell_type": "markdown",
   "metadata": {},
   "source": [
    "Though the data is right but for caculation purpose I am sticking with 90 days as max of minimum nights for analysis purpose\n",
    "\n",
    "Converting values to NA for minimum nights value exceeding 90\n",
    "\n",
    "Using apply and lambda function"
   ]
  },
  {
   "cell_type": "code",
   "execution_count": 430,
   "metadata": {
    "id": "Z75j3fprfjar"
   },
   "outputs": [],
   "source": [
    "data['minimum_nights'] = data['minimum_nights'].apply(lambda x: pd.NA if x > 90 else x)"
   ]
  },
  {
   "cell_type": "code",
   "execution_count": 431,
   "metadata": {
    "colab": {
     "base_uri": "https://localhost:8080/",
     "height": 451
    },
    "id": "K-w5yAELf-lr",
    "outputId": "82fbbd19-45e2-4389-d356-7e8a25ce1553"
   },
   "outputs": [
    {
     "data": {
      "image/png": "[encoded data removed]",
      "text/plain": [
       "<Figure size 640x480 with 1 Axes>"
      ]
     },
     "metadata": {},
     "output_type": "display_data"
    }
   ],
   "source": [
    "sns.histplot(data['minimum_nights'], kde=True)\n",
    "plt.show()"
   ]
  },
  {
   "cell_type": "markdown",
   "metadata": {},
   "source": [
    "Replacing NA values of mimimum nights with median values"
   ]
  },
  {
   "cell_type": "code",
   "execution_count": 433,
   "metadata": {
    "colab": {
     "base_uri": "https://localhost:8080/"
    },
    "id": "U0lfxA_QgU87",
    "outputId": "544f286b-04fe-4ac4-8ee0-7451ec5c8cea"
   },
   "outputs": [
    {
     "name": "stderr",
     "output_type": "stream",
     "text": [
      "C:\\Users\\Srivatsava CK\\AppData\\Local\\Temp\\ipykernel_46572\\1623389380.py:1: FutureWarning:\n",
      "\n",
      "A value is trying to be set on a copy of a DataFrame or Series through chained assignment using an inplace method.\n",
      "The behavior will change in pandas 3.0. This inplace method will never work because the intermediate object on which we are setting values always behaves as a copy.\n",
      "\n",
      "For example, when doing 'df[col].method(value, inplace=True)', try using 'df.method({col: value}, inplace=True)' or df[col] = df[col].method(value) instead, to perform the operation inplace on the original object.\n",
      "\n",
      "\n",
      "\n",
      "C:\\Users\\Srivatsava CK\\AppData\\Local\\Temp\\ipykernel_46572\\1623389380.py:1: FutureWarning:\n",
      "\n",
      "Downcasting object dtype arrays on .fillna, .ffill, .bfill is deprecated and will change in a future version. Call result.infer_objects(copy=False) instead. To opt-in to the future behavior, set `pd.set_option('future.no_silent_downcasting', True)`\n",
      "\n"
     ]
    }
   ],
   "source": [
    "data['minimum_nights'].fillna(data['minimum_nights'].median(), inplace=True)"
   ]
  },
  {
   "cell_type": "code",
   "execution_count": 434,
   "metadata": {
    "colab": {
     "base_uri": "https://localhost:8080/",
     "height": 450
    },
    "id": "Ps89vuiihFFQ",
    "outputId": "ce2cc951-cc0e-42b6-b12a-d614618d873f"
   },
   "outputs": [
    {
     "data": {
      "image/png": "[encoded data removed]",
      "text/plain": [
       "<Figure size 640x480 with 1 Axes>"
      ]
     },
     "metadata": {},
     "output_type": "display_data"
    }
   ],
   "source": [
    "sns.boxplot(x=data['number_of_reviews'])\n",
    "plt.show()"
   ]
  },
  {
   "cell_type": "markdown",
   "metadata": {},
   "source": [
    "First we are creating price_per_category by dividing price by minimum_nights \n",
    "\n",
    "Then creating a new price category by classifying price_per_day into five groups:  \n",
    "- Economy (<3)  \n",
    "- Budget (3-8)  \n",
    "- Mid-range (8-30)  \n",
    "- Premium (30-100)  \n",
    "- Luxury (>100)  \n",
    "\n",
    "This classification is then applied to the price_per_day column, generating a new price_category column in the dataset.\n",
    "\n",
    "In total we are creating two new columns price_per_day and price_category\n"
   ]
  },
  {
   "cell_type": "code",
   "execution_count": 436,
   "metadata": {
    "id": "j3vy1GW0PmQR"
   },
   "outputs": [],
   "source": [
    "\n",
    "data['price_per_day'] = data['price'] / data['minimum_nights'].replace(0, 1)  \n",
    "\n",
    "\n",
    "def price_category(price_per_day):\n",
    "    if price_per_day < 3:\n",
    "        return 'Economy'\n",
    "    elif 3 <= price_per_day < 8:\n",
    "        return 'Budget'\n",
    "    elif 8 <= price_per_day < 30:\n",
    "        return 'Mid-range'\n",
    "    elif 30 <= price_per_day <= 100:\n",
    "        return 'Premium'\n",
    "    else:\n",
    "        return 'Luxury'\n",
    "\n",
    "\n",
    "data['price_category'] = data['price_per_day'].apply(price_category)"
   ]
  },
  {
   "cell_type": "markdown",
   "metadata": {},
   "source": [
    "### Data Analysis & Insights"
   ]
  },
  {
   "cell_type": "markdown",
   "metadata": {},
   "source": [
    "1) How many Airbnb listings are there in each of the five price categories (Economy, Budget, Mid-range, Premium, Luxury)?"
   ]
  },
  {
   "cell_type": "code",
   "execution_count": 439,
   "metadata": {
    "colab": {
     "base_uri": "https://localhost:8080/",
     "height": 272
    },
    "id": "yLrUdEGVbXz1",
    "outputId": "f8f6b88c-8dba-45db-e3f1-6a56eeb95995"
   },
   "outputs": [
    {
     "data": {
      "text/plain": [
       "price_category\n",
       "Budget       7086\n",
       "Economy      4320\n",
       "Mid-range    2017\n",
       "Luxury       1246\n",
       "Premium      1064\n",
       "Name: count, dtype: int64"
      ]
     },
     "execution_count": 439,
     "metadata": {},
     "output_type": "execute_result"
    }
   ],
   "source": [
    "data['price_category'].value_counts()"
   ]
  },
  {
   "cell_type": "code",
   "execution_count": 639,
   "metadata": {},
   "outputs": [
    {
     "data": {
      "image/png": "[encoded data removed]",
      "text/plain": [
       "<Figure size 1400x600 with 2 Axes>"
      ]
     },
     "metadata": {},
     "output_type": "display_data"
    }
   ],
   "source": [
    "import matplotlib.pyplot as plt\n",
    "\n",
    "price_category_counts = data['price_category'].value_counts()\n",
    "\n",
    "colors = [\"royalblue\", \"seagreen\", \"tomato\", \"gold\", \"mediumpurple\"]\n",
    "\n",
    "fig, axes = plt.subplots(1, 2, figsize=(14, 6))\n",
    "\n",
    "axes[0].bar(price_category_counts.index, price_category_counts, color=colors)\n",
    "axes[0].set_xlabel(\"Price Category\", fontsize=12)\n",
    "axes[0].set_ylabel(\"Number of Listings\", fontsize=12)\n",
    "axes[0].set_title(\"Number of Listings by Price Category\", fontsize=14)\n",
    "axes[0].tick_params(axis='x', rotation=45)\n",
    "axes[0].grid(axis=\"y\", linestyle=\"--\", alpha=0.7)\n",
    "\n",
    "axes[1].pie(\n",
    "    price_category_counts, \n",
    "    labels=price_category_counts.index, \n",
    "    autopct=\"%1.1f%%\", \n",
    "    colors=colors, \n",
    "    startangle=140, \n",
    "    wedgeprops={'edgecolor': 'black'}\n",
    ")\n",
    "axes[1].set_title(\"Percentage of Listings by Price Category\", fontsize=14)\n",
    "\n",
    "plt.tight_layout()\n",
    "\n",
    "plt.show()\n"
   ]
  },
  {
   "cell_type": "markdown",
   "metadata": {},
   "source": [
    "*The data shows the number of Airbnb listings in each price category: Budget (7,086), Economy (4,320), Mid-range (2,017), Luxury (1,246), and Premium (1,064).*\n",
    "*The pie chart shows that Budget (45%) and Economy (27.5%) listings dominate NYC’s Airbnb market, while Mid-range (12.8%), Luxury (7.9%), and Premium (6.8%) make up a smaller share.*\n",
    "\n",
    "*This indicates that most listings cater to budget-conscious travelers, while high-end options are less common.*"
   ]
  },
  {
   "cell_type": "markdown",
   "metadata": {},
   "source": [
    "2) What are the most common room types?"
   ]
  },
  {
   "cell_type": "code",
   "execution_count": 443,
   "metadata": {
    "colab": {
     "base_uri": "https://localhost:8080/",
     "height": 241
    },
    "id": "y52J3ZKFs-cB",
    "outputId": "c0d17810-5e49-4c3f-f19d-5f7e972950cf"
   },
   "outputs": [
    {
     "data": {
      "text/plain": [
       "room_type\n",
       "Entire home/apt    8967\n",
       "Private room       6489\n",
       "Shared room         219\n",
       "Hotel room           58\n",
       "Name: count, dtype: int64"
      ]
     },
     "execution_count": 443,
     "metadata": {},
     "output_type": "execute_result"
    }
   ],
   "source": [
    "data['room_type'].value_counts()"
   ]
  },
  {
   "cell_type": "markdown",
   "metadata": {},
   "source": [
    "*The most common room type is Entire home/apt (8,967 listings), followed by Private rooms (6,489 listings), indicating that most Airbnb hosts offer full properties or private spaces. Shared rooms (219) and hotel rooms (58) are much less common, showing limited demand or supply for these options.*"
   ]
  },
  {
   "cell_type": "markdown",
   "metadata": {},
   "source": [
    "3) What is the average price for each room type?"
   ]
  },
  {
   "cell_type": "code",
   "execution_count": 446,
   "metadata": {},
   "outputs": [
    {
     "data": {
      "text/plain": [
       "room_type\n",
       "Private room       108.679920\n",
       "Shared room        118.831050\n",
       "Entire home/apt    208.501059\n",
       "Hotel room         275.896552\n",
       "Name: price, dtype: float64"
      ]
     },
     "execution_count": 446,
     "metadata": {},
     "output_type": "execute_result"
    }
   ],
   "source": [
    "data.groupby(\"room_type\")[\"price\"].mean().sort_values()"
   ]
  },
  {
   "cell_type": "code",
   "execution_count": 447,
   "metadata": {
    "colab": {
     "base_uri": "https://localhost:8080/",
     "height": 562
    },
    "id": "faNZ4SZ-hfqh",
    "outputId": "18e6f501-98c6-42fc-fc94-5e0db7573904"
   },
   "outputs": [
    {
     "data": {
      "image/png": "[encoded data removed]",
      "text/plain": [
       "<Figure size 800x500 with 1 Axes>"
      ]
     },
     "metadata": {},
     "output_type": "display_data"
    }
   ],
   "source": [
    "room_type_price = data.groupby(\"room_type\")[\"price\"].mean().sort_values()\n",
    "\n",
    "\n",
    "plt.figure(figsize=(8, 5))\n",
    "room_type_price.plot(kind=\"bar\", color=[\"blue\", \"green\", \"red\", \"purple\"])\n",
    "\n",
    "\n",
    "plt.xlabel(\"Room Type\")\n",
    "plt.ylabel(\"Average Price (USD)\")\n",
    "plt.title(\"Average Price by Room Type in New York Airbnb Listings\")\n",
    "plt.xticks(rotation=45)\n",
    "plt.grid(axis=\"y\", linestyle=\"--\", alpha=0.7)\n",
    "\n",
    "\n",
    "plt.show()"
   ]
  },
  {
   "cell_type": "markdown",
   "metadata": {},
   "source": [
    "*Hotel rooms have the highest average price (275.90 USD), followed by entire homes/apartments (208.50 USD), while shared rooms (118.83 USD) and private rooms (108.68 USD) are more affordable. This suggests that full properties and hotel-style accommodations cater to higher-paying guests, while private and shared rooms appeal to budget-conscious travelers.*"
   ]
  },
  {
   "cell_type": "markdown",
   "metadata": {},
   "source": [
    "4) Top five expensive listings"
   ]
  },
  {
   "cell_type": "code",
   "execution_count": 450,
   "metadata": {
    "colab": {
     "base_uri": "https://localhost:8080/",
     "height": 206
    },
    "id": "v-5yzjlSqCtx",
    "outputId": "fc75afb4-1c64-4ff9-e769-9969f9c2ded4"
   },
   "outputs": [
    {
     "data": {
      "text/html": [
       "<div>\n",
       "<style scoped>\n",
       "    .dataframe tbody tr th:only-of-type {\n",
       "        vertical-align: middle;\n",
       "    }\n",
       "\n",
       "    .dataframe tbody tr th {\n",
       "        vertical-align: top;\n",
       "    }\n",
       "\n",
       "    .dataframe thead th {\n",
       "        text-align: right;\n",
       "    }\n",
       "</style>\n",
       "<table border=\"1\" class=\"dataframe\">\n",
       "  <thead>\n",
       "    <tr style=\"text-align: right;\">\n",
       "      <th></th>\n",
       "      <th>name</th>\n",
       "      <th>price</th>\n",
       "    </tr>\n",
       "  </thead>\n",
       "  <tbody>\n",
       "    <tr>\n",
       "      <th>4967</th>\n",
       "      <td>Rental unit in Brooklyn</td>\n",
       "      <td>7498.0</td>\n",
       "    </tr>\n",
       "    <tr>\n",
       "      <th>15468</th>\n",
       "      <td>Rental unit in New York</td>\n",
       "      <td>3131.0</td>\n",
       "    </tr>\n",
       "    <tr>\n",
       "      <th>1686</th>\n",
       "      <td>Townhouse in New York</td>\n",
       "      <td>2643.0</td>\n",
       "    </tr>\n",
       "    <tr>\n",
       "      <th>16114</th>\n",
       "      <td>Hotel in New York</td>\n",
       "      <td>2586.0</td>\n",
       "    </tr>\n",
       "    <tr>\n",
       "      <th>15467</th>\n",
       "      <td>Rental unit in New York</td>\n",
       "      <td>2505.0</td>\n",
       "    </tr>\n",
       "  </tbody>\n",
       "</table>\n",
       "</div>"
      ],
      "text/plain": [
       "                          name   price\n",
       "4967   Rental unit in Brooklyn  7498.0\n",
       "15468  Rental unit in New York  3131.0\n",
       "1686     Townhouse in New York  2643.0\n",
       "16114        Hotel in New York  2586.0\n",
       "15467  Rental unit in New York  2505.0"
      ]
     },
     "execution_count": 450,
     "metadata": {},
     "output_type": "execute_result"
    }
   ],
   "source": [
    "data[['name', 'price']].sort_values(by='price', ascending=False).head(5)"
   ]
  },
  {
   "cell_type": "markdown",
   "metadata": {},
   "source": [
    "*The most expensive listing is a rental unit in Brooklyn, priced at $7,498.\n",
    "New York appears multiple times in the top five, indicating it is a hotspot for high-end rentals.\n",
    "The high prices suggest a demand for exclusive, luxury properties in these locations.*"
   ]
  },
  {
   "cell_type": "markdown",
   "metadata": {},
   "source": [
    "5) How many listings are available in each neighbourhood group"
   ]
  },
  {
   "cell_type": "code",
   "execution_count": 453,
   "metadata": {
    "colab": {
     "base_uri": "https://localhost:8080/",
     "height": 272
    },
    "id": "hVJgYUJPtH-8",
    "outputId": "8d2ecc7a-d575-4b0d-b2bb-fed3f928e01a"
   },
   "outputs": [
    {
     "data": {
      "text/plain": [
       "neighbourhood_group\n",
       "Brooklyn         5925\n",
       "Manhattan        5901\n",
       "Queens           2915\n",
       "Bronx             761\n",
       "Staten Island     231\n",
       "Name: count, dtype: int64"
      ]
     },
     "execution_count": 453,
     "metadata": {},
     "output_type": "execute_result"
    }
   ],
   "source": [
    "data['neighbourhood_group'].value_counts()"
   ]
  },
  {
   "cell_type": "code",
   "execution_count": 454,
   "metadata": {},
   "outputs": [
    {
     "data": {
      "image/png": "[encoded data removed]",
      "text/plain": [
       "<Figure size 800x100 with 1 Axes>"
      ]
     },
     "metadata": {},
     "output_type": "display_data"
    }
   ],
   "source": [
    "neighbourhood_counts = data['neighbourhood_group'].value_counts()\n",
    "\n",
    "neighbourhood_counts_reshaped = neighbourhood_counts.values.reshape(1, -1)\n",
    "\n",
    "plt.figure(figsize=(8, 1))\n",
    "sns.heatmap(neighbourhood_counts_reshaped, annot=True, fmt='d', cmap='Blues', cbar=False, xticklabels=neighbourhood_counts.index, yticklabels=False)\n",
    "\n",
    "plt.title('Neighbourhood Group listings Counts Heatmap')\n",
    "plt.show()\n"
   ]
  },
  {
   "cell_type": "markdown",
   "metadata": {},
   "source": [
    "*Brooklyn and Manhattan have the highest number of listings, with 5,925 and 5,901 respectively, making them the primary areas for Airbnb rentals.\n",
    "Queens has a notable presence with 2,915 listings, while Bronx and Staten Island have significantly fewer listings, with 761 and 231 respectively.\n",
    "This indicates that Brooklyn and Manhattan are the most popular and heavily listed neighborhoods, while Staten Island and the Bronx have a much smaller supply.*"
   ]
  },
  {
   "cell_type": "markdown",
   "metadata": {},
   "source": [
    "6) What is the average price for each neighbourhood group(boroughs)?"
   ]
  },
  {
   "cell_type": "code",
   "execution_count": 457,
   "metadata": {
    "colab": {
     "base_uri": "https://localhost:8080/"
    },
    "id": "eCjSxlKYjUo7",
    "outputId": "c0794442-2936-4850-fbd7-8e7694e4933c"
   },
   "outputs": [
    {
     "name": "stdout",
     "output_type": "stream",
     "text": [
      "neighbourhood_group\n",
      "Manhattan        205.544653\n",
      "Brooklyn         157.437468\n",
      "Staten Island    126.640693\n",
      "Queens           123.749571\n",
      "Bronx            106.647832\n",
      "Name: price, dtype: float64\n"
     ]
    }
   ],
   "source": [
    "mean_price_by_neighbourhood = data.groupby('neighbourhood_group')['price'].mean().sort_values(ascending=False)\n",
    "print(mean_price_by_neighbourhood)"
   ]
  },
  {
   "cell_type": "markdown",
   "metadata": {},
   "source": [
    "*Manhattan has the highest average price at 205.54 USD, indicating it is a more expensive area for Airbnb rentals.\n",
    "Brooklyn follows with an average price of 157.44 USD, still relatively high compared to other boroughs.\n",
    "Staten Island has the lowest average price at 126.64 USD, making it the most affordable borough for Airbnb rentals.\n",
    "Queens and Bronx have average prices of 123.75 USD and 106.65 USD, respectively, showing that these areas offer more budget-friendly options.*"
   ]
  },
  {
   "cell_type": "markdown",
   "metadata": {},
   "source": [
    "7) What is the price distribution across different neighbourhood groups (boroughs)?"
   ]
  },
  {
   "cell_type": "code",
   "execution_count": 460,
   "metadata": {
    "colab": {
     "base_uri": "https://localhost:8080/",
     "height": 625
    },
    "id": "rjzYZeRHHlyc",
    "outputId": "926372a1-be22-4f09-a0f1-d17c77c76fd7"
   },
   "outputs": [
    {
     "data": {
      "image/png": "[encoded data removed]",
      "text/plain": [
       "<Figure size 1200x600 with 1 Axes>"
      ]
     },
     "metadata": {},
     "output_type": "display_data"
    }
   ],
   "source": [
    "plt.figure(figsize=(12, 6))\n",
    "sns.boxplot(x='neighbourhood_group', y='price', data=data)\n",
    "plt.title('Price Distribution Across Boroughs')\n",
    "plt.xlabel('Neighborhood Group')\n",
    "plt.ylabel('Price')\n",
    "plt.xticks(rotation=45)\n",
    "plt.ylim(0, 500)\n",
    "plt.show()"
   ]
  },
  {
   "cell_type": "markdown",
   "metadata": {},
   "source": [
    "8) What are the busiest months for reviews?"
   ]
  },
  {
   "cell_type": "code",
   "execution_count": 462,
   "metadata": {
    "colab": {
     "base_uri": "https://localhost:8080/",
     "height": 491
    },
    "id": "q3VCslABxUTF",
    "outputId": "19361099-8841-4a3f-bc7a-850a61200050"
   },
   "outputs": [
    {
     "data": {
      "text/plain": [
       "last_review_month\n",
       "Dec    3910\n",
       "Nov    2883\n",
       "Sep    2421\n",
       "Oct    2257\n",
       "Aug    1504\n",
       "Jul     713\n",
       "Jun     577\n",
       "May     499\n",
       "Jan     365\n",
       "Apr     282\n",
       "Mar     188\n",
       "Feb     134\n",
       "Name: count, dtype: int64"
      ]
     },
     "execution_count": 462,
     "metadata": {},
     "output_type": "execute_result"
    }
   ],
   "source": [
    "data['last_review_month'].value_counts()"
   ]
  },
  {
   "cell_type": "markdown",
   "metadata": {},
   "source": [
    "*December is the busiest month for reviews, with 3,910 reviews, likely due to holiday travel and high seasonal activity.\n",
    "November follows closely with 2,883 reviews, also indicating a peak before the holiday season.\n",
    "September and October also show significant activity with 2,421 and 2,257 reviews, possibly linked to autumn travel trends.\n",
    "Months like January (365), February (134), and March (188) see the lowest review activity, indicating a drop in bookings after the holiday season.*"
   ]
  },
  {
   "cell_type": "markdown",
   "metadata": {},
   "source": [
    "9) Top 10 neighbourhood with averge rating?"
   ]
  },
  {
   "cell_type": "code",
   "execution_count": 465,
   "metadata": {
    "colab": {
     "base_uri": "https://localhost:8080/",
     "height": 429
    },
    "id": "YPXOqspMP_tT",
    "outputId": "d4f12933-a4d5-4ec2-b6cf-f428fc4c5633"
   },
   "outputs": [
    {
     "data": {
      "text/plain": [
       "neighbourhood\n",
       "navy yard          5.000000\n",
       "neponsit           5.000000\n",
       "castle hill        4.970000\n",
       "randall manor      4.952500\n",
       "breezy point       4.947500\n",
       "arden heights      4.945000\n",
       "eastchester        4.943333\n",
       "grymes hill        4.936667\n",
       "gerritsen beach    4.930000\n",
       "eltingville        4.926667\n",
       "Name: rating, dtype: float64"
      ]
     },
     "execution_count": 465,
     "metadata": {},
     "output_type": "execute_result"
    }
   ],
   "source": [
    "data.groupby('neighbourhood')['rating'].mean().sort_values(ascending=False).head(10)"
   ]
  },
  {
   "cell_type": "markdown",
   "metadata": {},
   "source": [
    "*Navy Yard and Neponsit stand out with perfect ratings of 5.00, followed closely by other neighborhoods such as Castle Hill and Randall Manor, all indicating consistently high guest satisfaction in these areas.*"
   ]
  },
  {
   "cell_type": "markdown",
   "metadata": {},
   "source": [
    "10) What are the most profitable neighborhoods based on average price per listing?"
   ]
  },
  {
   "cell_type": "code",
   "execution_count": 468,
   "metadata": {
    "colab": {
     "base_uri": "https://localhost:8080/",
     "height": 772
    },
    "id": "mLe06FgHx85D",
    "outputId": "644c5a0e-0a6a-41ec-e347-77e643554f61"
   },
   "outputs": [
    {
     "name": "stdout",
     "output_type": "stream",
     "text": [
      "neighbourhood\n",
      "tribeca               413.391304\n",
      "todt hill             345.000000\n",
      "soho                  341.821053\n",
      "west village          310.236111\n",
      "greenwich village     298.000000\n",
      "neponsit              295.000000\n",
      "financial district    283.892857\n",
      "vinegar hill          278.818182\n",
      "dumbo                 278.750000\n",
      "theater district      269.010000\n",
      "Name: price, dtype: float64\n"
     ]
    },
    {
     "data": {
      "image/png": "[encoded data removed]",
      "text/plain": [
       "<Figure size 1000x600 with 1 Axes>"
      ]
     },
     "metadata": {},
     "output_type": "display_data"
    }
   ],
   "source": [
    "print(data.groupby('neighbourhood')['price'].mean().sort_values(ascending=False).head(10))\n",
    "\n",
    "df = pd.DataFrame(data)\n",
    "\n",
    "top_neighbourhoods = df.groupby('neighbourhood')['price'].mean().sort_values(ascending=False).head(10)\n",
    "\n",
    "plt.figure(figsize=(10, 6))\n",
    "top_neighbourhoods.plot(kind='barh', color='skyblue', edgecolor='black')\n",
    "\n",
    "plt.xlabel('Average Price per Listing ($)')\n",
    "plt.ylabel('Neighborhood')\n",
    "plt.title('Top 10 Most Profitable Neighborhoods')\n",
    "plt.gca().invert_yaxis()  \n",
    "\n",
    "plt.show()\n"
   ]
  },
  {
   "cell_type": "markdown",
   "metadata": {},
   "source": [
    "*Tribeca is the most profitable neighborhood with an average price of $413.39 per listing, followed by high-demand areas like Todt Hill and Soho. These neighborhoods cater to a premium market, making them the most lucrative for hosts.*"
   ]
  },
  {
   "cell_type": "markdown",
   "metadata": {},
   "source": [
    " 11) Neighborhoods with the highest average price per night\n"
   ]
  },
  {
   "cell_type": "code",
   "execution_count": 471,
   "metadata": {
    "colab": {
     "base_uri": "https://localhost:8080/",
     "height": 882
    },
    "id": "i4XdTDlXWfJH",
    "outputId": "5570854a-1f2d-4e5e-8ce1-17a679c1b079"
   },
   "outputs": [
    {
     "name": "stdout",
     "output_type": "stream",
     "text": [
      "Top 10 Most Expensive Neighborhoods:\n",
      "neighbourhood\n",
      "theater district      152.562496\n",
      "financial district    122.382828\n",
      "midtown               120.007066\n",
      "tribeca               103.495115\n",
      "soho                   82.782467\n",
      "murray hill            77.316838\n",
      "gerritsen beach        65.044444\n",
      "little neck            64.000000\n",
      "downtown brooklyn      62.548246\n",
      "flatiron district      61.828736\n",
      "Name: price_per_day, dtype: float64\n"
     ]
    },
    {
     "data": {
      "image/png": "[encoded data removed]",
      "text/plain": [
       "<Figure size 1200x600 with 1 Axes>"
      ]
     },
     "metadata": {},
     "output_type": "display_data"
    }
   ],
   "source": [
    "avg_price_neighborhood = data.groupby(\"neighbourhood\")[\"price_per_day\"].mean().sort_values(ascending=False)\n",
    "print(\"Top 10 Most Expensive Neighborhoods:\")\n",
    "print(avg_price_neighborhood.head(10))\n",
    "\n",
    "plt.figure(figsize=(12,6))\n",
    "sns.barplot(x=avg_price_neighborhood.head(10).index, y=avg_price_neighborhood.head(10).values)\n",
    "plt.xticks(rotation=45)\n",
    "plt.xlabel(\"Neighborhood\")\n",
    "plt.ylabel(\"Average Price\")\n",
    "plt.title(\"Top 10 Most Expensive Neighborhoods in NYC\")\n",
    "plt.show()"
   ]
  },
  {
   "cell_type": "markdown",
   "metadata": {},
   "source": [
    " *The Theater District has the highest average price per night at $152.56, followed by other premium locations like Financial District and Midtown, suggesting these areas are in high demand for upscale listings.*"
   ]
  },
  {
   "cell_type": "markdown",
   "metadata": {},
   "source": [
    "12) What is the correlation between price, minimum nights, number of reviews, host listings count, availability, and price per day"
   ]
  },
  {
   "cell_type": "code",
   "execution_count": 474,
   "metadata": {
    "colab": {
     "base_uri": "https://localhost:8080/",
     "height": 237
    },
    "id": "d4JH82M8530T",
    "outputId": "794e6a2b-543a-4f21-d4ef-56bb5c63a4c1"
   },
   "outputs": [
    {
     "data": {
      "text/html": [
       "<div>\n",
       "<style scoped>\n",
       "    .dataframe tbody tr th:only-of-type {\n",
       "        vertical-align: middle;\n",
       "    }\n",
       "\n",
       "    .dataframe tbody tr th {\n",
       "        vertical-align: top;\n",
       "    }\n",
       "\n",
       "    .dataframe thead th {\n",
       "        text-align: right;\n",
       "    }\n",
       "</style>\n",
       "<table border=\"1\" class=\"dataframe\">\n",
       "  <thead>\n",
       "    <tr style=\"text-align: right;\">\n",
       "      <th></th>\n",
       "      <th>price</th>\n",
       "      <th>minimum_nights</th>\n",
       "      <th>number_of_reviews</th>\n",
       "      <th>calculated_host_listings_count</th>\n",
       "      <th>availability_365</th>\n",
       "      <th>price_per_day</th>\n",
       "    </tr>\n",
       "  </thead>\n",
       "  <tbody>\n",
       "    <tr>\n",
       "      <th>price</th>\n",
       "      <td>1.000000</td>\n",
       "      <td>-0.129560</td>\n",
       "      <td>-0.030385</td>\n",
       "      <td>-0.018199</td>\n",
       "      <td>0.039234</td>\n",
       "      <td>0.490352</td>\n",
       "    </tr>\n",
       "    <tr>\n",
       "      <th>minimum_nights</th>\n",
       "      <td>-0.129560</td>\n",
       "      <td>1.000000</td>\n",
       "      <td>-0.082588</td>\n",
       "      <td>0.018786</td>\n",
       "      <td>0.107968</td>\n",
       "      <td>-0.511885</td>\n",
       "    </tr>\n",
       "    <tr>\n",
       "      <th>number_of_reviews</th>\n",
       "      <td>-0.030385</td>\n",
       "      <td>-0.082588</td>\n",
       "      <td>1.000000</td>\n",
       "      <td>-0.124926</td>\n",
       "      <td>-0.090158</td>\n",
       "      <td>0.008517</td>\n",
       "    </tr>\n",
       "    <tr>\n",
       "      <th>calculated_host_listings_count</th>\n",
       "      <td>-0.018199</td>\n",
       "      <td>0.018786</td>\n",
       "      <td>-0.124926</td>\n",
       "      <td>1.000000</td>\n",
       "      <td>0.048257</td>\n",
       "      <td>0.011538</td>\n",
       "    </tr>\n",
       "    <tr>\n",
       "      <th>availability_365</th>\n",
       "      <td>0.039234</td>\n",
       "      <td>0.107968</td>\n",
       "      <td>-0.090158</td>\n",
       "      <td>0.048257</td>\n",
       "      <td>1.000000</td>\n",
       "      <td>-0.007694</td>\n",
       "    </tr>\n",
       "    <tr>\n",
       "      <th>price_per_day</th>\n",
       "      <td>0.490352</td>\n",
       "      <td>-0.511885</td>\n",
       "      <td>0.008517</td>\n",
       "      <td>0.011538</td>\n",
       "      <td>-0.007694</td>\n",
       "      <td>1.000000</td>\n",
       "    </tr>\n",
       "  </tbody>\n",
       "</table>\n",
       "</div>"
      ],
      "text/plain": [
       "                                   price  minimum_nights  number_of_reviews  \\\n",
       "price                           1.000000       -0.129560          -0.030385   \n",
       "minimum_nights                 -0.129560        1.000000          -0.082588   \n",
       "number_of_reviews              -0.030385       -0.082588           1.000000   \n",
       "calculated_host_listings_count -0.018199        0.018786          -0.124926   \n",
       "availability_365                0.039234        0.107968          -0.090158   \n",
       "price_per_day                   0.490352       -0.511885           0.008517   \n",
       "\n",
       "                                calculated_host_listings_count  \\\n",
       "price                                                -0.018199   \n",
       "minimum_nights                                        0.018786   \n",
       "number_of_reviews                                    -0.124926   \n",
       "calculated_host_listings_count                        1.000000   \n",
       "availability_365                                      0.048257   \n",
       "price_per_day                                         0.011538   \n",
       "\n",
       "                                availability_365  price_per_day  \n",
       "price                                   0.039234       0.490352  \n",
       "minimum_nights                          0.107968      -0.511885  \n",
       "number_of_reviews                      -0.090158       0.008517  \n",
       "calculated_host_listings_count          0.048257       0.011538  \n",
       "availability_365                        1.000000      -0.007694  \n",
       "price_per_day                          -0.007694       1.000000  "
      ]
     },
     "execution_count": 474,
     "metadata": {},
     "output_type": "execute_result"
    }
   ],
   "source": [
    "df=data[['price', 'minimum_nights', 'number_of_reviews', 'calculated_host_listings_count', 'availability_365','price_per_day']].corr()\n",
    "df"
   ]
  },
  {
   "cell_type": "code",
   "execution_count": 475,
   "metadata": {
    "colab": {
     "base_uri": "https://localhost:8080/",
     "height": 632
    },
    "id": "MVu0rbsZ30Sl",
    "outputId": "103a17b0-cf57-4fb4-8231-88e500c3f31d"
   },
   "outputs": [
    {
     "data": {
      "image/png": "[encoded data removed]",
      "text/plain": [
       "<Figure size 640x480 with 2 Axes>"
      ]
     },
     "metadata": {},
     "output_type": "display_data"
    }
   ],
   "source": [
    "sns.heatmap(df, cmap='RdBu', fmt='.2f', square=True, linecolor='white', annot=True);"
   ]
  },
  {
   "cell_type": "markdown",
   "metadata": {},
   "source": [
    "*There is a negative correlation of -0.51 between price_per_day and minimum_nights.*\n",
    "\n",
    "Let's plot a scatter plot to visualize this relationship."
   ]
  },
  {
   "cell_type": "code",
   "execution_count": 477,
   "metadata": {},
   "outputs": [
    {
     "data": {
      "image/png": "[encoded data removed]",
      "text/plain": [
       "<Figure size 800x600 with 1 Axes>"
      ]
     },
     "metadata": {},
     "output_type": "display_data"
    }
   ],
   "source": [
    "import matplotlib.pyplot as plt\n",
    "import numpy as np\n",
    "from scipy import stats\n",
    "\n",
    "# Scatter plot\n",
    "plt.figure(figsize=(8, 6))\n",
    "plt.scatter(data['minimum_nights'], data['price_per_day'], alpha=0.5, color='blue')\n",
    "\n",
    "# Fit line\n",
    "slope, intercept, r_value, p_value, std_err = stats.linregress(data['minimum_nights'], data['price_per_day'])\n",
    "plt.plot(data['minimum_nights'], slope * data['minimum_nights'] + intercept, color='red', label=f'Line: y = {slope:.2f}x + {intercept:.2f}')\n",
    "\n",
    "# Title and labels\n",
    "plt.title('Scatter Plot between Minimum Nights and Price per Day')\n",
    "plt.xlabel('Minimum Nights')\n",
    "plt.ylabel('Price per Day')\n",
    "\n",
    "# Show legend\n",
    "plt.legend()\n",
    "\n",
    "# Show plot\n",
    "plt.show()\n"
   ]
  },
  {
   "cell_type": "markdown",
   "metadata": {},
   "source": [
    "13) How well do the selected features (rating, price, bedrooms, bathrooms, availability, and minimum nights) predict the rating, and what is the regression model's performance?"
   ]
  },
  {
   "cell_type": "code",
   "execution_count": 479,
   "metadata": {
    "colab": {
     "base_uri": "https://localhost:8080/"
    },
    "id": "R9gjXozcas6H",
    "outputId": "31ed6b0a-c6f0-4da3-84a7-3abf4aa5896c"
   },
   "outputs": [
    {
     "name": "stdout",
     "output_type": "stream",
     "text": [
      "Intercept: 4.714576015085525\n",
      "Coefficients: {'price': 0.00017993156265065546, 'bedrooms': -0.008003148066791511, 'baths': -0.007046810218294152, 'availability_365': -0.000154455261022581, 'minimum_nights': 0.0024292442951735277}\n",
      "R² Score: 0.023897871385041514\n"
     ]
    }
   ],
   "source": [
    "from sklearn.linear_model import LinearRegression\n",
    "\n",
    "# Select relevant columns\n",
    "columns = [\"rating\", \"price\", \"bedrooms\", \"bathrooms\", \"availability_365\", \"minimum_nights\"]\n",
    "\n",
    "\n",
    "# Define independent and dependent variables\n",
    "X = data[[\"price\", \"bedrooms\", \"baths\", \"availability_365\", \"minimum_nights\"]]\n",
    "y = data[\"rating\"]\n",
    "\n",
    "# Check if there are enough data points\n",
    "if X.shape[0] < 10:\n",
    "    print(\"Not enough data points for regression.\")\n",
    "else:\n",
    "    # Initialize and fit the model\n",
    "    model = LinearRegression()\n",
    "    model.fit(X, y)\n",
    "\n",
    "    # Print coefficients\n",
    "    print(\"Intercept:\", model.intercept_)\n",
    "    print(\"Coefficients:\", dict(zip(X.columns, model.coef_)))\n",
    "\n",
    "    # Print R² score\n",
    "    print(\"R² Score:\", model.score(X, y))\n"
   ]
  },
  {
   "cell_type": "markdown",
   "metadata": {},
   "source": [
    "R² Score: The model explains only about 2.39% of the variance in the rating, which is very low. This suggests that the selected features are not good predictors for the rating"
   ]
  },
  {
   "cell_type": "markdown",
   "metadata": {},
   "source": [
    "14) Which neighborhoods in NYC have the highest average listing prices?"
   ]
  },
  {
   "cell_type": "code",
   "execution_count": 625,
   "metadata": {},
   "outputs": [
    {
     "data": {
      "image/png": "[encoded data removed]",
      "text/plain": [
       "<Figure size 1200x800 with 2 Axes>"
      ]
     },
     "metadata": {},
     "output_type": "display_data"
    }
   ],
   "source": [
    "\n",
    "required_columns = [\"neighbourhood\", \"latitude\", \"longitude\", \"price\"]\n",
    "\n",
    "data = data.dropna(subset=required_columns)\n",
    "\n",
    "neighbourhood_avg_price = data.groupby(\"neighbourhood\").agg({\n",
    "    \"latitude\": \"mean\",\n",
    "    \"longitude\": \"mean\",\n",
    "    \"price\": \"mean\"\n",
    "}).reset_index()\n",
    "\n",
    "if neighbourhood_avg_price.empty:\n",
    "    raise ValueError(\"Error: No data available after grouping. Please check column values.\")\n",
    "\n",
    "plt.figure(figsize=(12, 8))\n",
    "\n",
    "hb = plt.hexbin(\n",
    "    x=neighbourhood_avg_price[\"longitude\"],\n",
    "    y=neighbourhood_avg_price[\"latitude\"],\n",
    "    C=neighbourhood_avg_price[\"price\"],\n",
    "    gridsize=50,\n",
    "    cmap=\"viridis\", \n",
    "    reduce_C_function=np.mean,\n",
    "    edgecolors=\"none\"\n",
    ")\n",
    "\n",
    "cb = plt.colorbar(hb, label=\"Average Price ($)\")\n",
    "\n",
    "top_neighbourhoods = neighbourhood_avg_price.nlargest(20, \"price\")\n",
    "\n",
    "label_positions = [\n",
    "    (-74.18, 40.92), (-73.75, 40.90), (-74.00, 40.75), (-73.85, 40.65), (-74.15, 40.80),\n",
    "    (-73.78, 40.55), (-73.95, 40.85), (-74.10, 40.73), (-73.85, 40.78), (-73.70, 40.70),\n",
    "    (-74.05, 40.60), (-74.00, 40.90), (-73.88, 40.88), (-74.12, 40.77), (-73.68, 40.62),\n",
    "    (-73.98, 40.82), (-74.08, 40.87), (-73.80, 40.75), (-73.90, 40.67), (-74.20, 40.65)\n",
    "]\n",
    "\n",
    "for i, (row, (lx, ly)) in enumerate(zip(top_neighbourhoods.itertuples(), label_positions)):\n",
    "    plt.annotate(\n",
    "        row.neighbourhood,\n",
    "        xy=(row.longitude, row.latitude),\n",
    "        xytext=(lx, ly),\n",
    "        fontsize=9,\n",
    "        ha=\"center\",\n",
    "        color=\"black\",\n",
    "        bbox=dict(facecolor=\"white\", alpha=0.7, edgecolor=\"none\", boxstyle=\"round,pad=0.3\"),\n",
    "        arrowprops=dict(arrowstyle=\"->\", color=\"black\", lw=1)\n",
    "    )\n",
    "\n",
    "plt.xlabel(\"Longitude\", fontsize=12, fontweight=\"bold\")\n",
    "plt.ylabel(\"Latitude\", fontsize=12, fontweight=\"bold\")\n",
    "plt.title(\"Choropleth-Style Heatmap of Average Price by Neighbourhood in NYC\", fontsize=14, fontweight=\"bold\")\n",
    "\n",
    "plt.show()\n"
   ]
  },
  {
   "cell_type": "markdown",
   "metadata": {},
   "source": [
    "The heatmap suggests a geographical trend where certain areas, particularly in Manhattan, have significantly higher prices than those in outer boroughs like Staten Island or parts of Brooklyn."
   ]
  },
  {
   "cell_type": "markdown",
   "metadata": {},
   "source": [
    "### SQlAlchemy"
   ]
  },
  {
   "cell_type": "markdown",
   "metadata": {},
   "source": [
    "Creating database using Sqlalchemy"
   ]
  },
  {
   "cell_type": "code",
   "execution_count": 485,
   "metadata": {
    "colab": {
     "base_uri": "https://localhost:8080/"
    },
    "id": "qGKU-5x2j18O",
    "outputId": "17e62ae4-cf3b-44b2-d2ad-56584f0f533f"
   },
   "outputs": [
    {
     "name": "stdout",
     "output_type": "stream",
     "text": [
      "Data stored successfully!\n"
     ]
    }
   ],
   "source": [
    "from sqlalchemy import create_engine\n",
    "\n",
    "DATABASE_URL = \"sqlite:///mydatabase.db\"  \n",
    "engine = create_engine(DATABASE_URL)\n",
    "\n",
    "data.to_sql(\"my_table\", con=engine, if_exists=\"replace\", index=False)\n",
    "\n",
    "print(\"Data stored successfully!\")"
   ]
  },
  {
   "cell_type": "markdown",
   "metadata": {},
   "source": [
    "Checking if the data is stored in the database"
   ]
  },
  {
   "cell_type": "code",
   "execution_count": 487,
   "metadata": {
    "colab": {
     "base_uri": "https://localhost:8080/"
    },
    "id": "YeWpXUEjkGnY",
    "outputId": "53b90678-8602-457f-ac76-4ddaacdd341b"
   },
   "outputs": [
    {
     "name": "stdout",
     "output_type": "stream",
     "text": [
      "                          name    host_id           host_name  \\\n",
      "0      Rental unit in New York   51501835            Jeniffer   \n",
      "1      Rental unit in New York  528871354              Joshua   \n",
      "2      Rental unit in New York   19902271  John And Catherine   \n",
      "3            Condo in New York   61391963      Stay With Vibe   \n",
      "4      Rental unit in New York   51501835            Jeniffer   \n",
      "...                        ...        ...                 ...   \n",
      "15728  Rental unit in New York  186680487             Henry D   \n",
      "15729  Rental unit in New York    3237504               Aspen   \n",
      "15730  Rental unit in New York  304317395                Jeff   \n",
      "15731  Rental unit in New York  163083101             Marissa   \n",
      "15732    Rental unit in Queens   93827372             Glenroy   \n",
      "\n",
      "      neighbourhood_group       neighbourhood   latitude  longitude  \\\n",
      "0               Manhattan      hell's kitchen  40.766610 -73.988100   \n",
      "1               Manhattan             chelsea  40.750764 -73.994605   \n",
      "2               Manhattan  washington heights  40.835600 -73.942500   \n",
      "3               Manhattan         murray hill  40.751120 -73.978600   \n",
      "4               Manhattan      hell's kitchen  40.759950 -73.992960   \n",
      "...                   ...                 ...        ...        ...   \n",
      "15728           Manhattan     lower east side  40.711380 -73.991560   \n",
      "15729           Manhattan   greenwich village  40.730580 -74.000700   \n",
      "15730           Manhattan      hell's kitchen  40.757350 -73.993430   \n",
      "15731           Manhattan           chinatown  40.713750 -73.991470   \n",
      "15732              Queens            rosedale  40.658874 -73.728651   \n",
      "\n",
      "             room_type  price  minimum_nights  number_of_reviews  \\\n",
      "0      Entire home/apt  144.0            30.0                  9   \n",
      "1      Entire home/apt  187.0             2.0                  6   \n",
      "2         Private room  120.0            30.0                156   \n",
      "3      Entire home/apt   85.0            30.0                 11   \n",
      "4      Entire home/apt  115.0            30.0                  5   \n",
      "...                ...    ...             ...                ...   \n",
      "15728     Private room   45.0            30.0                124   \n",
      "15729  Entire home/apt  105.0            30.0                 56   \n",
      "15730  Entire home/apt  299.0            30.0                 60   \n",
      "15731  Entire home/apt  115.0            30.0                  7   \n",
      "15732     Private room  102.0             1.0                 63   \n",
      "\n",
      "                      last_review  reviews_per_month  \\\n",
      "0      2023-05-01 00:00:00.000000               0.24   \n",
      "1      2023-12-18 00:00:00.000000               1.67   \n",
      "2      2023-09-17 00:00:00.000000               1.38   \n",
      "3      2023-12-03 00:00:00.000000               0.24   \n",
      "4      2023-07-29 00:00:00.000000               0.16   \n",
      "...                           ...                ...   \n",
      "15728  2023-09-29 00:00:00.000000               1.81   \n",
      "15729  2023-07-01 00:00:00.000000               0.48   \n",
      "15730  2023-12-08 00:00:00.000000               2.09   \n",
      "15731  2023-09-17 00:00:00.000000               0.91   \n",
      "15732  2023-12-10 00:00:00.000000               4.50   \n",
      "\n",
      "       calculated_host_listings_count  availability_365  \\\n",
      "0                                 139               364   \n",
      "1                                   1               343   \n",
      "2                                   2               363   \n",
      "3                                 133               335   \n",
      "4                                 139               276   \n",
      "...                               ...               ...   \n",
      "15728                               1               157   \n",
      "15729                               1                 0   \n",
      "15730                               1                 0   \n",
      "15731                               1               363   \n",
      "15732                               1                 0   \n",
      "\n",
      "       number_of_reviews_ltm             license  rating  bedrooms  beds  \\\n",
      "0                          2          No License    4.67         2     1   \n",
      "1                          6              Exempt    4.17         1     2   \n",
      "2                         12          No License    4.64         1     1   \n",
      "3                          3          No License    4.91         1     1   \n",
      "4                          2          No License    5.00         1     1   \n",
      "...                      ...                 ...     ...       ...   ...   \n",
      "15728                     12          No License    4.75         1     1   \n",
      "15729                      1          No License    4.46         1     2   \n",
      "15730                     27          No License    4.93         1     1   \n",
      "15731                      7          No License    5.00         1     1   \n",
      "15732                     62  OSE-STRREG-0000513    4.89         1     1   \n",
      "\n",
      "       baths  last_review_year last_review_month  price_per_day price_category  \n",
      "0        1.0              2023               May       4.800000         Budget  \n",
      "1        1.0              2023               Dec      93.500000        Premium  \n",
      "2        1.0              2023               Sep       4.000000         Budget  \n",
      "3        1.0              2023               Dec       2.833333        Economy  \n",
      "4        1.0              2023               Jul       3.833333         Budget  \n",
      "...      ...               ...               ...            ...            ...  \n",
      "15728    1.0              2023               Sep       1.500000        Economy  \n",
      "15729    1.0              2023               Jul       3.500000         Budget  \n",
      "15730    1.0              2023               Dec       9.966667      Mid-range  \n",
      "15731    1.0              2023               Sep       3.833333         Budget  \n",
      "15732    1.0              2023               Dec     102.000000         Luxury  \n",
      "\n",
      "[15733 rows x 25 columns]\n"
     ]
    }
   ],
   "source": [
    "DATABASE_URL = \"sqlite:///mydatabase.db\"\n",
    "engine = create_engine(DATABASE_URL)\n",
    "df = pd.read_sql(\"SELECT * FROM my_table\", con=engine)\n",
    "print(df)\n"
   ]
  },
  {
   "cell_type": "markdown",
   "metadata": {},
   "source": [
    "14) Who are the top 10 hosts with the most listings?\n",
    "\n",
    "Used SQLAlchemy Core"
   ]
  },
  {
   "cell_type": "code",
   "execution_count": 489,
   "metadata": {
    "colab": {
     "base_uri": "https://localhost:8080/"
    },
    "id": "m4XE_527n3HK",
    "outputId": "8494d968-b85f-4800-c876-a823de1123e6"
   },
   "outputs": [
    {
     "name": "stdout",
     "output_type": "stream",
     "text": [
      "     host_id        host_name  count\n",
      "0  162280872  Urban Furnished    127\n",
      "1   51501835         Jeniffer    104\n",
      "2   61391963   Stay With Vibe     91\n",
      "3  219517861     Sonder (NYC)     79\n",
      "4  137358866              Kaz     77\n",
      "5   51548122         Jeniffer     52\n",
      "6  401202937            Eliza     52\n",
      "7  200239515            Shogo     50\n",
      "8   19303369           Hiroki     49\n",
      "9  107434423       Blueground     45\n"
     ]
    }
   ],
   "source": [
    "from sqlalchemy import create_engine, text\n",
    "\n",
    "DATABASE_URL = \"sqlite:///mydatabase.db\"  \n",
    "engine = create_engine(DATABASE_URL)\n",
    "\n",
    "query = text(\"\"\"\n",
    "    SELECT host_id, host_name, COUNT(*) AS count\n",
    "    FROM my_table\n",
    "    GROUP BY host_id, host_name\n",
    "    ORDER BY count DESC\n",
    "    LIMIT 10;\n",
    "\"\"\")\n",
    "\n",
    "with engine.connect() as connection:\n",
    "    result = connection.execute(query)\n",
    "    df = pd.DataFrame(result.fetchall(), columns=result.keys())\n",
    "\n",
    "print(df)"
   ]
  },
  {
   "cell_type": "markdown",
   "metadata": {},
   "source": [
    "*Urban Furnished leads with the most listings (127), followed by Jeniffer with a substantial 104 listings, showing that these hosts dominate the Airbnb platform with a significant number of properties available.*"
   ]
  },
  {
   "cell_type": "markdown",
   "metadata": {},
   "source": [
    "15) Who are the top 10 hosts with the potential of highest total revenue?\n",
    "\n",
    "Used SQLAlchemy ORM "
   ]
  },
  {
   "cell_type": "code",
   "execution_count": 492,
   "metadata": {
    "colab": {
     "base_uri": "https://localhost:8080/"
    },
    "id": "L7ek1qCwowW5",
    "outputId": "2d261ea6-ab60-4884-bfc5-e7d74aca2cad"
   },
   "outputs": [
    {
     "name": "stdout",
     "output_type": "stream",
     "text": [
      "     host_id        host_name  total_price\n",
      "0  162280872  Urban Furnished      19952.0\n",
      "1  219517861     Sonder (NYC)      18732.0\n",
      "2   17775359             Rove      16112.0\n",
      "3  107434423       Blueground      13214.0\n",
      "4   51501835         Jeniffer      12887.0\n",
      "5   19408645            Shaun      12859.0\n",
      "6   61391963   Stay With Vibe       9636.0\n",
      "7   42619297             John       9030.0\n",
      "8  448326434        Boomerang       7637.0\n",
      "9  381698920           Hudson       7584.0\n"
     ]
    }
   ],
   "source": [
    "from sqlalchemy import create_engine, Column, Integer, String, Float\n",
    "from sqlalchemy.orm import declarative_base, sessionmaker\n",
    "import pandas as pd\n",
    "\n",
    "\n",
    "engine = create_engine('sqlite:///my_database.db')\n",
    "\n",
    "Base = declarative_base()\n",
    "\n",
    "class MyTable(Base):\n",
    "    __tablename__ = 'my_table'\n",
    "    id = Column(Integer, primary_key=True, autoincrement=True)\n",
    "    host_id = Column(Integer)\n",
    "    host_name = Column(String)\n",
    "    price = Column(Float)\n",
    "\n",
    "\n",
    "Base.metadata.create_all(engine)\n",
    "\n",
    "Session = sessionmaker(bind=engine)\n",
    "session = Session()\n",
    "\n",
    "from sqlalchemy import func\n",
    "\n",
    "top_hosts = (\n",
    "    session.query(MyTable.host_id, MyTable.host_name, func.sum(MyTable.price).label('total_price'))\n",
    "    .group_by(MyTable.host_id, MyTable.host_name)\n",
    "    .order_by(func.sum(MyTable.price).desc())\n",
    "    .limit(10)\n",
    "    .all()\n",
    ")\n",
    "\n",
    "\n",
    "df_top_hosts = pd.DataFrame(top_hosts, columns=['host_id', 'host_name', 'total_price'])\n",
    "print(df_top_hosts)\n"
   ]
  },
  {
   "cell_type": "markdown",
   "metadata": {},
   "source": [
    " *Urban Furnished leads with the highest potential revenue of $19,952, followed by Sonder (NYC) and Rove. These hosts generate substantial total revenue, indicating a strong presence in the market with high-value listings.*"
   ]
  },
  {
   "cell_type": "markdown",
   "metadata": {},
   "source": [
    "## Business Insights Based on Airbnb Data\n",
    "\n",
    "### 1. Price Categories:\n",
    "- **Budget to Premium:** The majority of listings fall under **Budget** and **Economy** price categories. This suggests that a significant portion of Airbnb customers are looking for affordable accommodations. However, **Luxury** and **Premium** categories have much fewer listings, indicating less competition in the high-end market. This could be a potential opportunity for businesses to focus on high-end offerings.\n",
    "\n",
    "### 2. Room Types:\n",
    "- **Entire homes/apartments** and **private rooms** are the most common types of listings. However, **hotel rooms** have the highest average price, signaling that businesses in this category may be catering to guests willing to pay a premium for hotel-style accommodations.\n",
    "- **Private and shared rooms** are more affordable, catering to budget-conscious travelers, while **entire homes** and **hotel rooms** serve a higher-paying segment of the market.\n",
    "\n",
    "### 3. Neighborhoods with High Revenue Potential:\n",
    "- Areas like **Tribeca**, **Soho**, and **Theater District** have the highest average prices per night, suggesting that businesses focusing on these high-demand, upscale neighborhoods could generate significant revenue.\n",
    "- **Sonder (NYC)** and **Urban Furnished** are among the top hosts with the most listings and revenue, demonstrating that scaling operations in these profitable areas could yield substantial returns.\n",
    "- **Geographical Price Trends:** The heatmap suggests a geographical trend where certain areas, particularly in **Manhattan**, have significantly higher prices than those in outer boroughs like **Staten Island** or parts of **Brooklyn**. This indicates that businesses operating in or near these high-price zones could potentially benefit from location-based pricing strategies.\n",
    "\n",
    "### 4. Performance Metrics & Regression Analysis:\n",
    "- The regression model’s **R² score of 0.02** indicates that the selected features (price, bedrooms, bathrooms, availability, and minimum nights) do not strongly predict the ratings. This suggests that businesses might want to consider other factors (such as location, host responsiveness, and property amenities) for a more accurate forecast of customer ratings.\n",
    "- The **negative correlation between price per day and minimum nights** (-0.51) suggests that longer stays tend to be priced lower per night, which businesses might use to design discount strategies for long-term bookings, encouraging customers to stay for extended periods.\n",
    "\n",
    "### 5. Reviews and Host Performance:\n",
    "- Hosts like **Urban Furnished**, **Sonder (NYC)**, and **Rove** with the highest total revenues show that focusing on **host performance** and managing multiple listings can significantly boost profitability. They often have a large portfolio, which allows for economies of scale and broader market reach.\n",
    "- Listings with **higher reviews** often translate into higher customer trust and pricing potential, meaning businesses should focus on maintaining high-quality customer service and guest satisfaction to improve ratings and command higher prices.\n",
    "\n",
    "### 6. Price Dynamics and Minimum Nights:\n",
    "- A **negative correlation between price per day and minimum nights** implies that longer stays may be incentivized with lower nightly rates, and businesses could leverage this to attract extended stays, particularly in budget-friendly or mid-range listings.\n",
    "\n",
    "### **Business Implications:**\n",
    "- **Opportunities in Luxury and Premium Markets:** With fewer listings in higher-end categories, businesses could invest in these segments for potentially less competition and higher profit margins.\n",
    "- **Targeting Specific Neighborhoods:** High-demand, high-price neighborhoods like **Tribeca** and **Soho** could be more profitable for businesses aiming to cater to premium travelers.\n",
    "- **Host Strategy:** Hosts with more listings and higher revenue potential should focus on improving customer experience and operational efficiencies to maintain or grow their market share.\n",
    "- **Pricing Strategy:** Offering discounts for longer stays could be an effective strategy to attract budget-conscious travelers while maintaining a steady occupancy rate.\n"
   ]
  },
  {
   "cell_type": "markdown",
   "metadata": {},
   "source": [
    "### Conclusion:\n",
    "\n",
    "The insights suggest that businesses should focus on **high-demand, high-price areas** such as **Tribeca**, **Soho**, and other Manhattan neighborhoods, where the **revenue potential is strong**. The **heatmap** shows that certain areas in **Manhattan** have significantly higher prices than those in outer boroughs, indicating that businesses operating in these premium locations can leverage **location-based pricing strategies** for greater profitability.  \n",
    "\n",
    "For **Budget** and **Economy listings**, offering **long-term stay discounts** could increase bookings, as the analysis indicates a **negative correlation between price per day and minimum nights**. Improving **guest satisfaction** and **host performance** will also help achieve better ratings, leading to the ability to **command higher prices**.\n",
    "\n",
    "Finally, businesses operating in the **Luxury and Premium segments** may face **less competition** and find **higher profit margins** due to the limited number of listings in these categories. This presents a **promising opportunity for expansion** in high-end markets.\n"
   ]
  }
 ],
 "metadata": {
  "colab": {
   "provenance": []
  },
  "kernelspec": {
   "display_name": "Python [conda env:base] *",
   "language": "python",
   "name": "conda-base-py"
  },
  "language_info": {
   "codemirror_mode": {
    "name": "ipython",
    "version": 3
   },
   "file_extension": ".py",
   "mimetype": "text/x-python",
   "name": "python",
   "nbconvert_exporter": "python",
   "pygments_lexer": "ipython3",
   "version": "3.12.7"
  }
 },
 "nbformat": 4,
 "nbformat_minor": 4
}
